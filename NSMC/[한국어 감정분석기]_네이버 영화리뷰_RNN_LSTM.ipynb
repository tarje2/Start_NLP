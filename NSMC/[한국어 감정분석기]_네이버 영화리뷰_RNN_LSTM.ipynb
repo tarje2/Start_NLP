{
 "cells": [
  {
   "cell_type": "markdown",
   "metadata": {},
   "source": [
    "### RNN-LSTM 기반의 한국어 감정 분석기\n",
    "##### 네이버 영화 리뷰(NSMC)"
   ]
  },
  {
   "cell_type": "code",
   "execution_count": 1,
   "metadata": {},
   "outputs": [],
   "source": [
    "import pandas as pd\n",
    "import numpy as np\n",
    "%matplotlib inline\n",
    "import matplotlib.pyplot as plt\n",
    "import re\n",
    "import urllib.request\n",
    "from konlpy.tag import Okt\n",
    "from tensorflow.keras.preprocessing.text import Tokenizer\n",
    "from tensorflow.keras.preprocessing.sequence import pad_sequences"
   ]
  },
  {
   "cell_type": "markdown",
   "metadata": {},
   "source": [
    "### 1. 데이터 로드"
   ]
  },
  {
   "cell_type": "code",
   "execution_count": 2,
   "metadata": {},
   "outputs": [],
   "source": [
    "### 데이터 다운로드 / 로드\n",
    "urllib.request.urlretrieve(\"https://raw.githubusercontent.com/e9t/nsmc/master/ratings_train.txt\", filename=\"ratings_train.txt\")\n",
    "urllib.request.urlretrieve(\"https://raw.githubusercontent.com/e9t/nsmc/master/ratings_test.txt\", filename=\"ratings_test.txt\")\n",
    "\n",
    "train_data = pd.read_table('./ratings_train.txt')\n",
    "test_data = pd.read_table('./ratings_test.txt')"
   ]
  },
  {
   "cell_type": "code",
   "execution_count": null,
   "metadata": {},
   "outputs": [],
   "source": []
  },
  {
   "cell_type": "markdown",
   "metadata": {},
   "source": [
    "### 2. 데이터 전처리 및 정제(1)(Train, Test)\n",
    "##### 1) 중복 제거\n",
    "##### 2) Null값 제거\n",
    "##### 3) 한글, 공백 제외 문자 제거\n",
    "##### 4) 전처리 후 Null 값 제거\n",
    "##### 데이터 1차 저장(train_data_set.csv, test_data_set.csv)"
   ]
  },
  {
   "cell_type": "code",
   "execution_count": 3,
   "metadata": {},
   "outputs": [],
   "source": [
    "### Data 처리\n",
    "## Train Data 처리\n",
    "\n",
    "# 1. 중복 확인/제거\n",
    "train_data['document'].nunique(), train_data['label'].nunique()\n",
    "train_data.drop_duplicates(subset=['document'], inplace=True) # document 열에서 중복인 내용이 있다면 중복 제거\n",
    "\n",
    "# 2. Null값 처리\n",
    "train_data = train_data.dropna(how = 'any') # Null 값이 존재하는 행 제거\n",
    "\n",
    "# 3. 전처리(한글과 공백 제외 문자 제거)\n",
    "train_data['document'] = train_data['document'].str.replace(\"[^ㄱ-ㅎㅏ-ㅣ가-힣 ? !]\",\" \") # 한글과 공백을 제외하고 모두 제거\n",
    "train_data['document'] = train_data['document'].str.strip()\n",
    "train_data['document'].replace('', np.nan, inplace=True)\n",
    "\n",
    "# 4. 전처리 후 Null값 처리\n",
    "train_data = train_data.dropna(how = 'any')"
   ]
  },
  {
   "cell_type": "code",
   "execution_count": 4,
   "metadata": {},
   "outputs": [],
   "source": [
    "### Data 처리\n",
    "## Test Data 에도 동일한 작업 수행\n",
    "\n",
    "# 1.중복 확인/제거\n",
    "test_data['document'].nunique(), test_data['label'].nunique()\n",
    "test_data.drop_duplicates(subset = ['document'], inplace=True)\n",
    "\n",
    "# 2. Null값 처리\n",
    "test_data = test_data.dropna(how = 'any') # Null 값이 존재하는 행 제거\n",
    "\n",
    "# 3. 전처리(한글과 공백 제외 문자 제거)\n",
    "test_data['document'] = test_data['document'].str.replace(\"[^ㄱ-ㅎㅏ-ㅣ가-힣 ? !]\",\" \") # 정규 표현식 수행\n",
    "test_data['document'] = test_data['document'].str.strip()\n",
    "test_data['document'].replace('', np.nan, inplace=True)\n",
    "\n",
    "# 4. 전처리 후 Null값 처리\n",
    "test_data = test_data.dropna(how='any') # Null 값 제거"
   ]
  },
  {
   "cell_type": "code",
   "execution_count": 5,
   "metadata": {},
   "outputs": [],
   "source": [
    "### 중복, null값, 전처리(한글, 공백 제외), 전처리 후 null값 처리까지 한 데이터 저장\n",
    "# Train Data\n",
    "train_data.to_csv(\"train_data_set.csv\", mode='w', index=False)\n",
    "\n",
    "# Test Data\n",
    "test_data.to_csv(\"test_data_set.csv\", mode='w', index=False)"
   ]
  },
  {
   "cell_type": "code",
   "execution_count": null,
   "metadata": {},
   "outputs": [],
   "source": []
  },
  {
   "cell_type": "markdown",
   "metadata": {},
   "source": [
    "### 2. 데이터 전처리 및 정제(2)(Train, Test)\n",
    "##### 1) 반복문자 교정\n",
    "##### 2) 띄어쓰기 교정\n",
    "##### 3) 맞춤법 교정\n",
    "##### 데이터 2차 저장(train_last_data.csv, test_last_data.csv)"
   ]
  },
  {
   "cell_type": "code",
   "execution_count": 6,
   "metadata": {},
   "outputs": [],
   "source": [
    "### 전처리 결과를 저장한 데이터 불러오기\n",
    "train_data = pd.read_csv('./train_data_set.csv')\n",
    "test_data = pd.read_csv('./test_data_set.csv')"
   ]
  },
  {
   "cell_type": "code",
   "execution_count": 7,
   "metadata": {},
   "outputs": [],
   "source": [
    "### 데이터 정제 설정\n",
    "from soynlp.normalizer import * # 반복문자 교정\n",
    "from pykospacing import spacing # 띄어쓰기 교정\n",
    "from hanspell import spell_checker # 맞춤법 교정           \n",
    "from pandas import Series, DataFrame # 결과 저장"
   ]
  },
  {
   "cell_type": "code",
   "execution_count": 8,
   "metadata": {},
   "outputs": [],
   "source": [
    "### 데이터 정제 수행 : Train Data\n",
    "# 1) 반복문자 교정\n",
    "# 2) 띄어쓰기 교정\n",
    "# 3) 맞춤법 교정\n",
    "# 4) 결과 저장\n",
    "\n",
    "X_train = []\n",
    "for sentence in train_data['document']:\n",
    "    temp_X = []\n",
    "    temp_X = repeat_normalize(sentence, num_repeats=3) # 1) 반복문자 교정\n",
    "    temp_X = spacing(temp_X) # 2) 띄어쓰기 교정\n",
    "    \n",
    "    try:\n",
    "        temp_X = spell_checker.check(temp_X).checked # 3) 맞춤법 교정\n",
    "    except:\n",
    "        pass\n",
    "\n",
    "    X_train.append(temp_X)\n",
    "\n",
    "# 4) 저장\n",
    "train_last_data = pd.DataFrame({'id': train_data['id'],\n",
    "                                'document': X_train,\n",
    "                                'label': train_data['label']})\n",
    "\n",
    "train_last_data.to_csv(\"train_last_data.csv\", mode='w', index=False)"
   ]
  },
  {
   "cell_type": "code",
   "execution_count": 9,
   "metadata": {},
   "outputs": [],
   "source": [
    "### 데이터 정제 수행 : Test Data\n",
    "# 1) 반복문자 교정\n",
    "# 2) 띄어쓰기 교정\n",
    "# 3) 맞춤법 교정\n",
    "\n",
    "X_test = []\n",
    "for sentence in test_data['document']:\n",
    "    temp_X = []\n",
    "    temp_X = repeat_normalize(sentence, num_repeats=3) # 1) 반복문자 교정\n",
    "    temp_X = spacing(temp_X) # 2) 띄어쓰기 교정\n",
    "    \n",
    "    try:\n",
    "        temp_X = spell_checker.check(temp_X).checked # 3) 맞춤법 교정\n",
    "    except:\n",
    "        pass\n",
    "\n",
    "    X_test.append(temp_X)\n",
    "\n",
    "# 4) 저장\n",
    "test_last_data = pd.DataFrame({'id': test_data['id'],\n",
    "                                'document': X_test,\n",
    "                                'label': test_data['label']})\n",
    "\n",
    "test_last_data.to_csv(\"test_last_data.csv\", mode='w', index=False)"
   ]
  },
  {
   "cell_type": "code",
   "execution_count": null,
   "metadata": {},
   "outputs": [],
   "source": []
  },
  {
   "cell_type": "markdown",
   "metadata": {},
   "source": [
    "### 3. 토큰화 및 불용어(Stopword) 제거(Train, Test)"
   ]
  },
  {
   "cell_type": "code",
   "execution_count": 10,
   "metadata": {},
   "outputs": [],
   "source": [
    "# 저장한 데이터 불러오기!!\n",
    "\n",
    "train_last_data = pd.read_csv('./train_last_data.csv')\n",
    "test_last_data = pd.read_csv('./test_last_data.csv')"
   ]
  },
  {
   "cell_type": "code",
   "execution_count": 11,
   "metadata": {},
   "outputs": [],
   "source": [
    "# 토큰화\n",
    "okt = Okt()\n",
    "\n",
    "# Stopword(불용어) 설정\n",
    "stopwords = ['은','는','이','가','을','다','를','것','안','만','거','적','한','로','나','점','인','수','내','못','고','왜',\n",
    "             '그','말','때','듯','요','볼','중','좀','아','뭐','네','걸','번','건','줄','년','전','저','기','지','끝','용',\n",
    "             '분','데','난','라','별','알','편','야','두','또','임','여','일','면','속','애','성','엔','서','랑','제','씨',\n",
    "             '냐','함','하','뿐','자','영','시','후','어','몇','눈','신','놈','감','남','준','위','살','간','명','뭔','움',\n",
    "             '봄','삶','영화','에서','이가','이고','이렇다','그렇다','이렇게','그렇게']"
   ]
  },
  {
   "cell_type": "code",
   "execution_count": 12,
   "metadata": {},
   "outputs": [],
   "source": [
    "# Train Data : 토큰화 및 Stopword(불용어) 제거 수행\n",
    "\n",
    "X_train = []\n",
    "for sentence in train_last_data['document']:\n",
    "    temp_X = []\n",
    "    temp_X = okt.morphs(sentence, stem=True) # 토큰화\n",
    "    temp_X = [word for word in temp_X if not word in stopwords] # 불용어 제거\n",
    "    X_train.append(temp_X)"
   ]
  },
  {
   "cell_type": "code",
   "execution_count": 13,
   "metadata": {},
   "outputs": [],
   "source": [
    "# Test Data : 토큰화 및 Stopword(불용어) 제거 수행\n",
    "\n",
    "X_test = []\n",
    "for sentence in test_last_data['document']:\n",
    "    temp_X = []\n",
    "    temp_X = okt.morphs(sentence, stem=True) # 토큰화\n",
    "    temp_X = [word for word in temp_X if not word in stopwords] # 불용어 제거\n",
    "    X_test.append(temp_X)"
   ]
  },
  {
   "cell_type": "code",
   "execution_count": null,
   "metadata": {},
   "outputs": [],
   "source": []
  },
  {
   "cell_type": "code",
   "execution_count": 14,
   "metadata": {},
   "outputs": [
    {
     "name": "stdout",
     "output_type": "stream",
     "text": [
      "[['더빙', '진짜', '짜증', '나다', '목소리'], ['흠', '포스터', '보고', '초등학생', '오버', '연기', '조차', '가볍다', '않다'], ['너무', '재밓었다', '그래서', '보다', '추천', '하다'], ['교도소', '이야기', '구먼', '솔직하다', '재미', '없다', '평점', '조정'], ['사이먼', '페그', '의', '익살스럽다', '연기', '돋보이다', '스파이더맨', '늙다', '보이다', '하다', '커스틴', '던스트', '너무나도', '뻐', '보이다'], ['막', '걸음', '마', '떼다', '세', '부터', '초등학교', '학년', '생인', '살다', 'ㅋㅋㅋ', '별반', '개도', '아깝다'], ['원작', '의', '긴장감', '제대로', '살리다', '하다'], ['반', '개도', '아깝다', '욕', '나오다', '음경', '길용우', '연', '생활', '인지', '정말', '발', '해도', '그것', '보단', '낫다', '납치', '감금', '반복', '반복', '드라마', '가족', '도', '없다', '연기', '하다', '사람', '모이다'], ['액션', '없다', '재미있다', '되다'], ['케', '평점', '낮다', '건데', '꽤', '할리우드', '식', '화려하다', '너무', '길들이다', '있다']]\n"
     ]
    }
   ],
   "source": [
    "# 실행하지 말 것.\n",
    "# 임시저장\n",
    "temp_train = X_train\n",
    "temp_test = X_test\n",
    "\n",
    "print(temp_train[:10])"
   ]
  },
  {
   "cell_type": "code",
   "execution_count": 17,
   "metadata": {},
   "outputs": [],
   "source": [
    "# 여기서부터 다시\n",
    "X_train = temp_train\n",
    "X_test = temp_test"
   ]
  },
  {
   "cell_type": "code",
   "execution_count": 20,
   "metadata": {},
   "outputs": [
    {
     "name": "stdout",
     "output_type": "stream",
     "text": [
      "[['더빙', '진짜', '짜증', '나다', '목소리'], ['흠', '포스터', '보고', '초등학생', '오버', '연기', '조차', '가볍다', '않다'], ['너무', '재밓었다', '그래서', '보다', '추천', '하다']]\n",
      "[['굳다', 'ㅋ'], ['평점', '들', '나쁘다', '않다', '짜다', '리', '더', '더욱', '아니다'], ['지루하다', '않다', '완전', '막장', '돈', '주다', '보기', '에는']]\n"
     ]
    }
   ],
   "source": [
    "print(X_train[:3])\n",
    "print(X_test[:3])"
   ]
  },
  {
   "cell_type": "code",
   "execution_count": null,
   "metadata": {},
   "outputs": [],
   "source": []
  },
  {
   "cell_type": "markdown",
   "metadata": {},
   "source": [
    "### 4. 정수 인코딩"
   ]
  },
  {
   "cell_type": "code",
   "execution_count": 21,
   "metadata": {},
   "outputs": [
    {
     "name": "stdout",
     "output_type": "stream",
     "text": [
      "단어 집합(vocabulary)의 크기 : 35165\n",
      "등장 빈도가 2번 이하인 희귀 단어의 수: 17552\n",
      "단어 집합에서 희귀 단어의 비율: 49.91326603156548\n",
      "전체 등장 빈도에서 희귀 단어 등장 빈도 비율: 1.5020675660927245\n"
     ]
    }
   ],
   "source": [
    "### 정수 인코딩\n",
    "## Train Data\n",
    "# 단어 집합 생성\n",
    "\n",
    "tokenizer = Tokenizer()\n",
    "tokenizer.fit_on_texts(X_train)\n",
    "#print(tokenizer.word_index)\n",
    "\n",
    "\n",
    "## 단어 비중 확인\n",
    "threshold = 3\n",
    "total_cnt = len(tokenizer.word_index) # 단어의 수\n",
    "rare_cnt = 0 # 등장 빈도수가 threshold보다 작은 단어의 개수를 카운트\n",
    "total_freq = 0 # 훈련 데이터의 전체 단어 빈도수 총 합\n",
    "rare_freq = 0 # 등장 빈도수가 threshold보다 작은 단어의 등장 빈도수의 총 합\n",
    "\n",
    "## key, value = 단어와 빈도수의 쌍(pair)\n",
    "for key, value in tokenizer.word_counts.items():\n",
    "    total_freq = total_freq + value\n",
    "\n",
    "    # 단어의 등장 빈도수가 threshold보다 작으면\n",
    "    if(value < threshold):\n",
    "        rare_cnt = rare_cnt + 1\n",
    "        rare_freq = rare_freq + value\n",
    "\n",
    "print('단어 집합(vocabulary)의 크기 :',total_cnt)\n",
    "print('등장 빈도가 %s번 이하인 희귀 단어의 수: %s'%(threshold - 1, rare_cnt))\n",
    "print(\"단어 집합에서 희귀 단어의 비율:\", (rare_cnt / total_cnt)*100)\n",
    "print(\"전체 등장 빈도에서 희귀 단어 등장 빈도 비율:\", (rare_freq / total_freq)*100)"
   ]
  },
  {
   "cell_type": "code",
   "execution_count": 22,
   "metadata": {},
   "outputs": [
    {
     "name": "stdout",
     "output_type": "stream",
     "text": [
      "단어 집합의 크기 : 17615\n"
     ]
    }
   ],
   "source": [
    "## 등장 빈도수가 2이하인 단어들의 수를 제외한 단어의 개수를 단어 집합의 최대 크기로 제한\n",
    "# 전체 단어 개수 중 빈도수 2이하인 단어 개수는 제거.\n",
    "# 0번 패딩 토큰과 1번 OOV 토큰을 고려하여 +2\n",
    "vocab_size = total_cnt - rare_cnt + 2\n",
    "\n",
    "print('단어 집합의 크기 :',vocab_size)"
   ]
  },
  {
   "cell_type": "code",
   "execution_count": 23,
   "metadata": {},
   "outputs": [],
   "source": [
    "## 케라스 토크나이저는 텍스트 시퀀스를 숫자 시퀀스로 변환\n",
    "tokenizer = Tokenizer(vocab_size, oov_token = 'OOV') \n",
    "tokenizer.fit_on_texts(X_train)\n",
    "X_train = tokenizer.texts_to_sequences(X_train)\n",
    "X_test = tokenizer.texts_to_sequences(X_test)"
   ]
  },
  {
   "cell_type": "code",
   "execution_count": 24,
   "metadata": {},
   "outputs": [],
   "source": [
    "## Train, Test Data 정답(label)\n",
    "y_train = np.array(train_last_data['label'])\n",
    "y_test = np.array(test_last_data['label'])"
   ]
  },
  {
   "cell_type": "code",
   "execution_count": null,
   "metadata": {},
   "outputs": [],
   "source": []
  },
  {
   "cell_type": "markdown",
   "metadata": {},
   "source": [
    "### 5. 빈 샘플(Empty) 제거"
   ]
  },
  {
   "cell_type": "code",
   "execution_count": 26,
   "metadata": {},
   "outputs": [],
   "source": [
    "### 빈 샘플(Empty) 제거\n",
    "# 각 샘플들의 길이를 확인\n",
    "drop_train = [index for index, sentence in enumerate(X_train) if len(sentence) < 1]\n",
    "\n",
    "# 길이=0인 빈 샘플들을 제거\n",
    "X_train = np.delete(X_train, drop_train, axis=0)\n",
    "y_train = np.delete(y_train, drop_train, axis=0)"
   ]
  },
  {
   "cell_type": "code",
   "execution_count": null,
   "metadata": {},
   "outputs": [],
   "source": []
  },
  {
   "cell_type": "markdown",
   "metadata": {},
   "source": [
    "### 6. 패딩"
   ]
  },
  {
   "cell_type": "code",
   "execution_count": 27,
   "metadata": {},
   "outputs": [
    {
     "name": "stdout",
     "output_type": "stream",
     "text": [
      "리뷰의 최대 길이 : 129\n",
      "리뷰의 평균 길이 : 10.223316551073399\n"
     ]
    },
    {
     "data": {
      "image/png": "[encoded data removed]",
      "text/plain": [
       "<Figure size 432x288 with 1 Axes>"
      ]
     },
     "metadata": {
      "needs_background": "light"
     },
     "output_type": "display_data"
    }
   ],
   "source": [
    "### 동일한 길이로 패딩\n",
    "# 전체 데이터의 길이에 대한 분포 확인\n",
    "print('리뷰의 최대 길이 :',max(len(l) for l in X_train))\n",
    "print('리뷰의 평균 길이 :',sum(map(len, X_train))/len(X_train))\n",
    "plt.hist([len(s) for s in X_train], bins=50)\n",
    "plt.xlabel('length of samples')\n",
    "plt.ylabel('number of samples')\n",
    "plt.show()"
   ]
  },
  {
   "cell_type": "code",
   "execution_count": 28,
   "metadata": {},
   "outputs": [],
   "source": [
    "# 전체 샘플 중 길이가 max_len 이하인 샘플의 비율 확인\n",
    "def below_threshold_len(max_len, nested_list):\n",
    "    cnt = 0\n",
    "    for s in nested_list:\n",
    "        if(len(s) <= max_len):\n",
    "            cnt = cnt + 1\n",
    "    print('전체 샘플 중 길이가 %s 이하인 샘플의 비율: %s'%(max_len, (cnt / len(nested_list))*100))"
   ]
  },
  {
   "cell_type": "code",
   "execution_count": 29,
   "metadata": {},
   "outputs": [
    {
     "name": "stdout",
     "output_type": "stream",
     "text": [
      "전체 샘플 중 길이가 30 이하인 샘플의 비율: 94.81999820928007\n"
     ]
    }
   ],
   "source": [
    "# 동일한 길이 설정을 위한 전체에 대한 비율 확인\n",
    "max_len = 30\n",
    "below_threshold_len(max_len, X_train)"
   ]
  },
  {
   "cell_type": "code",
   "execution_count": 30,
   "metadata": {},
   "outputs": [],
   "source": [
    "# 모두 동일한 길이로 설정(max_len)\n",
    "X_train = pad_sequences(X_train, maxlen = max_len)\n",
    "X_test = pad_sequences(X_test, maxlen = max_len)"
   ]
  },
  {
   "cell_type": "code",
   "execution_count": null,
   "metadata": {},
   "outputs": [],
   "source": []
  },
  {
   "cell_type": "markdown",
   "metadata": {},
   "source": [
    "### 7. LSTM 모델 설정 및 학습/평가"
   ]
  },
  {
   "cell_type": "code",
   "execution_count": 45,
   "metadata": {},
   "outputs": [],
   "source": [
    "### LSTM 모델 설정\n",
    "#from keras.layers import GRU, LSTM, CuDNNGRU, CuDNNLSTM, Activation\n",
    "from tensorflow.keras.layers import Embedding, Dense, LSTM, Dropout\n",
    "from tensorflow.keras.models import Sequential\n",
    "from tensorflow.keras.models import load_model\n",
    "from tensorflow.keras.callbacks import EarlyStopping, ModelCheckpoint\n",
    "\n",
    "model = Sequential()\n",
    "\n",
    "model.add(Embedding(vocab_size, 128, input_length=max_len))\n",
    "model.add(LSTM(128, dropout=0.5, recurrent_dropout=0.5))\n",
    "model.add(Dense(32, activation='relu'))\n",
    "model.add(Dropout(0.5))\n",
    "model.add(Dense(1, activation='sigmoid'))\n",
    "\n",
    "es = EarlyStopping(monitor='val_loss', mode='min', verbose=1, patience=4)\n",
    "mc = ModelCheckpoint('nsmc_best_model.h5', monitor='val_acc', mode='max', verbose=1, save_best_only=True)"
   ]
  },
  {
   "cell_type": "code",
   "execution_count": 46,
   "metadata": {},
   "outputs": [
    {
     "name": "stdout",
     "output_type": "stream",
     "text": [
      "Epoch 1/15\n",
      "907/908 [============================>.] - ETA: 0s - loss: 0.4239 - acc: 0.8079\n",
      "Epoch 00001: val_acc improved from -inf to 0.83718, saving model to nsmc_best_model.h5\n",
      "908/908 [==============================] - 64s 70ms/step - loss: 0.4238 - acc: 0.8079 - val_loss: 0.3706 - val_acc: 0.8372\n",
      "Epoch 2/15\n",
      "907/908 [============================>.] - ETA: 0s - loss: 0.3622 - acc: 0.8442\n",
      "Epoch 00002: val_acc improved from 0.83718 to 0.84232, saving model to nsmc_best_model.h5\n",
      "908/908 [==============================] - 64s 70ms/step - loss: 0.3622 - acc: 0.8442 - val_loss: 0.3603 - val_acc: 0.8423\n",
      "Epoch 3/15\n",
      "907/908 [============================>.] - ETA: 0s - loss: 0.3406 - acc: 0.8553\n",
      "Epoch 00003: val_acc improved from 0.84232 to 0.84438, saving model to nsmc_best_model.h5\n",
      "908/908 [==============================] - 63s 70ms/step - loss: 0.3406 - acc: 0.8553 - val_loss: 0.3542 - val_acc: 0.8444\n",
      "Epoch 4/15\n",
      "907/908 [============================>.] - ETA: 0s - loss: 0.3273 - acc: 0.8631\n",
      "Epoch 00004: val_acc improved from 0.84438 to 0.85010, saving model to nsmc_best_model.h5\n",
      "908/908 [==============================] - 63s 70ms/step - loss: 0.3272 - acc: 0.8631 - val_loss: 0.3448 - val_acc: 0.8501\n",
      "Epoch 5/15\n",
      "907/908 [============================>.] - ETA: 0s - loss: 0.3156 - acc: 0.8707\n",
      "Epoch 00005: val_acc improved from 0.85010 to 0.85189, saving model to nsmc_best_model.h5\n",
      "908/908 [==============================] - 64s 70ms/step - loss: 0.3157 - acc: 0.8707 - val_loss: 0.3409 - val_acc: 0.8519\n",
      "Epoch 6/15\n",
      "907/908 [============================>.] - ETA: 0s - loss: 0.3044 - acc: 0.8756\n",
      "Epoch 00006: val_acc improved from 0.85189 to 0.85192, saving model to nsmc_best_model.h5\n",
      "908/908 [==============================] - 64s 70ms/step - loss: 0.3044 - acc: 0.8756 - val_loss: 0.3388 - val_acc: 0.8519\n",
      "Epoch 7/15\n",
      "907/908 [============================>.] - ETA: 0s - loss: 0.2966 - acc: 0.8803\n",
      "Epoch 00007: val_acc did not improve from 0.85192\n",
      "908/908 [==============================] - 64s 70ms/step - loss: 0.2967 - acc: 0.8803 - val_loss: 0.3474 - val_acc: 0.8503\n",
      "Epoch 8/15\n",
      "907/908 [============================>.] - ETA: 0s - loss: 0.2867 - acc: 0.8856\n",
      "Epoch 00008: val_acc did not improve from 0.85192\n",
      "908/908 [==============================] - 64s 70ms/step - loss: 0.2868 - acc: 0.8856 - val_loss: 0.3482 - val_acc: 0.8511\n",
      "Epoch 9/15\n",
      "907/908 [============================>.] - ETA: 0s - loss: 0.2796 - acc: 0.8900\n",
      "Epoch 00009: val_acc did not improve from 0.85192\n",
      "908/908 [==============================] - 64s 70ms/step - loss: 0.2796 - acc: 0.8900 - val_loss: 0.3536 - val_acc: 0.8501\n",
      "Epoch 10/15\n",
      "907/908 [============================>.] - ETA: 0s - loss: 0.2721 - acc: 0.8927\n",
      "Epoch 00010: val_acc did not improve from 0.85192\n",
      "908/908 [==============================] - 64s 70ms/step - loss: 0.2721 - acc: 0.8927 - val_loss: 0.3545 - val_acc: 0.8484\n",
      "Epoch 00010: early stopping\n"
     ]
    }
   ],
   "source": [
    "### Model 학습 및 생성\n",
    "model.compile(optimizer='rmsprop', loss='binary_crossentropy', metrics=['acc'])\n",
    "history = model.fit(X_train, y_train, epochs=15, callbacks=[es, mc], batch_size=128, validation_split=0.2)"
   ]
  },
  {
   "cell_type": "code",
   "execution_count": 47,
   "metadata": {},
   "outputs": [
    {
     "name": "stdout",
     "output_type": "stream",
     "text": [
      "1527/1527 [==============================] - 8s 6ms/step - loss: 0.3457 - acc: 0.8484\n",
      "\n",
      " 테스트 정확도: 0.8484\n"
     ]
    }
   ],
   "source": [
    "### 생성된 모델 평가\n",
    "loaded_model = load_model('nsmc_best_model.h5')\n",
    "print(\"\\n 테스트 정확도: %.4f\" % (loaded_model.evaluate(X_test, y_test)[1]))"
   ]
  },
  {
   "cell_type": "code",
   "execution_count": 48,
   "metadata": {},
   "outputs": [
    {
     "data": {
      "image/png": "[encoded data removed]",
      "text/plain": [
       "<Figure size 432x288 with 1 Axes>"
      ]
     },
     "metadata": {
      "needs_background": "light"
     },
     "output_type": "display_data"
    }
   ],
   "source": [
    "epochs = range(1, len(history.history['loss']) + 1)\n",
    "plt.plot(epochs, history.history['loss'])\n",
    "plt.plot(epochs, history.history['val_loss'])\n",
    "plt.title('model loss')\n",
    "plt.ylabel('loss')\n",
    "plt.xlabel('epoch')\n",
    "plt.legend(['train', 'train_dev'], loc='upper left')\n",
    "plt.show()"
   ]
  },
  {
   "cell_type": "code",
   "execution_count": 49,
   "metadata": {},
   "outputs": [
    {
     "data": {
      "image/png": "[encoded data removed]",
      "text/plain": [
       "<Figure size 432x288 with 1 Axes>"
      ]
     },
     "metadata": {
      "needs_background": "light"
     },
     "output_type": "display_data"
    }
   ],
   "source": [
    "epochs = range(1, len(history.history['acc']) + 1)\n",
    "plt.plot(epochs, history.history['acc'])\n",
    "plt.plot(epochs, history.history['val_acc'])\n",
    "plt.title('model acc')\n",
    "plt.ylabel('acc')\n",
    "plt.xlabel('epoch')\n",
    "plt.legend(['train', 'train_dev'], loc='upper left')\n",
    "plt.show()"
   ]
  },
  {
   "cell_type": "code",
   "execution_count": null,
   "metadata": {},
   "outputs": [],
   "source": []
  },
  {
   "cell_type": "code",
   "execution_count": 50,
   "metadata": {},
   "outputs": [],
   "source": [
    "from sklearn.model_selection import train_test_split\n",
    "from sklearn.metrics import confusion_matrix\n",
    "import seaborn as sns"
   ]
  },
  {
   "cell_type": "code",
   "execution_count": 51,
   "metadata": {},
   "outputs": [
    {
     "data": {
      "text/plain": [
       "array([[0.9779589 ],\n",
       "       [0.5806041 ],\n",
       "       [0.04059622],\n",
       "       ...,\n",
       "       [0.9198279 ],\n",
       "       [0.00225395],\n",
       "       [0.17061722]], dtype=float32)"
      ]
     },
     "execution_count": 51,
     "metadata": {},
     "output_type": "execute_result"
    }
   ],
   "source": [
    "predictions = model.predict(X_test)\n",
    "predictions"
   ]
  },
  {
   "cell_type": "code",
   "execution_count": 52,
   "metadata": {},
   "outputs": [],
   "source": [
    "y_pred = (predictions > 0.5)\n",
    "cf = confusion_matrix(y_test, y_pred)"
   ]
  },
  {
   "cell_type": "code",
   "execution_count": 53,
   "metadata": {},
   "outputs": [
    {
     "data": {
      "text/html": [
       "<div>\n",
       "<style scoped>\n",
       "    .dataframe tbody tr th:only-of-type {\n",
       "        vertical-align: middle;\n",
       "    }\n",
       "\n",
       "    .dataframe tbody tr th {\n",
       "        vertical-align: top;\n",
       "    }\n",
       "\n",
       "    .dataframe thead th {\n",
       "        text-align: right;\n",
       "    }\n",
       "</style>\n",
       "<table border=\"1\" class=\"dataframe\">\n",
       "  <thead>\n",
       "    <tr style=\"text-align: right;\">\n",
       "      <th></th>\n",
       "      <th>1</th>\n",
       "      <th>0</th>\n",
       "    </tr>\n",
       "  </thead>\n",
       "  <tbody>\n",
       "    <tr>\n",
       "      <th>1</th>\n",
       "      <td>20123</td>\n",
       "      <td>4209</td>\n",
       "    </tr>\n",
       "    <tr>\n",
       "      <th>0</th>\n",
       "      <td>3330</td>\n",
       "      <td>21190</td>\n",
       "    </tr>\n",
       "  </tbody>\n",
       "</table>\n",
       "</div>"
      ],
      "text/plain": [
       "       1      0\n",
       "1  20123   4209\n",
       "0   3330  21190"
      ]
     },
     "execution_count": 53,
     "metadata": {},
     "output_type": "execute_result"
    }
   ],
   "source": [
    "df_cm = DataFrame(cf, index=[i for i in \"10\"], columns= [i for i in \"10\"])\n",
    "df_cm"
   ]
  },
  {
   "cell_type": "code",
   "execution_count": 55,
   "metadata": {},
   "outputs": [
    {
     "data": {
      "text/plain": [
       "<AxesSubplot:title={'center':'confusion matrix without confusion'}>"
      ]
     },
     "execution_count": 55,
     "metadata": {},
     "output_type": "execute_result"
    },
    {
     "data": {
      "image/png": "[encoded data removed]",
      "text/plain": [
       "<Figure size 504x504 with 2 Axes>"
      ]
     },
     "metadata": {
      "needs_background": "light"
     },
     "output_type": "display_data"
    }
   ],
   "source": [
    "plt.figure(figsize = (7,7))\n",
    "plt.title('confusion matrix without confusion')\n",
    "sns.heatmap(df_cm, annot=True, fmt='d')"
   ]
  },
  {
   "cell_type": "code",
   "execution_count": null,
   "metadata": {},
   "outputs": [],
   "source": []
  },
  {
   "cell_type": "markdown",
   "metadata": {},
   "source": [
    "### Private Data 평가 실행"
   ]
  },
  {
   "cell_type": "code",
   "execution_count": 91,
   "metadata": {},
   "outputs": [],
   "source": [
    "def sentiment_predict(new_sentence):\n",
    "    \n",
    "    new_sentence = re.sub(r\"[^ㄱ-ㅎㅏ-ㅣ가-힣 ]\", \" \", new_sentence) # 전처리(한글, 공백 제외한 문자 제거)\n",
    "    new_sentence = repeat_normalize(new_sentence, num_repeats=1) # 반복 문자\n",
    "    new_sentence = spacing(new_sentence) # 띄어쓰기\n",
    "    \n",
    "    try:\n",
    "        new_sentence = spell_checker.check(new_sentence).checked # 맞춤법 교정\n",
    "    except:\n",
    "        pass\n",
    "    \n",
    "    new_sentence = okt.morphs(new_sentence, stem=True) # 토큰화\n",
    "    new_sentence = [word for word in new_sentence if not word in stopwords] # 불용어 제거\n",
    "    encoded = tokenizer.texts_to_sequences([new_sentence]) # 정수 인코딩\n",
    "    pad_new = pad_sequences(encoded, maxlen = max_len) # 패딩\n",
    "    score = float(loaded_model.predict(pad_new)) # 예측\n",
    "    \n",
    "    result = 0  \n",
    "    \n",
    "    if(score > 0.5):\n",
    "        result = 1\n",
    "    else:\n",
    "        result = 0\n",
    "    return result"
   ]
  },
  {
   "cell_type": "code",
   "execution_count": 92,
   "metadata": {},
   "outputs": [
    {
     "name": "stderr",
     "output_type": "stream",
     "text": [
      "<ipython-input-92-22aef0de803e>:6: SettingWithCopyWarning: \n",
      "A value is trying to be set on a copy of a slice from a DataFrame\n",
      "\n",
      "See the caveats in the documentation: https://pandas.pydata.org/pandas-docs/stable/user_guide/indexing.html#returning-a-view-versus-a-copy\n",
      "  eval_data['Predicted'][i] = Predicted\n"
     ]
    }
   ],
   "source": [
    "eval_data = pd.read_csv('./ko_data.csv', engine='python', encoding='utf-8')\n",
    "eval_data['Predicted'] = 0\n",
    "\n",
    "for i in range(len(eval_data)):\n",
    "    Predicted = sentiment_predict(eval_data['Sentence'][i])\n",
    "    eval_data['Predicted'][i] = Predicted\n",
    "    \n",
    "eval_data.drop(['Sentence'], axis='columns', inplace=True)\n",
    "eval_data.to_csv(\"result_2019512014_이동환.csv\", index=False)"
   ]
  },
  {
   "cell_type": "code",
   "execution_count": null,
   "metadata": {},
   "outputs": [],
   "source": []
  }
 ],
 "metadata": {
  "kernelspec": {
   "display_name": "Python 3",
   "language": "python",
   "name": "python3"
  },
  "language_info": {
   "codemirror_mode": {
    "name": "ipython",
    "version": 3
   },
   "file_extension": ".py",
   "mimetype": "text/x-python",
   "name": "python",
   "nbconvert_exporter": "python",
   "pygments_lexer": "ipython3",
   "version": "3.8.5"
  }
 },
 "nbformat": 4,
 "nbformat_minor": 4
}
