{
 "cells": [
  {
   "cell_type": "markdown",
   "metadata": {},
   "source": [
    "### RNN-LSTM 기반의 한국어 감정 분석기\n",
    "##### 네이버 영화 리뷰(NSMC)"
   ]
  },
  {
   "cell_type": "code",
   "execution_count": 10,
   "metadata": {},
   "outputs": [],
   "source": [
    "import pandas as pd\n",
    "import numpy as np\n",
    "%matplotlib inline\n",
    "import matplotlib.pyplot as plt\n",
    "import re\n",
    "import urllib.request\n",
    "from konlpy.tag import Okt\n",
    "from tensorflow.keras.preprocessing.text import Tokenizer\n",
    "from tensorflow.keras.preprocessing.sequence import pad_sequences"
   ]
  },
  {
   "cell_type": "markdown",
   "metadata": {},
   "source": [
    "### 1. 데이터 로드"
   ]
  },
  {
   "cell_type": "code",
   "execution_count": 12,
   "metadata": {},
   "outputs": [],
   "source": [
    "### 데이터 다운로드 / 로드\n",
    "urllib.request.urlretrieve(\"https://raw.githubusercontent.com/e9t/nsmc/master/ratings_train.txt\", filename=\"ratings_train.txt\")\n",
    "urllib.request.urlretrieve(\"https://raw.githubusercontent.com/e9t/nsmc/master/ratings_test.txt\", filename=\"ratings_test.txt\")\n",
    "\n",
    "train_data = pd.read_table('./ratings_train.txt')\n",
    "test_data = pd.read_table('./ratings_test.txt')"
   ]
  },
  {
   "cell_type": "code",
   "execution_count": null,
   "metadata": {},
   "outputs": [],
   "source": []
  },
  {
   "cell_type": "markdown",
   "metadata": {},
   "source": [
    "### 2-1. 데이터 전처리(Train, Test)\n",
    "##### 1) 중복 제거\n",
    "##### 2) Null값 제거\n",
    "##### 3) 한글, 공백 제외 문자 제거\n",
    "##### 4) 전처리 후 Null 값 제거\n",
    "##### 데이터 1차 저장(train_data_set.csv, test_data_set.csv)"
   ]
  },
  {
   "cell_type": "code",
   "execution_count": 13,
   "metadata": {},
   "outputs": [],
   "source": [
    "### Data 처리\n",
    "## Train Data 처리\n",
    "\n",
    "# 1. 중복 확인/제거\n",
    "train_data['document'].nunique(), train_data['label'].nunique()\n",
    "train_data.drop_duplicates(subset=['document'], inplace=True) # document 열에서 중복인 내용이 있다면 중복 제거\n",
    "\n",
    "# 2. Null값 처리\n",
    "train_data = train_data.dropna(how = 'any') # Null 값이 존재하는 행 제거\n",
    "\n",
    "# 3. 전처리(한글과 공백 제외 문자 제거)\n",
    "train_data['document'] = train_data['document'].str.replace(\"[^ㄱ-ㅎㅏ-ㅣ가-힣 ]\",\"\") # 한글과 공백을 제외하고 모두 제거\n",
    "train_data['document'] = train_data['document'].str.strip()\n",
    "train_data['document'].replace('', np.nan, inplace=True)\n",
    "\n",
    "# 4. 전처리 후 Null값 처리\n",
    "train_data = train_data.dropna(how = 'any')"
   ]
  },
  {
   "cell_type": "code",
   "execution_count": 14,
   "metadata": {},
   "outputs": [],
   "source": [
    "### Data 처리\n",
    "## Test Data 에도 동일한 작업 수행\n",
    "\n",
    "# 1.중복 확인/제거\n",
    "test_data['document'].nunique(), test_data['label'].nunique()\n",
    "test_data.drop_duplicates(subset = ['document'], inplace=True)\n",
    "\n",
    "# 2. Null값 처리\n",
    "test_data = test_data.dropna(how = 'any') # Null 값이 존재하는 행 제거\n",
    "\n",
    "# 3. 전처리(한글과 공백 제외 문자 제거)\n",
    "test_data['document'] = test_data['document'].str.replace(\"[^ㄱ-ㅎㅏ-ㅣ가-힣 ]\",\"\") # 정규 표현식 수행\n",
    "test_data['document'] = test_data['document'].str.strip()\n",
    "test_data['document'].replace('', np.nan, inplace=True)\n",
    "\n",
    "\n",
    "# 4. 전처리 후 Null값 처리\n",
    "test_data = test_data.dropna(how='any') # Null 값 제거"
   ]
  },
  {
   "cell_type": "code",
   "execution_count": 15,
   "metadata": {},
   "outputs": [],
   "source": [
    "### 중복, null값, 전처리(한글, 공백 제외), 전처리 후 null값 처리까지 한 데이터 저장\n",
    "# Train Data\n",
    "train_data.to_csv(\"train_data_set.csv\", mode='w', index=False)\n",
    "\n",
    "# Test Data\n",
    "test_data.to_csv(\"test_data_set.csv\", mode='w', index=False)"
   ]
  },
  {
   "cell_type": "code",
   "execution_count": null,
   "metadata": {},
   "outputs": [],
   "source": []
  },
  {
   "cell_type": "markdown",
   "metadata": {},
   "source": [
    "### 2-2. 데이터 정제(Train, Test)\n",
    "##### 1) 반복문자 교정\n",
    "##### 2) 띄어쓰기 교정\n",
    "##### 3) 맞춤법 교정\n",
    "##### 데이터 2차 저장(train_last_data.csv, test_last_data.csv)"
   ]
  },
  {
   "cell_type": "code",
   "execution_count": 36,
   "metadata": {},
   "outputs": [],
   "source": [
    "### 전처리 결과를 저장한 데이터 불러오기\n",
    "train_data = pd.read_csv('./train_data_set.csv')\n",
    "test_data = pd.read_csv('./test_data_set.csv')"
   ]
  },
  {
   "cell_type": "code",
   "execution_count": 37,
   "metadata": {},
   "outputs": [],
   "source": [
    "### 데이터 정제 설정\n",
    "from soynlp.normalizer import * # 반복문자 교정\n",
    "from pykospacing import spacing # 띄어쓰기 교정\n",
    "from hanspell import spell_checker # 맞춤법 교정           \n",
    "from pandas import Series, DataFrame # 결과 저장"
   ]
  },
  {
   "cell_type": "code",
   "execution_count": 38,
   "metadata": {},
   "outputs": [],
   "source": [
    "### 데이터 정제 수행 : Train Data\n",
    "# 1) 반복문자 교정\n",
    "# 2) 띄어쓰기 교정\n",
    "# 3) 맞춤법 교정\n",
    "# 4) 결과 저장\n",
    "\n",
    "X_train = []\n",
    "for sentence in train_data['document']:\n",
    "    temp_X = []\n",
    "    temp_X = repeat_normalize(sentence, num_repeats=3) # 1) 반복문자 교정\n",
    "    temp_X = spacing(temp_X) # 2) 띄어쓰기 교정\n",
    "    \n",
    "    try:\n",
    "        temp_X = spell_checker.check(temp_X).checked # 3) 맞춤법 교정\n",
    "    except:\n",
    "        pass\n",
    "\n",
    "    X_train.append(temp_X)\n",
    "\n",
    "# 4) 저장\n",
    "train_last_data = pd.DataFrame({'id': train_data['id'],\n",
    "                                'document': X_train,\n",
    "                                'label': train_data['label']})\n",
    "\n",
    "train_last_data.to_csv(\"train_last_data.csv\", mode='w', index=False)"
   ]
  },
  {
   "cell_type": "code",
   "execution_count": 39,
   "metadata": {},
   "outputs": [],
   "source": [
    "### 데이터 정제 수행 : Test Data\n",
    "# 1) 반복문자 교정\n",
    "# 2) 띄어쓰기 교정\n",
    "# 3) 맞춤법 교정\n",
    "\n",
    "X_test = []\n",
    "for sentence in test_data['document']:\n",
    "    temp_X = []\n",
    "    temp_X = repeat_normalize(sentence, num_repeats=3) # 1) 반복문자 교정\n",
    "    temp_X = spacing(temp_X) # 2) 띄어쓰기 교정\n",
    "    \n",
    "    try:\n",
    "        temp_X = spell_checker.check(temp_X).checked # 3) 맞춤법 교정\n",
    "    except:\n",
    "        pass\n",
    "\n",
    "    X_test.append(temp_X)\n",
    "\n",
    "# 4) 저장\n",
    "test_last_data = pd.DataFrame({'id': test_data['id'],\n",
    "                                'document': X_test,\n",
    "                                'label': test_data['label']})\n",
    "\n",
    "test_last_data.to_csv(\"test_last_data.csv\", mode='w', index=False)\n"
   ]
  },
  {
   "cell_type": "code",
   "execution_count": null,
   "metadata": {},
   "outputs": [],
   "source": []
  },
  {
   "cell_type": "markdown",
   "metadata": {},
   "source": [
    "### 3. 토큰화 및 불용어(Stopword) 제거(Train, Test)"
   ]
  },
  {
   "cell_type": "code",
   "execution_count": 64,
   "metadata": {},
   "outputs": [],
   "source": [
    "# 저장한 데이터 불러오기!!\n",
    "\n",
    "train_last_data = pd.read_csv('./train_last_data.csv')\n",
    "test_last_data = pd.read_csv('./test_last_data.csv')"
   ]
  },
  {
   "cell_type": "code",
   "execution_count": 65,
   "metadata": {},
   "outputs": [],
   "source": [
    "# 토큰화\n",
    "okt = Okt()\n",
    "\n",
    "# Stopword(불용어) 설정\n",
    "stopwords = ['은','는','이','가','을','다','를','것','안','만','거','적','한','로','나','점','인','수','내','못','고','왜',\n",
    "             '그','말','때','듯','요','볼','중','좀','아','뭐','네','걸','번','건','줄','년','전','저','기','지','끝','용',\n",
    "             '분','데','난','라','별','알','편','야','두','또','임','여','일','면','속','애','성','엔','서','랑','제','씨',\n",
    "             '냐','함','하','뿐','자','영','시','후','어','몇','눈','신','놈','감','남','준','위','살','간','명','뭔','움',\n",
    "             '봄','삶','영화','에서','이가','이고','이렇다','그렇다','이렇게','그렇게']"
   ]
  },
  {
   "cell_type": "code",
   "execution_count": 66,
   "metadata": {},
   "outputs": [],
   "source": [
    "# Train Data : 토큰화 및 Stopword(불용어) 제거 수행\n",
    "\n",
    "X_train = []\n",
    "for sentence in train_last_data['document']:\n",
    "    temp_X = []\n",
    "    temp_X = okt.morphs(sentence, stem=True) # 토큰화\n",
    "    temp_X = [word for word in temp_X if not word in stopwords] # 불용어 제거\n",
    "    X_train.append(temp_X)"
   ]
  },
  {
   "cell_type": "code",
   "execution_count": 67,
   "metadata": {},
   "outputs": [],
   "source": [
    "# Test Data : 토큰화 및 Stopword(불용어) 제거 수행\n",
    "\n",
    "X_test = []\n",
    "for sentence in test_last_data['document']:\n",
    "    temp_X = []\n",
    "    temp_X = okt.morphs(sentence, stem=True) # 토큰화\n",
    "    temp_X = [word for word in temp_X if not word in stopwords] # 불용어 제거\n",
    "    X_test.append(temp_X)"
   ]
  },
  {
   "cell_type": "code",
   "execution_count": null,
   "metadata": {},
   "outputs": [],
   "source": []
  },
  {
   "cell_type": "markdown",
   "metadata": {},
   "source": [
    "### 4. 정수 인코딩"
   ]
  },
  {
   "cell_type": "code",
   "execution_count": 68,
   "metadata": {},
   "outputs": [
    {
     "name": "stdout",
     "output_type": "stream",
     "text": [
      "단어 집합(vocabulary)의 크기 : 35705\n",
      "등장 빈도가 2번 이하인 희귀 단어의 수: 18011\n",
      "단어 집합에서 희귀 단어의 비율: 50.44391541800868\n",
      "전체 등장 빈도에서 희귀 단어 등장 빈도 비율: 1.5393658246901147\n"
     ]
    }
   ],
   "source": [
    "### 정수 인코딩\n",
    "## Train Data\n",
    "# 단어 집합 생성\n",
    "\n",
    "tokenizer = Tokenizer()\n",
    "tokenizer.fit_on_texts(X_train)\n",
    "#print(tokenizer.word_index)\n",
    "\n",
    "\n",
    "## 단어 비중 확인\n",
    "threshold = 3\n",
    "total_cnt = len(tokenizer.word_index) # 단어의 수\n",
    "rare_cnt = 0 # 등장 빈도수가 threshold보다 작은 단어의 개수를 카운트\n",
    "total_freq = 0 # 훈련 데이터의 전체 단어 빈도수 총 합\n",
    "rare_freq = 0 # 등장 빈도수가 threshold보다 작은 단어의 등장 빈도수의 총 합\n",
    "\n",
    "## key, value = 단어와 빈도수의 쌍(pair)\n",
    "for key, value in tokenizer.word_counts.items():\n",
    "    total_freq = total_freq + value\n",
    "\n",
    "    # 단어의 등장 빈도수가 threshold보다 작으면\n",
    "    if(value < threshold):\n",
    "        rare_cnt = rare_cnt + 1\n",
    "        rare_freq = rare_freq + value\n",
    "\n",
    "print('단어 집합(vocabulary)의 크기 :',total_cnt)\n",
    "print('등장 빈도가 %s번 이하인 희귀 단어의 수: %s'%(threshold - 1, rare_cnt))\n",
    "print(\"단어 집합에서 희귀 단어의 비율:\", (rare_cnt / total_cnt)*100)\n",
    "print(\"전체 등장 빈도에서 희귀 단어 등장 빈도 비율:\", (rare_freq / total_freq)*100)"
   ]
  },
  {
   "cell_type": "code",
   "execution_count": 69,
   "metadata": {},
   "outputs": [
    {
     "name": "stdout",
     "output_type": "stream",
     "text": [
      "단어 집합의 크기 : 17696\n"
     ]
    }
   ],
   "source": [
    "## 등장 빈도수가 2이하인 단어들의 수를 제외한 단어의 개수를 단어 집합의 최대 크기로 제한\n",
    "# 전체 단어 개수 중 빈도수 2이하인 단어 개수는 제거.\n",
    "# 0번 패딩 토큰과 1번 OOV 토큰을 고려하여 +2\n",
    "vocab_size = total_cnt - rare_cnt + 2\n",
    "\n",
    "print('단어 집합의 크기 :',vocab_size)"
   ]
  },
  {
   "cell_type": "code",
   "execution_count": 70,
   "metadata": {},
   "outputs": [],
   "source": [
    "## 케라스 토크나이저는 텍스트 시퀀스를 숫자 시퀀스로 변환\n",
    "tokenizer = Tokenizer(vocab_size, oov_token = 'OOV') \n",
    "tokenizer.fit_on_texts(X_train)\n",
    "X_train = tokenizer.texts_to_sequences(X_train)\n",
    "X_test = tokenizer.texts_to_sequences(X_test)"
   ]
  },
  {
   "cell_type": "code",
   "execution_count": 71,
   "metadata": {},
   "outputs": [],
   "source": [
    "## Train, Test Data 정답(label)\n",
    "y_train = np.array(train_data['label'])\n",
    "y_test = np.array(test_data['label'])"
   ]
  },
  {
   "cell_type": "code",
   "execution_count": null,
   "metadata": {},
   "outputs": [],
   "source": []
  },
  {
   "cell_type": "markdown",
   "metadata": {},
   "source": [
    "### 5. 빈 샘플(Empty) 제거"
   ]
  },
  {
   "cell_type": "code",
   "execution_count": 72,
   "metadata": {},
   "outputs": [],
   "source": [
    "### 빈 샘플(Empty) 제거\n",
    "# 각 샘플들의 길이를 확인\n",
    "drop_train = [index for index, sentence in enumerate(X_train) if len(sentence) < 1]\n",
    "\n",
    "# 길이=0인 빈 샘플들을 제거\n",
    "X_train = np.delete(X_train, drop_train, axis=0)\n",
    "y_train = np.delete(y_train, drop_train, axis=0)"
   ]
  },
  {
   "cell_type": "code",
   "execution_count": null,
   "metadata": {},
   "outputs": [],
   "source": []
  },
  {
   "cell_type": "markdown",
   "metadata": {},
   "source": [
    "### 6. 패딩"
   ]
  },
  {
   "cell_type": "code",
   "execution_count": 73,
   "metadata": {},
   "outputs": [
    {
     "name": "stdout",
     "output_type": "stream",
     "text": [
      "리뷰의 최대 길이 : 129\n",
      "리뷰의 평균 길이 : 10.217380524391\n"
     ]
    },
    {
     "data": {
      "image/png": "[encoded data removed]",
      "text/plain": [
       "<Figure size 432x288 with 1 Axes>"
      ]
     },
     "metadata": {
      "needs_background": "light"
     },
     "output_type": "display_data"
    }
   ],
   "source": [
    "### 동일한 길이로 패딩\n",
    "# 전체 데이터의 길이에 대한 분포 확인\n",
    "print('리뷰의 최대 길이 :',max(len(l) for l in X_train))\n",
    "print('리뷰의 평균 길이 :',sum(map(len, X_train))/len(X_train))\n",
    "plt.hist([len(s) for s in X_train], bins=50)\n",
    "plt.xlabel('length of samples')\n",
    "plt.ylabel('number of samples')\n",
    "plt.show()"
   ]
  },
  {
   "cell_type": "code",
   "execution_count": 74,
   "metadata": {},
   "outputs": [],
   "source": [
    "# 전체 샘플 중 길이가 max_len 이하인 샘플의 비율 확인\n",
    "def below_threshold_len(max_len, nested_list):\n",
    "    cnt = 0\n",
    "    for s in nested_list:\n",
    "        if(len(s) <= max_len):\n",
    "            cnt = cnt + 1\n",
    "    print('전체 샘플 중 길이가 %s 이하인 샘플의 비율: %s'%(max_len, (cnt / len(nested_list))*100))"
   ]
  },
  {
   "cell_type": "code",
   "execution_count": 75,
   "metadata": {},
   "outputs": [
    {
     "name": "stdout",
     "output_type": "stream",
     "text": [
      "전체 샘플 중 길이가 30 이하인 샘플의 비율: 94.8194521925384\n"
     ]
    }
   ],
   "source": [
    "# 동일한 길이 설정을 위한 전체에 대한 비율 확인\n",
    "max_len = 30\n",
    "below_threshold_len(max_len, X_train)"
   ]
  },
  {
   "cell_type": "code",
   "execution_count": 76,
   "metadata": {},
   "outputs": [],
   "source": [
    "# 모두 동일한 길이로 설정(max_len)\n",
    "X_train = pad_sequences(X_train, maxlen = max_len)\n",
    "X_test = pad_sequences(X_test, maxlen = max_len)"
   ]
  },
  {
   "cell_type": "code",
   "execution_count": null,
   "metadata": {},
   "outputs": [],
   "source": []
  },
  {
   "cell_type": "markdown",
   "metadata": {},
   "source": [
    "### 7. LSTM 모델 설정 및 학습/평가"
   ]
  },
  {
   "cell_type": "code",
   "execution_count": 77,
   "metadata": {},
   "outputs": [],
   "source": [
    "### LSTM 모델 설정\n",
    "#from keras.layers import GRU, LSTM, CuDNNGRU, CuDNNLSTM, Activation\n",
    "from tensorflow.keras.layers import Embedding, Dense, LSTM, Dropout\n",
    "from tensorflow.keras.models import Sequential\n",
    "from tensorflow.keras.models import load_model\n",
    "from tensorflow.keras.callbacks import EarlyStopping, ModelCheckpoint\n",
    "\n",
    "model = Sequential()\n",
    "model.add(Embedding(vocab_size, 128))\n",
    "model.add(LSTM(128))\n",
    "model.add(Dense(1, activation='sigmoid'))\n",
    "\n",
    "es = EarlyStopping(monitor='val_loss', mode='min', verbose=1, patience=4)\n",
    "mc = ModelCheckpoint('nsmc_best_model.h5', monitor='val_acc', mode='max', verbose=1, save_best_only=True)"
   ]
  },
  {
   "cell_type": "code",
   "execution_count": 78,
   "metadata": {},
   "outputs": [
    {
     "name": "stdout",
     "output_type": "stream",
     "text": [
      "Epoch 1/5\n",
      "907/908 [============================>.] - ETA: 0s - loss: 0.3992 - acc: 0.8184\n",
      "Epoch 00001: val_acc improved from -inf to 0.83375, saving model to nsmc_best_model.h5\n",
      "908/908 [==============================] - 32s 36ms/step - loss: 0.3992 - acc: 0.8184 - val_loss: 0.3729 - val_acc: 0.8337\n",
      "Epoch 2/5\n",
      "908/908 [==============================] - ETA: 0s - loss: 0.3380 - acc: 0.8524\n",
      "Epoch 00002: val_acc improved from 0.83375 to 0.84804, saving model to nsmc_best_model.h5\n",
      "908/908 [==============================] - 32s 36ms/step - loss: 0.3380 - acc: 0.8524 - val_loss: 0.3490 - val_acc: 0.8480\n",
      "Epoch 3/5\n",
      "908/908 [==============================] - ETA: 0s - loss: 0.3127 - acc: 0.8656\n",
      "Epoch 00003: val_acc did not improve from 0.84804\n",
      "908/908 [==============================] - 32s 35ms/step - loss: 0.3127 - acc: 0.8656 - val_loss: 0.3492 - val_acc: 0.8464\n",
      "Epoch 4/5\n",
      "907/908 [============================>.] - ETA: 0s - loss: 0.2928 - acc: 0.8758\n",
      "Epoch 00004: val_acc improved from 0.84804 to 0.85114, saving model to nsmc_best_model.h5\n",
      "908/908 [==============================] - 32s 35ms/step - loss: 0.2928 - acc: 0.8758 - val_loss: 0.3385 - val_acc: 0.8511\n",
      "Epoch 5/5\n",
      "908/908 [==============================] - ETA: 0s - loss: 0.2750 - acc: 0.8853\n",
      "Epoch 00005: val_acc did not improve from 0.85114\n",
      "908/908 [==============================] - 32s 35ms/step - loss: 0.2750 - acc: 0.8853 - val_loss: 0.3476 - val_acc: 0.8506\n"
     ]
    }
   ],
   "source": [
    "### Model 학습 및 생성\n",
    "model.compile(optimizer='rmsprop', loss='binary_crossentropy', metrics=['acc'])\n",
    "history = model.fit(X_train, y_train, epochs=5, callbacks=[es, mc], batch_size=128, validation_split=0.2)"
   ]
  },
  {
   "cell_type": "code",
   "execution_count": 79,
   "metadata": {},
   "outputs": [
    {
     "name": "stdout",
     "output_type": "stream",
     "text": [
      "1527/1527 [==============================] - 6s 4ms/step - loss: 0.3426 - acc: 0.8497\n",
      "\n",
      " 테스트 정확도: 0.8497\n"
     ]
    }
   ],
   "source": [
    "### 생성된 모델 평가\n",
    "loaded_model = load_model('nsmc_best_model.h5')\n",
    "print(\"\\n 테스트 정확도: %.4f\" % (loaded_model.evaluate(X_test, y_test)[1]))"
   ]
  },
  {
   "cell_type": "code",
   "execution_count": null,
   "metadata": {},
   "outputs": [],
   "source": []
  },
  {
   "cell_type": "code",
   "execution_count": 80,
   "metadata": {},
   "outputs": [],
   "source": [
    "from sklearn.model_selection import train_test_split\n",
    "from sklearn.metrics import confusion_matrix\n",
    "import seaborn as sns"
   ]
  },
  {
   "cell_type": "code",
   "execution_count": 81,
   "metadata": {},
   "outputs": [
    {
     "data": {
      "text/plain": [
       "array([[0.9744469 ],\n",
       "       [0.31794012],\n",
       "       [0.01070991],\n",
       "       ...,\n",
       "       [0.7447467 ],\n",
       "       [0.00392926],\n",
       "       [0.12167564]], dtype=float32)"
      ]
     },
     "execution_count": 81,
     "metadata": {},
     "output_type": "execute_result"
    }
   ],
   "source": [
    "predictions = model.predict(X_test)\n",
    "predictions"
   ]
  },
  {
   "cell_type": "code",
   "execution_count": 82,
   "metadata": {},
   "outputs": [],
   "source": [
    "y_pred = (predictions > 0.5)\n",
    "cf = confusion_matrix(y_test, y_pred)"
   ]
  },
  {
   "cell_type": "code",
   "execution_count": 83,
   "metadata": {},
   "outputs": [
    {
     "name": "stdout",
     "output_type": "stream",
     "text": [
      "[[21244  3088]\n",
      " [ 4417 20103]]\n"
     ]
    }
   ],
   "source": [
    "print(cf)"
   ]
  },
  {
   "cell_type": "code",
   "execution_count": 86,
   "metadata": {},
   "outputs": [
    {
     "name": "stdout",
     "output_type": "stream",
     "text": [
      "[[ True]\n",
      " [False]\n",
      " [False]\n",
      " ...\n",
      " [ True]\n",
      " [False]\n",
      " [False]]\n"
     ]
    }
   ],
   "source": [
    "print(y_pred)"
   ]
  },
  {
   "cell_type": "code",
   "execution_count": 84,
   "metadata": {},
   "outputs": [
    {
     "data": {
      "text/html": [
       "<div>\n",
       "<style scoped>\n",
       "    .dataframe tbody tr th:only-of-type {\n",
       "        vertical-align: middle;\n",
       "    }\n",
       "\n",
       "    .dataframe tbody tr th {\n",
       "        vertical-align: top;\n",
       "    }\n",
       "\n",
       "    .dataframe thead th {\n",
       "        text-align: right;\n",
       "    }\n",
       "</style>\n",
       "<table border=\"1\" class=\"dataframe\">\n",
       "  <thead>\n",
       "    <tr style=\"text-align: right;\">\n",
       "      <th></th>\n",
       "      <th>1</th>\n",
       "      <th>0</th>\n",
       "    </tr>\n",
       "  </thead>\n",
       "  <tbody>\n",
       "    <tr>\n",
       "      <th>1</th>\n",
       "      <td>21244</td>\n",
       "      <td>3088</td>\n",
       "    </tr>\n",
       "    <tr>\n",
       "      <th>0</th>\n",
       "      <td>4417</td>\n",
       "      <td>20103</td>\n",
       "    </tr>\n",
       "  </tbody>\n",
       "</table>\n",
       "</div>"
      ],
      "text/plain": [
       "       1      0\n",
       "1  21244   3088\n",
       "0   4417  20103"
      ]
     },
     "execution_count": 84,
     "metadata": {},
     "output_type": "execute_result"
    }
   ],
   "source": [
    "df_cm = DataFrame(cf, index=[i for i in \"10\"], columns= [i for i in \"10\"])\n",
    "df_cm"
   ]
  },
  {
   "cell_type": "code",
   "execution_count": 85,
   "metadata": {},
   "outputs": [
    {
     "data": {
      "text/plain": [
       "<AxesSubplot:title={'center':'confusion matrix without confusion'}>"
      ]
     },
     "execution_count": 85,
     "metadata": {},
     "output_type": "execute_result"
    },
    {
     "data": {
      "image/png": "[encoded data removed]",
      "text/plain": [
       "<Figure size 504x504 with 2 Axes>"
      ]
     },
     "metadata": {
      "needs_background": "light"
     },
     "output_type": "display_data"
    }
   ],
   "source": [
    "plt.figure(figsize = (7,7))\n",
    "plt.title('confusion matrix without confusion')\n",
    "sns.heatmap(df_cm, annot=True, fmt='d')"
   ]
  },
  {
   "cell_type": "code",
   "execution_count": 88,
   "metadata": {},
   "outputs": [
    {
     "name": "stdout",
     "output_type": "stream",
     "text": [
      "0.8668448967271787\n",
      "0.8198613376835236\n",
      "0.8426987487162289\n"
     ]
    }
   ],
   "source": [
    "from sklearn.metrics import precision_score, recall_score, f1_score\n",
    "p = precision_score(y_test, y_pred)\n",
    "print(p)\n",
    "r = recall_score(y_test, y_pred)\n",
    "print(r)\n",
    "f1 = f1_score(y_test, y_pred)\n",
    "print(f1)"
   ]
  },
  {
   "cell_type": "code",
   "execution_count": null,
   "metadata": {},
   "outputs": [],
   "source": []
  },
  {
   "cell_type": "code",
   "execution_count": 224,
   "metadata": {},
   "outputs": [],
   "source": [
    "def sentiment_predict(new_sentence):\n",
    "    \n",
    "    new_sentence = re.sub(r\"[^ㄱ-ㅎㅏ-ㅣ가-힣 ]\", \"\", new_sentence) # 전처리(한글, 공백 제외한 문자 제거)\n",
    "    new_sentence = repeat_normalize(new_sentence, num_repeats=1) # 반복 문자\n",
    "    new_sentence = spacing(new_sentence) # 띄어쓰기\n",
    "    \n",
    "    try:\n",
    "        new_sentence = spell_checker.check(new_sentence).checked # 맞춤법 교정\n",
    "    except:\n",
    "        pass\n",
    "    \n",
    "    new_sentence = okt.morphs(new_sentence, stem=True) # 토큰화\n",
    "    new_sentence = [word for word in new_sentence if not word in stopwords] # 불용어 제거\n",
    "    encoded = tokenizer.texts_to_sequences([new_sentence]) # 정수 인코딩\n",
    "    pad_new = pad_sequences(encoded, maxlen = max_len) # 패딩\n",
    "    score = float(loaded_model.predict(pad_new)) # 예측\n",
    "    \n",
    "    result = 0  \n",
    "    \n",
    "    if(score > 0.5):\n",
    "        result = 1\n",
    "    else:\n",
    "        result = 0\n",
    "    return result"
   ]
  },
  {
   "cell_type": "code",
   "execution_count": 225,
   "metadata": {},
   "outputs": [
    {
     "name": "stderr",
     "output_type": "stream",
     "text": [
      "<ipython-input-225-08d71f739e41>:6: SettingWithCopyWarning: \n",
      "A value is trying to be set on a copy of a slice from a DataFrame\n",
      "\n",
      "See the caveats in the documentation: https://pandas.pydata.org/pandas-docs/stable/user_guide/indexing.html#returning-a-view-versus-a-copy\n",
      "  eval_data['Predicted'][i] = Predicted\n"
     ]
    }
   ],
   "source": [
    "eval_data = pd.read_csv('./[전처리]ko_data.csv', engine='python', encoding='utf-8')\n",
    "eval_data['Predicted'] = 0\n",
    "\n",
    "for i in range(len(eval_data)):\n",
    "    Predicted = sentiment_predict(eval_data['Sentence'][i])\n",
    "    eval_data['Predicted'][i] = Predicted\n",
    "    \n",
    "eval_data.drop(['Sentence'], axis='columns', inplace=True)\n",
    "eval_data.to_csv(\"result_2019512014_이동환.csv\", index=False)"
   ]
  },
  {
   "cell_type": "code",
   "execution_count": null,
   "metadata": {},
   "outputs": [],
   "source": []
  },
  {
   "cell_type": "code",
   "execution_count": null,
   "metadata": {},
   "outputs": [],
   "source": []
  },
  {
   "cell_type": "code",
   "execution_count": null,
   "metadata": {},
   "outputs": [],
   "source": []
  },
  {
   "cell_type": "code",
   "execution_count": null,
   "metadata": {},
   "outputs": [],
   "source": []
  },
  {
   "cell_type": "code",
   "execution_count": null,
   "metadata": {},
   "outputs": [],
   "source": []
  },
  {
   "cell_type": "code",
   "execution_count": null,
   "metadata": {},
   "outputs": [],
   "source": []
  },
  {
   "cell_type": "code",
   "execution_count": null,
   "metadata": {},
   "outputs": [],
   "source": []
  },
  {
   "cell_type": "code",
   "execution_count": null,
   "metadata": {},
   "outputs": [],
   "source": []
  },
  {
   "cell_type": "code",
   "execution_count": null,
   "metadata": {},
   "outputs": [],
   "source": []
  }
 ],
 "metadata": {
  "kernelspec": {
   "display_name": "Python 3",
   "language": "python",
   "name": "python3"
  },
  "language_info": {
   "codemirror_mode": {
    "name": "ipython",
    "version": 3
   },
   "file_extension": ".py",
   "mimetype": "text/x-python",
   "name": "python",
   "nbconvert_exporter": "python",
   "pygments_lexer": "ipython3",
   "version": "3.8.5"
  }
 },
 "nbformat": 4,
 "nbformat_minor": 4
}
