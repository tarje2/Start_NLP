{
 "cells": [
  {
   "cell_type": "markdown",
   "metadata": {},
   "source": [
    "# 네이버 영화 리뷰 감성 분류하기(7~10)\n",
    "#### 고려대학교 컴퓨터정보통신대학원 빅데이터융합학과   2019512014 이동환\n"
   ]
  },
  {
   "cell_type": "code",
   "execution_count": 46,
   "metadata": {
    "ExecuteTime": {
     "end_time": "2020-11-18T07:21:13.432172Z",
     "start_time": "2020-11-18T07:21:09.832073Z"
    }
   },
   "outputs": [],
   "source": [
    "import pandas as pd\n",
    "import numpy as np\n",
    "%matplotlib inline\n",
    "import matplotlib.pyplot as plt\n",
    "import re\n",
    "import urllib.request\n",
    "from konlpy.tag import Okt\n",
    "from tensorflow.keras.preprocessing.text import Tokenizer\n",
    "from tensorflow.keras.preprocessing.sequence import pad_sequences"
   ]
  },
  {
   "cell_type": "markdown",
   "metadata": {},
   "source": [
    "### 1. 데이터 로드"
   ]
  },
  {
   "cell_type": "code",
   "execution_count": 47,
   "metadata": {
    "ExecuteTime": {
     "end_time": "2020-11-18T07:28:00.067542Z",
     "start_time": "2020-11-18T07:27:57.946129Z"
    }
   },
   "outputs": [
    {
     "data": {
      "text/html": [
       "<div>\n",
       "<style scoped>\n",
       "    .dataframe tbody tr th:only-of-type {\n",
       "        vertical-align: middle;\n",
       "    }\n",
       "\n",
       "    .dataframe tbody tr th {\n",
       "        vertical-align: top;\n",
       "    }\n",
       "\n",
       "    .dataframe thead th {\n",
       "        text-align: right;\n",
       "    }\n",
       "</style>\n",
       "<table border=\"1\" class=\"dataframe\">\n",
       "  <thead>\n",
       "    <tr style=\"text-align: right;\">\n",
       "      <th></th>\n",
       "      <th>label</th>\n",
       "      <th>rating</th>\n",
       "      <th>review</th>\n",
       "      <th>review_id</th>\n",
       "      <th>seq</th>\n",
       "      <th>temp</th>\n",
       "    </tr>\n",
       "  </thead>\n",
       "  <tbody>\n",
       "    <tr>\n",
       "      <th>0</th>\n",
       "      <td>1</td>\n",
       "      <td>7</td>\n",
       "      <td>그냥그래요~그냥그래여..</td>\n",
       "      <td>9312820</td>\n",
       "      <td>1</td>\n",
       "      <td>Training_Set</td>\n",
       "    </tr>\n",
       "    <tr>\n",
       "      <th>1</th>\n",
       "      <td>1</td>\n",
       "      <td>10</td>\n",
       "      <td>윈터솔져에서 열연했던 엘리자베스가 출연해서 깜짝 놀랐네요 허허 다코타패닝은 아이에서...</td>\n",
       "      <td>9320675</td>\n",
       "      <td>2</td>\n",
       "      <td>Training_Set</td>\n",
       "    </tr>\n",
       "    <tr>\n",
       "      <th>2</th>\n",
       "      <td>0</td>\n",
       "      <td>3</td>\n",
       "      <td>너무기대하고봐서그런가 실망</td>\n",
       "      <td>9322458</td>\n",
       "      <td>1</td>\n",
       "      <td>Training_Set</td>\n",
       "    </tr>\n",
       "    <tr>\n",
       "      <th>3</th>\n",
       "      <td>1</td>\n",
       "      <td>8</td>\n",
       "      <td>그럭저럭 무난하게 볼만한 영화인것 같아요~</td>\n",
       "      <td>9323156</td>\n",
       "      <td>3</td>\n",
       "      <td>Training_Set</td>\n",
       "    </tr>\n",
       "    <tr>\n",
       "      <th>4</th>\n",
       "      <td>1</td>\n",
       "      <td>7</td>\n",
       "      <td>그냥 흔한 10대소녀들 사랑이야기. 솔직히 엘리자베스 올슨 때문에 봤다.</td>\n",
       "      <td>9325823</td>\n",
       "      <td>4</td>\n",
       "      <td>Training_Set</td>\n",
       "    </tr>\n",
       "  </tbody>\n",
       "</table>\n",
       "</div>"
      ],
      "text/plain": [
       "   label  rating                                             review  \\\n",
       "0      1       7                                      그냥그래요~그냥그래여..   \n",
       "1      1      10  윈터솔져에서 열연했던 엘리자베스가 출연해서 깜짝 놀랐네요 허허 다코타패닝은 아이에서...   \n",
       "2      0       3                                     너무기대하고봐서그런가 실망   \n",
       "3      1       8                            그럭저럭 무난하게 볼만한 영화인것 같아요~   \n",
       "4      1       7           그냥 흔한 10대소녀들 사랑이야기. 솔직히 엘리자베스 올슨 때문에 봤다.   \n",
       "\n",
       "   review_id  seq          temp  \n",
       "0    9312820    1  Training_Set  \n",
       "1    9320675    2  Training_Set  \n",
       "2    9322458    1  Training_Set  \n",
       "3    9323156    3  Training_Set  \n",
       "4    9325823    4  Training_Set  "
      ]
     },
     "execution_count": 47,
     "metadata": {},
     "output_type": "execute_result"
    }
   ],
   "source": [
    "## 1차 데이터셋 확인\n",
    "# new\n",
    "# 긍정(1) 7~10 / 부정(0) : 1~4\n",
    "\n",
    "# Total\n",
    "total_data = pd.read_csv('./[데이터셋1차_2_Total] nsmc_raw_data.csv')\n",
    "\n",
    "# Training Set\n",
    "train_data = pd.read_csv('./[데이터셋1차_2_Training_Set] nsmc_raw_data.csv')\n",
    "\n",
    "# Test Set\n",
    "test_data = pd.read_csv('./[데이터셋1차_2_Test_Set] nsmc_raw_data.csv')\n",
    "#data = data[['review_id', 'review', 'label', 'rating']]\n",
    "\n",
    "train_data.head(5)\n",
    "\n",
    "# 긍정\n",
    "#data[data.label == 1]\n",
    "\n",
    "# 부정\n",
    "#data[data.label == 0]"
   ]
  },
  {
   "cell_type": "code",
   "execution_count": 48,
   "metadata": {
    "ExecuteTime": {
     "end_time": "2020-11-18T07:31:06.346818Z",
     "start_time": "2020-11-18T07:31:06.341804Z"
    }
   },
   "outputs": [
    {
     "name": "stdout",
     "output_type": "stream",
     "text": [
      "Total_Set :  639101\n",
      "Training_Set :  447369\n",
      "Test_Set :  191732\n"
     ]
    }
   ],
   "source": [
    "# 각 데이터 셋의 크기\n",
    "print(\"Total_Set : \", len(total_data))\n",
    "print(\"Training_Set : \", len(train_data))\n",
    "print(\"Test_Set : \", len(test_data))"
   ]
  },
  {
   "cell_type": "code",
   "execution_count": 49,
   "metadata": {
    "ExecuteTime": {
     "end_time": "2020-11-18T07:53:48.796372Z",
     "start_time": "2020-11-18T07:53:48.697671Z"
    }
   },
   "outputs": [
    {
     "data": {
      "text/plain": [
       "<matplotlib.axes._subplots.AxesSubplot at 0x1c92f13ae50>"
      ]
     },
     "execution_count": 49,
     "metadata": {},
     "output_type": "execute_result"
    },
    {
     "data": {
      "image/png": "[encoded data removed]",
      "text/plain": [
       "<Figure size 432x288 with 1 Axes>"
      ]
     },
     "metadata": {
      "needs_background": "light"
     },
     "output_type": "display_data"
    }
   ],
   "source": [
    "# 전체 데이터 셋의 긍부정 비\n",
    "total_data['label'].value_counts().plot(kind = 'bar')"
   ]
  },
  {
   "cell_type": "code",
   "execution_count": 50,
   "metadata": {
    "ExecuteTime": {
     "end_time": "2020-11-18T07:53:58.279940Z",
     "start_time": "2020-11-18T07:53:58.257983Z"
    }
   },
   "outputs": [
    {
     "name": "stdout",
     "output_type": "stream",
     "text": [
      "   label   count\n",
      "0      0  121684\n",
      "1      1  517417\n"
     ]
    }
   ],
   "source": [
    "# 전체 데이터 셋의 긍부정 수\n",
    "print(total_data.groupby('label').size().reset_index(name = 'count'))"
   ]
  },
  {
   "cell_type": "code",
   "execution_count": null,
   "metadata": {},
   "outputs": [],
   "source": []
  },
  {
   "cell_type": "markdown",
   "metadata": {},
   "source": [
    "### 2. 데이터 정제 및 전처리\n",
    "-> Training_Set과 마찬가지로 Test_Set에도 동일한 전처리 적용"
   ]
  },
  {
   "cell_type": "markdown",
   "metadata": {},
   "source": [
    "### 2-1. 데이터 중복 확인"
   ]
  },
  {
   "cell_type": "code",
   "execution_count": 51,
   "metadata": {},
   "outputs": [
    {
     "data": {
      "text/plain": [
       "(187997, 2)"
      ]
     },
     "execution_count": 51,
     "metadata": {},
     "output_type": "execute_result"
    }
   ],
   "source": [
    "# 데이터 중복 확인\n",
    "train_data['review'].nunique(), train_data['label'].nunique()\n",
    "test_data['review'].nunique(), train_data['label'].nunique()"
   ]
  },
  {
   "cell_type": "code",
   "execution_count": 52,
   "metadata": {},
   "outputs": [],
   "source": [
    "# reveiw 열에서 중복인 내용이 있다면 중복 제거\n",
    "train_data.drop_duplicates(subset=['review'], inplace=True)\n",
    "test_data.drop_duplicates(subset=['review'], inplace=True)"
   ]
  },
  {
   "cell_type": "code",
   "execution_count": 53,
   "metadata": {},
   "outputs": [
    {
     "name": "stdout",
     "output_type": "stream",
     "text": [
      "총 샘플의 수(Training_Set) : 431352\n",
      "총 샘플의 수(Test_Set) : 187998\n"
     ]
    }
   ],
   "source": [
    "print('총 샘플의 수(Training_Set) :',len(train_data))\n",
    "print('총 샘플의 수(Test_Set) :',len(test_data))"
   ]
  },
  {
   "cell_type": "code",
   "execution_count": null,
   "metadata": {},
   "outputs": [],
   "source": []
  },
  {
   "cell_type": "markdown",
   "metadata": {},
   "source": [
    "### 2-2. 데이터 Null 값 처리"
   ]
  },
  {
   "cell_type": "code",
   "execution_count": 54,
   "metadata": {
    "ExecuteTime": {
     "end_time": "2020-11-18T07:34:15.660627Z",
     "start_time": "2020-11-18T07:34:15.638688Z"
    }
   },
   "outputs": [
    {
     "name": "stdout",
     "output_type": "stream",
     "text": [
      "True\n",
      "True\n"
     ]
    }
   ],
   "source": [
    "# Null 값 존재 확인\n",
    "print(train_data.isnull().values.any())\n",
    "print(test_data.isnull().values.any())\n",
    "\n",
    "# True 결과가 나왔다면 데이터 중에 Null 값을 가진 샘플이 존재한다는 의미"
   ]
  },
  {
   "cell_type": "code",
   "execution_count": 55,
   "metadata": {},
   "outputs": [
    {
     "name": "stdout",
     "output_type": "stream",
     "text": [
      "label        0\n",
      "rating       0\n",
      "review       1\n",
      "review_id    0\n",
      "seq          0\n",
      "temp         0\n",
      "dtype: int64\n",
      "label        0\n",
      "rating       0\n",
      "review       1\n",
      "review_id    0\n",
      "seq          0\n",
      "temp         0\n",
      "dtype: int64\n"
     ]
    }
   ],
   "source": [
    "# Null 값을 갖는 샘플수 확인\n",
    "print(train_data.isnull().sum())\n",
    "print(test_data.isnull().sum())"
   ]
  },
  {
   "cell_type": "code",
   "execution_count": 56,
   "metadata": {},
   "outputs": [
    {
     "data": {
      "text/html": [
       "<div>\n",
       "<style scoped>\n",
       "    .dataframe tbody tr th:only-of-type {\n",
       "        vertical-align: middle;\n",
       "    }\n",
       "\n",
       "    .dataframe tbody tr th {\n",
       "        vertical-align: top;\n",
       "    }\n",
       "\n",
       "    .dataframe thead th {\n",
       "        text-align: right;\n",
       "    }\n",
       "</style>\n",
       "<table border=\"1\" class=\"dataframe\">\n",
       "  <thead>\n",
       "    <tr style=\"text-align: right;\">\n",
       "      <th></th>\n",
       "      <th>label</th>\n",
       "      <th>rating</th>\n",
       "      <th>review</th>\n",
       "      <th>review_id</th>\n",
       "      <th>seq</th>\n",
       "      <th>temp</th>\n",
       "    </tr>\n",
       "  </thead>\n",
       "  <tbody>\n",
       "    <tr>\n",
       "      <th>2909</th>\n",
       "      <td>0</td>\n",
       "      <td>1</td>\n",
       "      <td>NaN</td>\n",
       "      <td>1034280</td>\n",
       "      <td>88088</td>\n",
       "      <td>Test_Set</td>\n",
       "    </tr>\n",
       "  </tbody>\n",
       "</table>\n",
       "</div>"
      ],
      "text/plain": [
       "      label  rating review  review_id    seq      temp\n",
       "2909      0       1    NaN    1034280  88088  Test_Set"
      ]
     },
     "execution_count": 56,
     "metadata": {},
     "output_type": "execute_result"
    }
   ],
   "source": [
    "# Null 값을 갖는 샘플의 열/인덱스 등 확인\n",
    "train_data.loc[train_data.review.isnull()]\n",
    "test_data.loc[test_data.review.isnull()]"
   ]
  },
  {
   "cell_type": "code",
   "execution_count": 57,
   "metadata": {},
   "outputs": [],
   "source": [
    "# Null 값을 갖는 샘플 제거\n",
    "train_data = train_data.dropna(how = 'any')\n",
    "test_data = test_data.dropna(how = 'any')"
   ]
  },
  {
   "cell_type": "code",
   "execution_count": 58,
   "metadata": {},
   "outputs": [
    {
     "name": "stdout",
     "output_type": "stream",
     "text": [
      "False\n",
      "False\n"
     ]
    }
   ],
   "source": [
    "# Null 값이 존재하는지 확인\n",
    "print(train_data.isnull().values.any())\n",
    "print(test_data.isnull().values.any())"
   ]
  },
  {
   "cell_type": "code",
   "execution_count": null,
   "metadata": {},
   "outputs": [],
   "source": []
  },
  {
   "cell_type": "markdown",
   "metadata": {},
   "source": [
    "### 2-3. 데이터 전처리"
   ]
  },
  {
   "cell_type": "code",
   "execution_count": 59,
   "metadata": {},
   "outputs": [
    {
     "data": {
      "text/plain": [
       "'do you expect people to read the FAQ etc and actually accept hard atheism'"
      ]
     },
     "execution_count": 59,
     "metadata": {},
     "output_type": "execute_result"
    }
   ],
   "source": [
    "#(예시)알파벳과 공백을 제외하고 모두 제거\n",
    "text = 'do!!! you expect... people~ to~ read~ the FAQ, etc. and actually accept hard~! atheism?@@'\n",
    "re.sub(r'[^a-zA-Z ]', '', text)"
   ]
  },
  {
   "cell_type": "code",
   "execution_count": 60,
   "metadata": {},
   "outputs": [
    {
     "data": {
      "text/html": [
       "<div>\n",
       "<style scoped>\n",
       "    .dataframe tbody tr th:only-of-type {\n",
       "        vertical-align: middle;\n",
       "    }\n",
       "\n",
       "    .dataframe tbody tr th {\n",
       "        vertical-align: top;\n",
       "    }\n",
       "\n",
       "    .dataframe thead th {\n",
       "        text-align: right;\n",
       "    }\n",
       "</style>\n",
       "<table border=\"1\" class=\"dataframe\">\n",
       "  <thead>\n",
       "    <tr style=\"text-align: right;\">\n",
       "      <th></th>\n",
       "      <th>label</th>\n",
       "      <th>rating</th>\n",
       "      <th>review</th>\n",
       "      <th>review_id</th>\n",
       "      <th>seq</th>\n",
       "      <th>temp</th>\n",
       "    </tr>\n",
       "  </thead>\n",
       "  <tbody>\n",
       "    <tr>\n",
       "      <th>0</th>\n",
       "      <td>0</td>\n",
       "      <td>4</td>\n",
       "      <td>희망적인영화였습니다</td>\n",
       "      <td>5285310</td>\n",
       "      <td>85179</td>\n",
       "      <td>Test_Set</td>\n",
       "    </tr>\n",
       "    <tr>\n",
       "      <th>1</th>\n",
       "      <td>0</td>\n",
       "      <td>1</td>\n",
       "      <td>내용도 제목도 어이없음 중국어 배우신 분들은 알겠지만 동화처럼 보이려고 제목 바꿈</td>\n",
       "      <td>5340615</td>\n",
       "      <td>85180</td>\n",
       "      <td>Test_Set</td>\n",
       "    </tr>\n",
       "    <tr>\n",
       "      <th>2</th>\n",
       "      <td>0</td>\n",
       "      <td>1</td>\n",
       "      <td>촌장 없애버리고 싶다</td>\n",
       "      <td>5425935</td>\n",
       "      <td>85181</td>\n",
       "      <td>Test_Set</td>\n",
       "    </tr>\n",
       "    <tr>\n",
       "      <th>3</th>\n",
       "      <td>0</td>\n",
       "      <td>1</td>\n",
       "      <td>정말  같은 내용의 만화이다역시 초등학교만 졸업하면 얼마나 대가리가 같고 지멋대로이...</td>\n",
       "      <td>7520119</td>\n",
       "      <td>85182</td>\n",
       "      <td>Test_Set</td>\n",
       "    </tr>\n",
       "    <tr>\n",
       "      <th>4</th>\n",
       "      <td>0</td>\n",
       "      <td>1</td>\n",
       "      <td>재미는잇는데 여주 방송할때 암말안하고 주둥이반씰룩거릴때 아구창꽂아버리고싶엇음</td>\n",
       "      <td>7520226</td>\n",
       "      <td>85183</td>\n",
       "      <td>Test_Set</td>\n",
       "    </tr>\n",
       "  </tbody>\n",
       "</table>\n",
       "</div>"
      ],
      "text/plain": [
       "   label  rating                                             review  \\\n",
       "0      0       4                                         희망적인영화였습니다   \n",
       "1      0       1      내용도 제목도 어이없음 중국어 배우신 분들은 알겠지만 동화처럼 보이려고 제목 바꿈   \n",
       "2      0       1                                        촌장 없애버리고 싶다   \n",
       "3      0       1  정말  같은 내용의 만화이다역시 초등학교만 졸업하면 얼마나 대가리가 같고 지멋대로이...   \n",
       "4      0       1         재미는잇는데 여주 방송할때 암말안하고 주둥이반씰룩거릴때 아구창꽂아버리고싶엇음   \n",
       "\n",
       "   review_id    seq      temp  \n",
       "0    5285310  85179  Test_Set  \n",
       "1    5340615  85180  Test_Set  \n",
       "2    5425935  85181  Test_Set  \n",
       "3    7520119  85182  Test_Set  \n",
       "4    7520226  85183  Test_Set  "
      ]
     },
     "execution_count": 60,
     "metadata": {},
     "output_type": "execute_result"
    }
   ],
   "source": [
    "# 한글과 공백을 제외하고 모두 제거\n",
    "train_data['review'] = train_data['review'].str.replace(\"[^ㄱ-ㅎㅏ-ㅣ가-힣 ]\",\"\")\n",
    "test_data['review'] = test_data['review'].str.replace(\"[^ㄱ-ㅎㅏ-ㅣ가-힣 ]\",\"\")\n",
    "\n",
    "train_data[:5]\n",
    "test_data[:5]"
   ]
  },
  {
   "cell_type": "code",
   "execution_count": 61,
   "metadata": {},
   "outputs": [
    {
     "name": "stdout",
     "output_type": "stream",
     "text": [
      "label          0\n",
      "rating         0\n",
      "review       906\n",
      "review_id      0\n",
      "seq            0\n",
      "temp           0\n",
      "dtype: int64\n",
      "label          0\n",
      "rating         0\n",
      "review       393\n",
      "review_id      0\n",
      "seq            0\n",
      "temp           0\n",
      "dtype: int64\n"
     ]
    }
   ],
   "source": [
    "# 전처리 후 Null값 확인\n",
    "train_data['review'].replace('', np.nan, inplace=True)\n",
    "test_data['review'].replace('', np.nan, inplace=True)\n",
    "\n",
    "print(train_data.isnull().sum())\n",
    "print(test_data.isnull().sum())"
   ]
  },
  {
   "cell_type": "code",
   "execution_count": 62,
   "metadata": {},
   "outputs": [
    {
     "name": "stdout",
     "output_type": "stream",
     "text": [
      "430445\n",
      "187604\n"
     ]
    }
   ],
   "source": [
    "# 전처리 후 Null값 제거\n",
    "train_data = train_data.dropna(how = 'any')\n",
    "test_data = test_data.dropna(how = 'any')\n",
    "\n",
    "print(len(train_data))\n",
    "print(len(test_data))"
   ]
  },
  {
   "cell_type": "code",
   "execution_count": null,
   "metadata": {},
   "outputs": [],
   "source": []
  },
  {
   "cell_type": "markdown",
   "metadata": {},
   "source": [
    "### 3. 토큰화\n",
    "-> 토큰화를 위한 형태소 분석기는 KoNLPy의 Okt 사용"
   ]
  },
  {
   "cell_type": "code",
   "execution_count": 63,
   "metadata": {},
   "outputs": [],
   "source": [
    "# 불용어(StopWord) 정의\n",
    "stopwords = ['의','가','이','은','들','는','좀','잘','걍','과','도','를','으로','자','에','와','한','하다','오','좀']"
   ]
  },
  {
   "cell_type": "code",
   "execution_count": 64,
   "metadata": {},
   "outputs": [],
   "source": [
    "# 형태소 분석기를 사용하여 토큰화를 진행 및 불용어 제거한 데이터를 x_train 에 저장\n",
    "okt = Okt()\n",
    "X_train = []\n",
    "for sentence in train_data['review']:\n",
    "    temp_X = []\n",
    "    temp_X = okt.morphs(sentence, stem=True) # 토큰화\n",
    "    temp_X = [word for word in temp_X if not word in stopwords] # 불용어 제거\n",
    "    X_train.append(temp_X)    "
   ]
  },
  {
   "cell_type": "code",
   "execution_count": 65,
   "metadata": {},
   "outputs": [
    {
     "name": "stdout",
     "output_type": "stream",
     "text": [
      "[['그냥', '그', '래', '요', '그냥', '그렇다'], ['윈터', '솔져', '에서', '열연', '엘리자베스', '출연', '깜짝', '놀라다', '허허', '다코타', '패닝', '아이', '에서', '소녀', '되다', '듯', '느낌', '물씬', '풍기', '고', '이제', '진정하다', '주연', '배우', '로서', '거듭', '날', '수', '있다', '않다', '생각', '보다', '첫사랑', '아련하다', '추억', '더불다', '우정', '의미', '그린', '영화', '강력', '추천'], ['너무', '기대하다', '보다', '그', '런가', '실망']]\n"
     ]
    }
   ],
   "source": [
    "print(X_train[:3])"
   ]
  },
  {
   "cell_type": "code",
   "execution_count": 66,
   "metadata": {},
   "outputs": [],
   "source": [
    "# 형태소 분석기를 사용하여 토큰화를 진행 및 불용어 제거한 데이터를 x_test 에 저장\n",
    "X_test = []\n",
    "for sentence in test_data['review']:\n",
    "    temp_X = []\n",
    "    temp_X = okt.morphs(sentence, stem=True) # 토큰화\n",
    "    temp_X = [word for word in temp_X if not word in stopwords] # 불용어 제거\n",
    "    X_test.append(temp_X)"
   ]
  },
  {
   "cell_type": "code",
   "execution_count": 67,
   "metadata": {},
   "outputs": [
    {
     "name": "stdout",
     "output_type": "stream",
     "text": [
      "[['희망', '적', '인', '영화', '이다'], ['내용', '제목', '어이없다', '중국어', '배우다', '분', '알다', '동화', '처럼', '보이다', '제목', '바꿈'], ['촌장', '없애다', '버리다', '싶다']]\n"
     ]
    }
   ],
   "source": [
    "print(X_test[:3])"
   ]
  },
  {
   "cell_type": "code",
   "execution_count": null,
   "metadata": {},
   "outputs": [],
   "source": []
  },
  {
   "cell_type": "markdown",
   "metadata": {},
   "source": [
    "### 4. 정수 인코딩"
   ]
  },
  {
   "cell_type": "code",
   "execution_count": null,
   "metadata": {},
   "outputs": [],
   "source": [
    "### 4. 정수 인코딩"
   ]
  },
  {
   "cell_type": "code",
   "execution_count": 68,
   "metadata": {},
   "outputs": [],
   "source": [
    "# 단어 집합 생성\n",
    "tokenizer = Tokenizer()\n",
    "tokenizer.fit_on_texts(X_train)\n",
    "\n",
    "#print(tokenizer.word_index)"
   ]
  },
  {
   "cell_type": "code",
   "execution_count": 69,
   "metadata": {},
   "outputs": [
    {
     "name": "stdout",
     "output_type": "stream",
     "text": [
      "단어 집합(vocabulary)의 크기 : 66122\n",
      "등장 빈도가 2번 이하인 희귀 단어의 수: 35973\n",
      "단어 집합에서 희귀 단어의 비율: 54.40398052085539\n",
      "전체 등장 빈도에서 희귀 단어 등장 빈도 비율: 0.9469384601762844\n"
     ]
    }
   ],
   "source": [
    "threshold = 3\n",
    "total_cnt = len(tokenizer.word_index) # 단어의 수\n",
    "rare_cnt = 0 # 등장 빈도수가 threshold보다 작은 단어의 개수를 카운트\n",
    "total_freq = 0 # 훈련 데이터의 전체 단어 빈도수 총 합\n",
    "rare_freq = 0 # 등장 빈도수가 threshold보다 작은 단어의 등장 빈도수의 총 합\n",
    "\n",
    "# 단어와 빈도수의 쌍(pair)을 key와 value로 받는다.\n",
    "for key, value in tokenizer.word_counts.items():\n",
    "    total_freq = total_freq + value\n",
    "\n",
    "    # 단어의 등장 빈도수가 threshold보다 작으면\n",
    "    if(value < threshold):\n",
    "        rare_cnt = rare_cnt + 1\n",
    "        rare_freq = rare_freq + value\n",
    "\n",
    "print('단어 집합(vocabulary)의 크기 :',total_cnt)\n",
    "print('등장 빈도가 %s번 이하인 희귀 단어의 수: %s'%(threshold - 1, rare_cnt))\n",
    "print(\"단어 집합에서 희귀 단어의 비율:\", (rare_cnt / total_cnt)*100)\n",
    "print(\"전체 등장 빈도에서 희귀 단어 등장 빈도 비율:\", (rare_freq / total_freq)*100)"
   ]
  },
  {
   "cell_type": "code",
   "execution_count": 70,
   "metadata": {},
   "outputs": [
    {
     "name": "stdout",
     "output_type": "stream",
     "text": [
      "단어 집합의 크기 : 30151\n"
     ]
    }
   ],
   "source": [
    "# 전체 단어 개수 중 빈도수 2이하인 단어 개수는 제거.\n",
    "# 0번 패딩 토큰과 1번 OOV 토큰을 고려하여 +2\n",
    "vocab_size = total_cnt - rare_cnt + 2\n",
    "print('단어 집합의 크기 :',vocab_size)"
   ]
  },
  {
   "cell_type": "code",
   "execution_count": 71,
   "metadata": {},
   "outputs": [
    {
     "name": "stdout",
     "output_type": "stream",
     "text": [
      "[[58, 28, 811, 52, 58, 72], [11458, 12288, 18, 1552, 4356, 562, 1665, 451, 2899, 4486, 3304, 239, 18, 881, 13, 100, 87, 3009, 11865, 55, 333, 569, 623, 50, 997, 2810, 488, 49, 6, 17, 26, 3, 1437, 991, 408, 1512, 1032, 324, 1063, 2, 2053, 193], [10, 311, 3, 28, 985, 462]]\n"
     ]
    }
   ],
   "source": [
    "tokenizer = Tokenizer(vocab_size, oov_token = 'OOV') \n",
    "tokenizer.fit_on_texts(X_train)\n",
    "X_train = tokenizer.texts_to_sequences(X_train)\n",
    "X_test = tokenizer.texts_to_sequences(X_test)\n",
    "\n",
    "print(X_train[:3])"
   ]
  },
  {
   "cell_type": "code",
   "execution_count": 72,
   "metadata": {},
   "outputs": [],
   "source": [
    "y_train = np.array(train_data['label'])\n",
    "y_test = np.array(test_data['label'])"
   ]
  },
  {
   "cell_type": "code",
   "execution_count": null,
   "metadata": {},
   "outputs": [],
   "source": []
  },
  {
   "cell_type": "markdown",
   "metadata": {},
   "source": [
    "### 5. 빈 샘플(empty samples) 제거"
   ]
  },
  {
   "cell_type": "code",
   "execution_count": 73,
   "metadata": {},
   "outputs": [],
   "source": [
    "drop_train = [index for index, sentence in enumerate(X_train) if len(sentence) < 1]"
   ]
  },
  {
   "cell_type": "code",
   "execution_count": 74,
   "metadata": {},
   "outputs": [
    {
     "name": "stdout",
     "output_type": "stream",
     "text": [
      "429063\n",
      "429063\n"
     ]
    }
   ],
   "source": [
    "# 빈 샘플들을 제거\n",
    "X_train = np.delete(X_train, drop_train, axis=0)\n",
    "y_train = np.delete(y_train, drop_train, axis=0)\n",
    "print(len(X_train))\n",
    "print(len(y_train))"
   ]
  },
  {
   "cell_type": "code",
   "execution_count": null,
   "metadata": {},
   "outputs": [],
   "source": []
  },
  {
   "cell_type": "markdown",
   "metadata": {},
   "source": [
    "### 6. 패딩"
   ]
  },
  {
   "cell_type": "code",
   "execution_count": 75,
   "metadata": {},
   "outputs": [
    {
     "name": "stdout",
     "output_type": "stream",
     "text": [
      "리뷰의 최대 길이 : 70\n",
      "리뷰의 평균 길이 : 10.739700230502281\n"
     ]
    },
    {
     "data": {
      "image/png": "[encoded data removed]",
      "text/plain": [
       "<Figure size 432x288 with 1 Axes>"
      ]
     },
     "metadata": {
      "needs_background": "light"
     },
     "output_type": "display_data"
    }
   ],
   "source": [
    "print('리뷰의 최대 길이 :',max(len(l) for l in X_train))\n",
    "print('리뷰의 평균 길이 :',sum(map(len, X_train))/len(X_train))\n",
    "plt.hist([len(s) for s in X_train], bins=50)\n",
    "plt.xlabel('length of samples')\n",
    "plt.ylabel('number of samples')\n",
    "plt.show()"
   ]
  },
  {
   "cell_type": "code",
   "execution_count": 76,
   "metadata": {},
   "outputs": [],
   "source": [
    "def below_threshold_len(max_len, nested_list):\n",
    "    cnt = 0\n",
    "    for s in nested_list:\n",
    "        if(len(s) <= max_len):\n",
    "            cnt = cnt + 1\n",
    "    print('전체 샘플 중 길이가 %s 이하인 샘플의 비율: %s'%(max_len, (cnt / len(nested_list))*100))"
   ]
  },
  {
   "cell_type": "code",
   "execution_count": 77,
   "metadata": {},
   "outputs": [
    {
     "name": "stdout",
     "output_type": "stream",
     "text": [
      "전체 샘플 중 길이가 35 이하인 샘플의 비율: 96.62683568613467\n"
     ]
    }
   ],
   "source": [
    "max_len = 35\n",
    "below_threshold_len(max_len, X_train)"
   ]
  },
  {
   "cell_type": "code",
   "execution_count": 78,
   "metadata": {},
   "outputs": [],
   "source": [
    "X_train = pad_sequences(X_train, maxlen = max_len)\n",
    "X_test = pad_sequences(X_test, maxlen = max_len)"
   ]
  },
  {
   "cell_type": "code",
   "execution_count": null,
   "metadata": {},
   "outputs": [],
   "source": []
  },
  {
   "cell_type": "markdown",
   "metadata": {},
   "source": [
    "### 7. LSTM으로 감성 분류"
   ]
  },
  {
   "cell_type": "code",
   "execution_count": 79,
   "metadata": {},
   "outputs": [],
   "source": [
    "from tensorflow.keras.layers import Embedding, Dense, LSTM\n",
    "from tensorflow.keras.models import Sequential\n",
    "from tensorflow.keras.models import load_model\n",
    "from tensorflow.keras.callbacks import EarlyStopping, ModelCheckpoint"
   ]
  },
  {
   "cell_type": "code",
   "execution_count": 81,
   "metadata": {},
   "outputs": [],
   "source": [
    "model = Sequential()\n",
    "model.add(Embedding(vocab_size, 100))\n",
    "model.add(LSTM(100))\n",
    "model.add(Dense(1, activation='sigmoid'))"
   ]
  },
  {
   "cell_type": "code",
   "execution_count": 82,
   "metadata": {},
   "outputs": [],
   "source": [
    "es = EarlyStopping(monitor='val_loss', mode='min', verbose=1, patience=4)\n",
    "mc = ModelCheckpoint('best_model.h5', monitor='val_acc', mode='max', verbose=1, save_best_only=True)"
   ]
  },
  {
   "cell_type": "code",
   "execution_count": 83,
   "metadata": {},
   "outputs": [
    {
     "name": "stdout",
     "output_type": "stream",
     "text": [
      "[[   0    0    0 ...   52   58   72]\n",
      " [ 451 2899 4486 ...    2 2053  193]\n",
      " [   0    0    0 ...   28  985  462]\n",
      " ...\n",
      " [   0    0    0 ...   27    2  705]\n",
      " [   0    0    0 ... 1142  556   30]\n",
      " [   0    0    0 ... 1832   11    7]]\n",
      "[1 1 0 ... 1 1 1]\n",
      "[0 0 0 ... 1 1 1]\n"
     ]
    }
   ],
   "source": [
    "print(X_train)\n",
    "print(y_train)\n",
    "print(y_test)"
   ]
  },
  {
   "cell_type": "raw",
   "metadata": {},
   "source": [
    "model.compile(optimizer='rmsprop', loss='binary_crossentropy', metrics=['acc'])\n",
    "#history = model.fit(X_train, y_train, epochs=15, callbacks=[es, mc], batch_size=60, validation_data=(X_test, y_test))\n",
    "history = model.fit(X_train, y_train, epochs=15, callbacks=[es, mc], batch_size=60, validation_split=0.2)"
   ]
  },
  {
   "cell_type": "code",
   "execution_count": 85,
   "metadata": {},
   "outputs": [
    {
     "name": "stdout",
     "output_type": "stream",
     "text": [
      "5863/5863 [==============================] - 26s 4ms/step - loss: 0.2748 - acc: 0.8875\n",
      "\n",
      " 테스트 정확도: 0.8875\n"
     ]
    }
   ],
   "source": [
    "loaded_model = load_model('best_model.h5')\n",
    "print(\"\\n 테스트 정확도: %.4f\" % (loaded_model.evaluate(X_test, y_test)[1]))"
   ]
  },
  {
   "cell_type": "code",
   "execution_count": null,
   "metadata": {},
   "outputs": [],
   "source": []
  },
  {
   "cell_type": "code",
   "execution_count": 116,
   "metadata": {},
   "outputs": [],
   "source": [
    "def sentiment_predict(new_sentence):\n",
    "    new_sentence = okt.morphs(new_sentence, stem=True) # 토큰화\n",
    "    new_sentence = [word for word in new_sentence if not word in stopwords] # 불용어 제거\n",
    "    encoded = tokenizer.texts_to_sequences([new_sentence]) # 정수 인코딩\n",
    "    pad_new = pad_sequences(encoded, maxlen = max_len) # 패딩\n",
    "    score = float(loaded_model.predict(pad_new)) # 예측\n",
    "    result = 0\n",
    "    if(score > 0.5):\n",
    "        #print(\"{:.2f}% 확률로 긍정 리뷰입니다.\\n\".format(score * 100))\n",
    "        result = 1\n",
    "    else:\n",
    "        #print(\"{:.2f}% 확률로 부정 리뷰입니다.\\n\".format((1 - score) * 100))\n",
    "        result = 0\n",
    "    \n",
    "    return result"
   ]
  },
  {
   "cell_type": "code",
   "execution_count": 131,
   "metadata": {},
   "outputs": [
    {
     "name": "stderr",
     "output_type": "stream",
     "text": [
      "<ipython-input-131-5bff6fe11ee8>:6: SettingWithCopyWarning: \n",
      "A value is trying to be set on a copy of a slice from a DataFrame\n",
      "\n",
      "See the caveats in the documentation: https://pandas.pydata.org/pandas-docs/stable/user_guide/indexing.html#returning-a-view-versus-a-copy\n",
      "  eval_data['Predicted'][i] = Predicted\n"
     ]
    }
   ],
   "source": [
    "eval_data = pd.read_csv('./[전처리]ko_data.csv')\n",
    "eval_data['Predicted'] = 0\n",
    "\n",
    "for i in range(len(eval_data)):\n",
    "    Predicted = sentiment_predict(eval_data['Sentence'][i])\n",
    "    eval_data['Predicted'][i] = Predicted\n",
    "    \n",
    "eval_data.to_csv(\"result.csv\", index=False)"
   ]
  },
  {
   "cell_type": "code",
   "execution_count": null,
   "metadata": {},
   "outputs": [],
   "source": []
  },
  {
   "cell_type": "code",
   "execution_count": null,
   "metadata": {},
   "outputs": [],
   "source": []
  },
  {
   "cell_type": "code",
   "execution_count": null,
   "metadata": {},
   "outputs": [],
   "source": []
  }
 ],
 "metadata": {
  "kernelspec": {
   "display_name": "Python 3",
   "language": "python",
   "name": "python3"
  },
  "language_info": {
   "codemirror_mode": {
    "name": "ipython",
    "version": 3
   },
   "file_extension": ".py",
   "mimetype": "text/x-python",
   "name": "python",
   "nbconvert_exporter": "python",
   "pygments_lexer": "ipython3",
   "version": "3.8.2"
  },
  "toc": {
   "base_numbering": 1,
   "nav_menu": {},
   "number_sections": true,
   "sideBar": true,
   "skip_h1_title": false,
   "title_cell": "Table of Contents",
   "title_sidebar": "Contents",
   "toc_cell": false,
   "toc_position": {},
   "toc_section_display": true,
   "toc_window_display": false
  }
 },
 "nbformat": 4,
 "nbformat_minor": 4
}
