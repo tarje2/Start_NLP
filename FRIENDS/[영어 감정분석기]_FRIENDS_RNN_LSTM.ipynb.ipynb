{
 "cells": [
  {
   "cell_type": "markdown",
   "metadata": {},
   "source": [
    "### RNN-LSTM 기반의 영어 감정 분석기\n",
    "##### FRIENDS 시트콤 데이터"
   ]
  },
  {
   "cell_type": "code",
   "execution_count": 1246,
   "metadata": {},
   "outputs": [],
   "source": [
    "import tensorflow as tf\n",
    "import keras\n",
    "import pandas as pd\n",
    "from pandas import DataFrame as df\n",
    "import numpy as np\n",
    "%matplotlib inline\n",
    "import matplotlib.pyplot as plt\n",
    "import re\n",
    "import urllib.request\n",
    "from konlpy.tag import Okt\n",
    "from tensorflow.keras.preprocessing.text import Tokenizer\n",
    "from tensorflow.keras.preprocessing.sequence import pad_sequences"
   ]
  },
  {
   "cell_type": "markdown",
   "metadata": {},
   "source": [
    "### 1. 데이터 로드"
   ]
  },
  {
   "cell_type": "code",
   "execution_count": 1247,
   "metadata": {},
   "outputs": [
    {
     "name": "stdout",
     "output_type": "stream",
     "text": [
      "Training_Set :  10561\n",
      "Dev_Set :  1178\n",
      "Test_Set :  2764\n"
     ]
    }
   ],
   "source": [
    "## 데이터셋 로드\n",
    "\n",
    "# Training Set\n",
    "train_data2 = pd.read_csv('./friends_train_아스키제거_감정코드.csv')\n",
    "\n",
    "# Dev Set\n",
    "dev_data2 = pd.read_csv('./friends_dev_아스키제거_감정코드.csv')\n",
    "\n",
    "# Test Set\n",
    "test_data2 = pd.read_csv('./friends_test_아스키제거_감정코드.csv')\n",
    "\n",
    "print(\"Training_Set : \", len(train_data2))\n",
    "print(\"Dev_Set : \", len(dev_data2))\n",
    "print(\"Test_Set : \", len(test_data2))"
   ]
  },
  {
   "cell_type": "code",
   "execution_count": null,
   "metadata": {},
   "outputs": [],
   "source": []
  },
  {
   "cell_type": "markdown",
   "metadata": {},
   "source": [
    "### 2. 데이터 전처리(Train, Dev, Test)\n",
    "##### 중복 확인/제거"
   ]
  },
  {
   "cell_type": "code",
   "execution_count": 1248,
   "metadata": {},
   "outputs": [
    {
     "name": "stdout",
     "output_type": "stream",
     "text": [
      "Training_Set :  9274\n",
      "Dev_Set :  1090\n",
      "Test_Set :  2502\n"
     ]
    }
   ],
   "source": [
    "train_data2['utterance'].nunique(), train_data2['emotion'].nunique() # 중복 확인\n",
    "train_data2.drop_duplicates(subset=['utterance'], inplace=True, ignore_index=True) # 중복 제거\n",
    "train_data2 = train_data2.dropna(how = 'any')\n",
    "\n",
    "dev_data2['utterance'].nunique(), dev_data2['emotion'].nunique() # 중복 확인\n",
    "dev_data2.drop_duplicates(subset=['utterance'], inplace=True, ignore_index=True) # 중복 제거\n",
    "dev_data2 = dev_data2.dropna(how = 'any')\n",
    "\n",
    "test_data2['utterance'].nunique(), test_data2['emotion'].nunique() # 중복 확인\n",
    "test_data2.drop_duplicates(subset=['utterance'], inplace=True, ignore_index=True) # 중복 제거\n",
    "test_data2 = test_data2.dropna(how = 'any')\n",
    "\n",
    "print(\"Training_Set : \", len(train_data2))\n",
    "print(\"Dev_Set : \", len(dev_data2))\n",
    "print(\"Test_Set : \", len(test_data2))"
   ]
  },
  {
   "cell_type": "code",
   "execution_count": null,
   "metadata": {},
   "outputs": [],
   "source": []
  },
  {
   "cell_type": "markdown",
   "metadata": {},
   "source": [
    "### 3. 데이터 정제(Train, Dev, Test)\n",
    "##### 소문자로 통일, 축약문 교정, 영어/공백/?/! 를 제외한 문자 제거\n",
    "##### 정제 후, Null 값 제거\n",
    "##### 데이터 1차 저장(train_data_set.csv, dev_data_set.csv, test_data_set.csv)"
   ]
  },
  {
   "cell_type": "code",
   "execution_count": 1249,
   "metadata": {},
   "outputs": [],
   "source": [
    "from soynlp.normalizer import * # 반복문자 교정\n",
    "\n",
    "# 축약문 교정\n",
    "contractions = {\"ain't\": \"is not\", \"aren't\": \"are not\",\"can't\": \"cannot\", \"'cause\": \"because\", \"could've\": \"could have\", \"couldn't\": \"could not\", \"didn't\": \"did not\",  \"doesn't\": \"does not\", \"don't\": \"do not\", \"hadn't\": \"had not\", \"hasn't\": \"has not\", \"haven't\": \"have not\", \"he'd\": \"he would\",\"he'll\": \"he will\", \"he's\": \"he is\", \"how'd\": \"how did\", \"how'd'y\": \"how do you\", \"how'll\": \"how will\", \"how's\": \"how is\", \"I'd\": \"I would\", \"I'd've\": \"I would have\", \"I'll\": \"I will\", \"I'll've\": \"I will have\",\"I'm\": \"I am\", \"I've\": \"I have\", \"i'd\": \"i would\", \"i'd've\": \"i would have\", \"i'll\": \"i will\",  \"i'll've\": \"i will have\",\"i'm\": \"i am\", \"i've\": \"i have\", \"isn't\": \"is not\", \"it'd\": \"it would\", \"it'd've\": \"it would have\", \"it'll\": \"it will\", \"it'll've\": \"it will have\",\"it's\": \"it is\", \"let's\": \"let us\", \"ma'am\": \"madam\", \"mayn't\": \"may not\", \"might've\": \"might have\",\"mightn't\": \"might not\",\"mightn't've\": \"might not have\", \"must've\": \"must have\", \"mustn't\": \"must not\", \"mustn't've\": \"must not have\", \"needn't\": \"need not\", \"needn't've\": \"need not have\", \"o'clock\": \"of the clock\", \"oughtn't\": \"ought not\", \"oughtn't've\": \"ought not have\", \"shan't\": \"shall not\", \"sha'n't\": \"shall not\", \"shan't've\": \"shall not have\", \"she'd\": \"she would\", \"she'd've\": \"she would have\", \"she'll\": \"she will\", \"she'll've\": \"she will have\", \"she's\": \"she is\", \"should've\": \"should have\", \"shouldn't\": \"should not\", \"shouldn't've\": \"should not have\", \"so've\": \"so have\",\"so's\": \"so as\", \"this's\": \"this is\",\"that'd\": \"that would\", \"that'd've\": \"that would have\", \"that's\": \"that is\", \"there'd\": \"there would\", \"there'd've\": \"there would have\", \"there's\": \"there is\", \"here's\": \"here is\", \"they'd\": \"they would\", \"they'd've\": \"they would have\", \"they'll\": \"they will\", \"they'll've\": \"they will have\", \"they're\": \"they are\", \"they've\": \"they have\", \"to've\": \"to have\", \"wasn't\": \"was not\", \"we'd\": \"we would\", \"we'd've\": \"we would have\", \"we'll\": \"we will\", \"we'll've\": \"we will have\", \"we're\": \"we are\", \"we've\": \"we have\", \"weren't\": \"were not\", \"what'll\": \"what will\", \"what'll've\": \"what will have\", \"what're\": \"what are\", \"what's\": \"what is\", \"what've\": \"what have\", \"when's\": \"when is\", \"when've\": \"when have\", \"where'd\": \"where did\", \"where's\": \"where is\", \"where've\": \"where have\", \"who'll\": \"who will\", \"who'll've\": \"who will have\", \"who's\": \"who is\", \"who've\": \"who have\", \"why's\": \"why is\", \"why've\": \"why have\", \"will've\": \"will have\", \"won't\": \"will not\", \"won't've\": \"will not have\", \"would've\": \"would have\", \"wouldn't\": \"would not\", \"wouldn't've\": \"would not have\", \"y'all\": \"you all\", \"y'all'd\": \"you all would\", \"y'all'd've\": \"you all would have\",\"y'all're\": \"you all are\",\"y'all've\": \"you all have\", \"you'd\": \"you would\", \"you'd've\": \"you would have\", \"you'll\": \"you will\", \"you'll've\": \"you will have\", \"you're\": \"you are\", \"you've\": \"you have\", \"y'know\": \"you know\", \"gonna\": \"going to\", \"wanna\": \"want to\", \"gotta\": \"got to\"}\n",
    "\n",
    "#print(contractions)"
   ]
  },
  {
   "cell_type": "code",
   "execution_count": 1250,
   "metadata": {},
   "outputs": [],
   "source": [
    "### 전처리 및 전처리 결과 저장\n",
    "# Train Data\n",
    "temp = pd.DataFrame(columns=['utterance'])\n",
    "temp['utterance'] = train_data2['utterance'].copy()\n",
    "\n",
    "for i in range(len(temp)):\n",
    "    temp['utterance'][i] = temp['utterance'][i].lower() # 소문자 통일\n",
    "    #train_data2['utterance'][i] = re.sub('[o]{3,}', 'oo', train_data2['utterance'][i]) #반복(3개 이상)이면 2개로 변경 ex)Nooo -> noo\n",
    "    #train_data2['utterance'][i] = re.sub('[h]{3,}', 'hh', train_data2['utterance'][i])\n",
    "    #train_data2['utterance'][i] = re.sub('[m]{3,}', 'mm', train_data2['utterance'][i])\n",
    "    #train_data2['utterance'][i] = re.sub('\"', '', train_data2['utterance'][i]) #쌍따옴표 제거\n",
    "    #train_data2['utterance'][i] = re.sub(r\"'s\\b\", \" \", train_data2['utterance'][i]) #소유격 제거\n",
    "    #temp['utterance'][i] = repeat_normalize(temp['utterance'][i], num_repeats=3) # 반복(4개 이상)이면 3개로 변경\n",
    "    temp['utterance'][i] = ' '.join([contractions[t] if t in contractions else t for t in temp['utterance'][i].split(\" \")]) # 축약문 교정\n",
    "    temp['utterance'][i] = re.sub(\"[^a-zA-Z ? !]\", \" \", temp['utterance'][i]) # 을 제외한 문자 제거\n",
    "    temp = temp.dropna(how = 'any') # 전처리 후 Null값 제거\n",
    "train_data2['utterance'] = temp['utterance'].copy()\n",
    "train_data2 = train_data2.dropna(how = 'any') # 전처리 후 Null값 제거\n",
    "train_data2.to_csv(\"train_data_set.csv\", mode='w', index=False)"
   ]
  },
  {
   "cell_type": "code",
   "execution_count": 1251,
   "metadata": {},
   "outputs": [],
   "source": [
    "# Dev Data\n",
    "temp = pd.DataFrame(columns=['utterance'])\n",
    "temp['utterance'] = dev_data2['utterance'].copy()\n",
    "\n",
    "for i in range(len(dev_data2)):   \n",
    "    temp['utterance'][i] = temp['utterance'][i].lower() # 소문자 통일\n",
    "    #temp['utterance'][i] = repeat_normalize(temp['utterance'][i], num_repeats=3) # 반복(4개 이상)이면 3개로 변경\n",
    "    temp['utterance'][i] = ' '.join([contractions[t] if t in contractions else t for t in temp['utterance'][i].split(\" \")]) # 축약문 교정\n",
    "    temp['utterance'][i] = re.sub(\"[^a-zA-Z ? !]\", \" \", temp['utterance'][i]) # 을 제외한 문자 제거\n",
    "    temp = temp.dropna(how = 'any') # 전처리 후 Null값 제거\n",
    "dev_data2['utterance'] = temp['utterance'].copy()\n",
    "dev_data2 = dev_data2.dropna(how = 'any') # 전처리 후 Null값 제거\n",
    "dev_data2.to_csv(\"dev_data_set.csv\", mode='w', index=False)"
   ]
  },
  {
   "cell_type": "code",
   "execution_count": 1252,
   "metadata": {},
   "outputs": [],
   "source": [
    "# Test Data\n",
    "temp = pd.DataFrame(columns=['utterance'])\n",
    "temp['utterance'] = test_data2['utterance'].copy()\n",
    "\n",
    "for i in range(len(test_data2)):\n",
    "    temp['utterance'][i] = temp['utterance'][i].lower() # 소문자 통일\n",
    "    #temp['utterance'][i] = repeat_normalize(temp['utterance'][i], num_repeats=3) # 반복(4개 이상)이면 3개로 변경\n",
    "    temp['utterance'][i] = ' '.join([contractions[t] if t in contractions else t for t in temp['utterance'][i].split(\" \")]) # 축약문 교정\n",
    "    temp['utterance'][i] = re.sub(\"[^a-zA-Z ? !]\", \" \", temp['utterance'][i]) # 을 제외한 문자 제거\n",
    "    temp = temp.dropna(how = 'any') # 전처리 후 Null값 제거\n",
    "test_data2['utterance'] = temp['utterance'].copy()\n",
    "test_data2 = test_data2.dropna(how = 'any') # 전처리 후 Null값 제거\n",
    "test_data2.to_csv(\"test_data_set.csv\", mode='w', index=False)"
   ]
  },
  {
   "cell_type": "markdown",
   "metadata": {},
   "source": [
    "### 3. 토큰화\n",
    "##### 데이터 로드, 토큰화, 불용어 제거, 표제어/어간(Lemmatization, Stemming) 추출"
   ]
  },
  {
   "cell_type": "code",
   "execution_count": 1967,
   "metadata": {},
   "outputs": [],
   "source": [
    "### 전처리 결과 불러오기\n",
    "\n",
    "train_data2 = pd.read_csv('./train_data_set.csv')\n",
    "dev_data2 = pd.read_csv('./dev_data_set.csv')\n",
    "test_data2 = pd.read_csv('./test_data_set.csv')"
   ]
  },
  {
   "cell_type": "code",
   "execution_count": 1968,
   "metadata": {},
   "outputs": [
    {
     "name": "stderr",
     "output_type": "stream",
     "text": [
      "[nltk_data] Downloading package stopwords to\n",
      "[nltk_data]     C:\\Users\\server\\AppData\\Roaming\\nltk_data...\n",
      "[nltk_data]   Package stopwords is already up-to-date!\n",
      "[nltk_data] Downloading package wordnet to\n",
      "[nltk_data]     C:\\Users\\server\\AppData\\Roaming\\nltk_data...\n",
      "[nltk_data]   Package wordnet is already up-to-date!\n"
     ]
    }
   ],
   "source": [
    "import nltk\n",
    "nltk.download('stopwords')\n",
    "nltk.download('wordnet')\n",
    "\n",
    "from tensorflow.keras.preprocessing.text import text_to_word_sequence # 토큰화\n",
    "tokenizer = Tokenizer()\n",
    "\n",
    "from nltk.tokenize import TreebankWordTokenizer\n",
    "tbwt = TreebankWordTokenizer()\n",
    "\n",
    "from nltk.corpus import stopwords # StopWord(불용어)\n",
    "stopwords.words('english')\n",
    "\n",
    "## Lemma\n",
    "# Lemmatization\n",
    "from nltk.stem import WordNetLemmatizer\n",
    "n = WordNetLemmatizer()\n",
    "\n",
    "## Stem\n",
    "# Stemming_Porter\n",
    "from nltk.stem import PorterStemmer\n",
    "p = PorterStemmer()\n",
    "\n",
    "# Stemming_Lancaster\n",
    "from nltk.stem import LancasterStemmer\n",
    "l=LancasterStemmer()\n",
    "\n",
    "# Stemming_SnowballStemmer\n",
    "from nltk.stem import SnowballStemmer\n",
    "s = SnowballStemmer('english')"
   ]
  },
  {
   "cell_type": "code",
   "execution_count": 1969,
   "metadata": {},
   "outputs": [],
   "source": [
    "new_stopwords = ['me','my','myself','you','your','yours','yourself','yourselves',\n",
    "                 'he','him','his','himself','she','her','hers','herself','we','our','ours','ourselves', \n",
    "                 'they','them','their','theirs','themselves','it','its','itself','this','that','these','those', \n",
    "                 'am','is','are','was','were','be','been','being', \n",
    "                 'will','should','would','could' 'may','might','have','has','had','having','do','does','did','doing',\n",
    "                 'an','the','and','or','against','between',\n",
    "                 'into','through','during','before','after','above','below','under','again','further','then','once','here','there',\n",
    "                 'now','both','each','few','other','own','same','ll','re','ve','ma','mr','ms','mrs',\n",
    "                 'a','b','c','d','e','f','g','h','i','j','k','l','m','n','o','p','q','r','s','t','u','v','w','x','y','z']\n",
    "#'of','at','by','for','with','about','to','from','up','down','in','out','on','off','over','as','until','just','all',\n",
    "#print(stopwords.words('english'))"
   ]
  },
  {
   "cell_type": "code",
   "execution_count": 1970,
   "metadata": {},
   "outputs": [],
   "source": [
    "## Train 데이터\n",
    "\n",
    "X_train2 = []\n",
    "\n",
    "for sentence in train_data2['utterance']:\n",
    "    temp_X2 = []\n",
    "    \n",
    "    # 토큰화\n",
    "    #temp_X2 = text_to_word_sequence(sentence)\n",
    "    temp_X2 = tbwt.tokenize(sentence)\n",
    "    \n",
    "    # Stopwords(불용어) 제거\n",
    "    temp_X2 = [word for word in temp_X2 if not word in new_stopwords]\n",
    "    #temp_X2 = [word for word in temp_X2 if not word in stopwords.words('english')]\n",
    "    \n",
    "    # Lemmatization\n",
    "    temp_X2 = [n.lemmatize(word, 'v') for word in temp_X2]\n",
    "    \n",
    "    # Stemming_Porter\n",
    "    #temp_X2 = [p.stem(word) for word in temp_X2]\n",
    "    \n",
    "    # Stemming_Lancaster\n",
    "    #temp_X2 = [l.stem(word) for word in temp_X2]\n",
    "    \n",
    "    # Stemming_SnowballStemmer\n",
    "    #temp_X2 = [s.stem(word) for word in temp_X2]\n",
    "    \n",
    "    X_train2.append(temp_X2)"
   ]
  },
  {
   "cell_type": "code",
   "execution_count": 1971,
   "metadata": {},
   "outputs": [],
   "source": [
    "## Dev 데이터\n",
    "\n",
    "X_dev2 = []\n",
    "    \n",
    "for sentence in dev_data2['utterance']:\n",
    "    temp_X2 = []\n",
    "    \n",
    "    # 토큰화\n",
    "    #temp_X2 = text_to_word_sequence(sentence)\n",
    "    temp_X2 = tbwt.tokenize(sentence)\n",
    "    \n",
    "    # Stopwords(불용어) 제거\n",
    "    temp_X2 = [word for word in temp_X2 if not word in new_stopwords]\n",
    "    #temp_X2 = [word for word in temp_X2 if not word in stopwords.words('english')]\n",
    "    \n",
    "    # Lemmatization\n",
    "    temp_X2 = [n.lemmatize(word, 'v') for word in temp_X2]\n",
    "    \n",
    "    # Stemming_Porter\n",
    "    #temp_X2 = [p.stem(word) for word in temp_X2]\n",
    "    \n",
    "    # Stemming_Lancaster\n",
    "    #temp_X2 = [l.stem(word) for word in temp_X2]\n",
    "    \n",
    "    # Stemming_SnowballStemmer\n",
    "    #temp_X2 = [s.stem(word) for word in temp_X2]\n",
    "    \n",
    "    X_dev2.append(temp_X2)"
   ]
  },
  {
   "cell_type": "code",
   "execution_count": 1972,
   "metadata": {},
   "outputs": [],
   "source": [
    "## Test 데이터\n",
    "\n",
    "X_test2 = []\n",
    "\n",
    "for sentence in test_data2['utterance']:\n",
    "    temp_X2 = []\n",
    "    \n",
    "    # 토큰화\n",
    "    #temp_X2 = text_to_word_sequence(sentence)\n",
    "    temp_X2 = tbwt.tokenize(sentence)\n",
    "    \n",
    "    # Stopwords(불용어) 제거\n",
    "    temp_X2 = [word for word in temp_X2 if not word in new_stopwords]\n",
    "    #temp_X2 = [word for word in temp_X2 if not word in stopwords.words('english')]\n",
    "    \n",
    "    # Lemmatization\n",
    "    temp_X2 = [n.lemmatize(word, 'v') for word in temp_X2]    \n",
    "    \n",
    "    # Stemming_Porter\n",
    "    #temp_X2 = [p.stem(word) for word in temp_X2]\n",
    "    \n",
    "    # Stemming_Lancaster\n",
    "    #temp_X = [l.stem(word) for word in temp_X2]\n",
    "    \n",
    "    # Stemming_SnowballStemmer\n",
    "    #temp_X2 = [s.stem(word) for word in temp_X2]\n",
    "        \n",
    "    X_test2.append(temp_X2)\n",
    "    "
   ]
  },
  {
   "cell_type": "code",
   "execution_count": null,
   "metadata": {},
   "outputs": [],
   "source": []
  },
  {
   "cell_type": "markdown",
   "metadata": {},
   "source": [
    "### 4. 정수 인코딩"
   ]
  },
  {
   "cell_type": "code",
   "execution_count": 1977,
   "metadata": {},
   "outputs": [],
   "source": [
    "# 빈도순 단어 집합 생성 -> 높은 정수값은 빈도가 낮은 것\n",
    "tokenizer = Tokenizer()\n",
    "tokenizer.fit_on_texts(X_train2)\n",
    "\n",
    "#print(tokenizer.word_index)"
   ]
  },
  {
   "cell_type": "code",
   "execution_count": 1978,
   "metadata": {},
   "outputs": [
    {
     "name": "stdout",
     "output_type": "stream",
     "text": [
      "4458\n"
     ]
    }
   ],
   "source": [
    "total_cnt = len(tokenizer.word_index)\n",
    "#print(total_cnt)"
   ]
  },
  {
   "cell_type": "code",
   "execution_count": 1979,
   "metadata": {},
   "outputs": [
    {
     "name": "stdout",
     "output_type": "stream",
     "text": [
      "[총 단어 수] 단어 집합(vocabulary)의 크기 : 4458\n",
      "등장 빈도가 2번 이하인 희귀 단어의 수: 2864\n",
      "단어 집합에서 희귀 단어의 비율: 64.2440556303275\n",
      "전체 등장 빈도에서 희귀 단어 등장 빈도 비율: 5.835530570618378\n"
     ]
    }
   ],
   "source": [
    "threshold = 3\n",
    "total_cnt = len(tokenizer.word_index) # 단어의 수\n",
    "rare_cnt = 0 # 등장 빈도수가 threshold보다 작은 단어의 개수를 카운트\n",
    "total_freq = 0 # 훈련 데이터의 전체 단어 빈도수 총 합\n",
    "rare_freq = 0 # 등장 빈도수가 threshold보다 작은 단어의 등장 빈도수의 총 합\n",
    "\n",
    "# 단어와 빈도수의 쌍(pair)을 key와 value로 받는다.\n",
    "for key, value in tokenizer.word_counts.items():\n",
    "    total_freq = total_freq + value\n",
    "\n",
    "    # 단어의 등장 빈도수가 threshold보다 작으면\n",
    "    if(value < threshold):\n",
    "        rare_cnt = rare_cnt + 1\n",
    "        rare_freq = rare_freq + value\n",
    "\n",
    "print('[총 단어 수] 단어 집합(vocabulary)의 크기 :',total_cnt)\n",
    "print('등장 빈도가 %s번 이하인 희귀 단어의 수: %s'%(threshold - 1, rare_cnt))\n",
    "print(\"단어 집합에서 희귀 단어의 비율:\", (rare_cnt / total_cnt)*100)\n",
    "print(\"전체 등장 빈도에서 희귀 단어 등장 빈도 비율:\", (rare_freq / total_freq)*100)"
   ]
  },
  {
   "cell_type": "code",
   "execution_count": 1980,
   "metadata": {},
   "outputs": [
    {
     "name": "stdout",
     "output_type": "stream",
     "text": [
      "단어 집합의 크기 : 1596\n"
     ]
    }
   ],
   "source": [
    "# 전체 단어 개수 중 빈도수 2번 이하인 단어 개수는 제거.\n",
    "# 0번 패딩 토큰과 1번 OOV 토큰을 고려하여 +2\n",
    "\n",
    "vocab_size = total_cnt - rare_cnt + 2\n",
    "print('단어 집합의 크기 :',vocab_size)"
   ]
  },
  {
   "cell_type": "code",
   "execution_count": 1981,
   "metadata": {},
   "outputs": [],
   "source": [
    "# 정수 인코딩 과정에서 이보다 큰 숫자가 부여된 단어들은 OOV로 변환하겠습니다. 다시 말해 정수 1번으로 할당\n",
    "tokenizer = Tokenizer(vocab_size, oov_token = 'OOV') \n",
    "tokenizer.fit_on_texts(X_train2)\n",
    "\n",
    "X_train2 = tokenizer.texts_to_sequences(X_train2)\n",
    "X_dev2 = tokenizer.texts_to_sequences(X_dev2)\n",
    "X_test2 = tokenizer.texts_to_sequences(X_test2)"
   ]
  },
  {
   "cell_type": "code",
   "execution_count": 1982,
   "metadata": {},
   "outputs": [],
   "source": [
    "y_train2 = np.array(train_data2['emotion_code'])\n",
    "y_dev2 = np.array(dev_data2['emotion_code'])\n",
    "y_test2 = np.array(test_data2['emotion_code'])"
   ]
  },
  {
   "cell_type": "code",
   "execution_count": 1983,
   "metadata": {},
   "outputs": [],
   "source": [
    "X_train2 = np.array(X_train2)\n",
    "X_dev2 = np.array(X_dev2)\n",
    "X_test2 = np.array(X_test2)"
   ]
  },
  {
   "cell_type": "code",
   "execution_count": null,
   "metadata": {},
   "outputs": [],
   "source": []
  },
  {
   "cell_type": "markdown",
   "metadata": {},
   "source": [
    "### 5. 빈 샘플 제거"
   ]
  },
  {
   "cell_type": "code",
   "execution_count": 1984,
   "metadata": {},
   "outputs": [],
   "source": [
    "drop_train2 = [index for index, sentence in enumerate(X_train2) if len(sentence) < 1]"
   ]
  },
  {
   "cell_type": "code",
   "execution_count": 1985,
   "metadata": {},
   "outputs": [],
   "source": [
    "#print(drop_train2)\n",
    "# 빈 샘플들을 제거\n",
    "X_train2 = np.delete(X_train2, drop_train2, axis=0)\n",
    "y_train2 = np.delete(y_train2, drop_train2, axis=0)"
   ]
  },
  {
   "cell_type": "code",
   "execution_count": null,
   "metadata": {},
   "outputs": [],
   "source": []
  },
  {
   "cell_type": "markdown",
   "metadata": {},
   "source": [
    "### 6. 패딩"
   ]
  },
  {
   "cell_type": "code",
   "execution_count": 1986,
   "metadata": {},
   "outputs": [
    {
     "name": "stdout",
     "output_type": "stream",
     "text": [
      "대사 최대 길이 : 47\n",
      "대사 평균 길이 : 6.53549365991113\n"
     ]
    },
    {
     "data": {
      "image/png": "[encoded data removed]",
      "text/plain": [
       "<Figure size 432x288 with 1 Axes>"
      ]
     },
     "metadata": {
      "needs_background": "light"
     },
     "output_type": "display_data"
    }
   ],
   "source": [
    "print('대사 최대 길이 :',max(len(l) for l in X_train2))\n",
    "print('대사 평균 길이 :',sum(map(len, X_train2))/len(X_train2))\n",
    "plt.hist([len(s) for s in X_train2], bins=50)\n",
    "plt.xlabel('length of samples')\n",
    "plt.ylabel('number of samples')\n",
    "plt.show()"
   ]
  },
  {
   "cell_type": "code",
   "execution_count": 1987,
   "metadata": {},
   "outputs": [],
   "source": [
    "# 전체 샘플 중 길이가 max_len 이하인 샘플의 비율이 몇 %인지 확인하는 함수\n",
    "\n",
    "def below_threshold_len(max_len, nested_list):\n",
    "    cnt = 0\n",
    "    for s in nested_list:\n",
    "        if(len(s) <= max_len):\n",
    "            cnt = cnt + 1\n",
    "    print('전체 샘플 중 길이가 %s 이하인 샘플의 비율: %s'%(max_len, (cnt / len(nested_list))*100))"
   ]
  },
  {
   "cell_type": "code",
   "execution_count": 1988,
   "metadata": {},
   "outputs": [
    {
     "name": "stdout",
     "output_type": "stream",
     "text": [
      "전체 샘플 중 길이가 14 이하인 샘플의 비율: 94.12593475669232\n"
     ]
    }
   ],
   "source": [
    "max_len = 14\n",
    "below_threshold_len(max_len, X_train2)"
   ]
  },
  {
   "cell_type": "code",
   "execution_count": 1989,
   "metadata": {},
   "outputs": [],
   "source": [
    "# 모든 샘플 길이 통일\n",
    "X_train2 = pad_sequences(X_train2, maxlen=max_len)\n",
    "X_dev2 = pad_sequences(X_dev2, maxlen=max_len)\n",
    "X_test2 = pad_sequences(X_test2, maxlen=max_len)"
   ]
  },
  {
   "cell_type": "code",
   "execution_count": 1990,
   "metadata": {},
   "outputs": [],
   "source": [
    "# 훈련/검증/테스트용 레이블의 원-핫 인코딩\n",
    "from keras.utils import to_categorical\n",
    "\n",
    "y_train2 = to_categorical(y_train2)\n",
    "y_dev2 = to_categorical(y_dev2)\n",
    "y_test2 = to_categorical(y_test2)"
   ]
  },
  {
   "cell_type": "code",
   "execution_count": null,
   "metadata": {},
   "outputs": [],
   "source": []
  },
  {
   "cell_type": "markdown",
   "metadata": {},
   "source": [
    "### 7. LSTM 모델 설정 및 학습/평가"
   ]
  },
  {
   "cell_type": "code",
   "execution_count": 1991,
   "metadata": {},
   "outputs": [],
   "source": [
    "from tensorflow.keras.datasets import reuters\n",
    "from tensorflow.keras.models import Sequential\n",
    "from tensorflow.keras.layers import Dense, LSTM, Embedding, Dropout\n",
    "from tensorflow.keras.preprocessing.sequence import pad_sequences\n",
    "from tensorflow.keras.utils import to_categorical\n",
    "from tensorflow.keras.callbacks import EarlyStopping, ModelCheckpoint\n",
    "from tensorflow.keras.models import load_model\n",
    "\n",
    "model2 = Sequential()\n",
    "\n",
    "model2.add(Embedding(vocab_size, 64, input_length=max_len))\n",
    "model2.add(Dropout(0.5))\n",
    "model2.add(LSTM(64, dropout=0.5, recurrent_dropout=0.5))\n",
    "model2.add(Dense(32, activation='relu'))\n",
    "model2.add(Dropout(0.5))\n",
    "model2.add(Dense(8, activation='softmax'))\n",
    "\n",
    "es = EarlyStopping(monitor='val_loss', mode='min', verbose=1, patience=4)\n",
    "mc = ModelCheckpoint('friends_best_model.h5', monitor='val_acc', mode='max', verbose=1, save_best_only=True)"
   ]
  },
  {
   "cell_type": "code",
   "execution_count": 1992,
   "metadata": {},
   "outputs": [
    {
     "name": "stdout",
     "output_type": "stream",
     "text": [
      "Epoch 1/15\n",
      "141/145 [============================>.] - ETA: 0s - loss: 1.7085 - acc: 0.4240\n",
      "Epoch 00001: val_acc improved from -inf to 0.44587, saving model to friends_best_model.h5\n",
      "145/145 [==============================] - 2s 13ms/step - loss: 1.7043 - acc: 0.4252 - val_loss: 1.5864 - val_acc: 0.4459\n",
      "Epoch 2/15\n",
      "142/145 [============================>.] - ETA: 0s - loss: 1.5021 - acc: 0.4922\n",
      "Epoch 00002: val_acc improved from 0.44587 to 0.46606, saving model to friends_best_model.h5\n",
      "145/145 [==============================] - 2s 11ms/step - loss: 1.5018 - acc: 0.4924 - val_loss: 1.5238 - val_acc: 0.4661\n",
      "Epoch 3/15\n",
      "142/145 [============================>.] - ETA: 0s - loss: 1.4401 - acc: 0.5041\n",
      "Epoch 00003: val_acc improved from 0.46606 to 0.47339, saving model to friends_best_model.h5\n",
      "145/145 [==============================] - 2s 11ms/step - loss: 1.4408 - acc: 0.5036 - val_loss: 1.5211 - val_acc: 0.4734\n",
      "Epoch 4/15\n",
      "141/145 [============================>.] - ETA: 0s - loss: 1.4023 - acc: 0.5186\n",
      "Epoch 00004: val_acc improved from 0.47339 to 0.48165, saving model to friends_best_model.h5\n",
      "145/145 [==============================] - 2s 11ms/step - loss: 1.3985 - acc: 0.5197 - val_loss: 1.4901 - val_acc: 0.4817\n",
      "Epoch 5/15\n",
      "145/145 [==============================] - ETA: 0s - loss: 1.3690 - acc: 0.5289\n",
      "Epoch 00005: val_acc did not improve from 0.48165\n",
      "145/145 [==============================] - 2s 11ms/step - loss: 1.3690 - acc: 0.5289 - val_loss: 1.4864 - val_acc: 0.4780\n",
      "Epoch 6/15\n",
      "141/145 [============================>.] - ETA: 0s - loss: 1.3403 - acc: 0.5363\n",
      "Epoch 00006: val_acc improved from 0.48165 to 0.49817, saving model to friends_best_model.h5\n",
      "145/145 [==============================] - 2s 11ms/step - loss: 1.3371 - acc: 0.5370 - val_loss: 1.4746 - val_acc: 0.4982\n",
      "Epoch 7/15\n",
      "141/145 [============================>.] - ETA: 0s - loss: 1.3222 - acc: 0.5437\n",
      "Epoch 00007: val_acc improved from 0.49817 to 0.50092, saving model to friends_best_model.h5\n",
      "145/145 [==============================] - 2s 11ms/step - loss: 1.3223 - acc: 0.5433 - val_loss: 1.4639 - val_acc: 0.5009\n",
      "Epoch 8/15\n",
      "141/145 [============================>.] - ETA: 0s - loss: 1.2856 - acc: 0.5565\n",
      "Epoch 00008: val_acc improved from 0.50092 to 0.51193, saving model to friends_best_model.h5\n",
      "145/145 [==============================] - 2s 11ms/step - loss: 1.2858 - acc: 0.5567 - val_loss: 1.4515 - val_acc: 0.5119\n",
      "Epoch 9/15\n",
      "143/145 [============================>.] - ETA: 0s - loss: 1.2702 - acc: 0.5597\n",
      "Epoch 00009: val_acc did not improve from 0.51193\n",
      "145/145 [==============================] - 2s 11ms/step - loss: 1.2713 - acc: 0.5590 - val_loss: 1.4400 - val_acc: 0.5119\n",
      "Epoch 10/15\n",
      "145/145 [==============================] - ETA: 0s - loss: 1.2547 - acc: 0.5661\n",
      "Epoch 00010: val_acc did not improve from 0.51193\n",
      "145/145 [==============================] - 2s 11ms/step - loss: 1.2547 - acc: 0.5661 - val_loss: 1.4289 - val_acc: 0.5110\n",
      "Epoch 11/15\n",
      "141/145 [============================>.] - ETA: 0s - loss: 1.2417 - acc: 0.5775\n",
      "Epoch 00011: val_acc improved from 0.51193 to 0.51927, saving model to friends_best_model.h5\n",
      "145/145 [==============================] - 2s 11ms/step - loss: 1.2414 - acc: 0.5775 - val_loss: 1.4442 - val_acc: 0.5193\n",
      "Epoch 12/15\n",
      "142/145 [============================>.] - ETA: 0s - loss: 1.2238 - acc: 0.5801\n",
      "Epoch 00012: val_acc improved from 0.51927 to 0.52018, saving model to friends_best_model.h5\n",
      "145/145 [==============================] - 2s 11ms/step - loss: 1.2226 - acc: 0.5804 - val_loss: 1.4320 - val_acc: 0.5202\n",
      "Epoch 13/15\n",
      "141/145 [============================>.] - ETA: 0s - loss: 1.2020 - acc: 0.5905\n",
      "Epoch 00013: val_acc did not improve from 0.52018\n",
      "145/145 [==============================] - 2s 11ms/step - loss: 1.2014 - acc: 0.5910 - val_loss: 1.4608 - val_acc: 0.5037\n",
      "Epoch 14/15\n",
      "141/145 [============================>.] - ETA: 0s - loss: 1.1931 - acc: 0.5934\n",
      "Epoch 00014: val_acc did not improve from 0.52018\n",
      "145/145 [==============================] - 2s 11ms/step - loss: 1.1918 - acc: 0.5946 - val_loss: 1.4551 - val_acc: 0.5128\n",
      "Epoch 00014: early stopping\n"
     ]
    }
   ],
   "source": [
    "model2.compile(loss='categorical_crossentropy', optimizer='adam', metrics=['acc'])\n",
    "history2 = model2.fit(X_train2, y_train2, batch_size=64, epochs=15, callbacks=[es, mc], validation_data=(X_dev2, y_dev2))"
   ]
  },
  {
   "cell_type": "code",
   "execution_count": 1993,
   "metadata": {},
   "outputs": [
    {
     "name": "stdout",
     "output_type": "stream",
     "text": [
      "79/79 [==============================] - 0s 2ms/step - loss: 1.2709 - acc: 0.5608\n",
      "\n",
      " 테스트 정확도: 0.5608\n"
     ]
    }
   ],
   "source": [
    "loaded_model2 = load_model('friends_best_model.h5')\n",
    "print(\"\\n 테스트 정확도: %.4f\" % (loaded_model2.evaluate(X_test2, y_test2)[1]))"
   ]
  },
  {
   "cell_type": "code",
   "execution_count": 1994,
   "metadata": {},
   "outputs": [
    {
     "data": {
      "image/png": "[encoded data removed]",
      "text/plain": [
       "<Figure size 432x288 with 1 Axes>"
      ]
     },
     "metadata": {
      "needs_background": "light"
     },
     "output_type": "display_data"
    }
   ],
   "source": [
    "epochs = range(1, len(history2.history['loss']) + 1)\n",
    "plt.plot(epochs, history2.history['loss'])\n",
    "plt.plot(epochs, history2.history['val_loss'])\n",
    "plt.title('model loss')\n",
    "plt.ylabel('loss')\n",
    "plt.xlabel('epoch')\n",
    "plt.legend(['train', 'train_dev'], loc='upper left')\n",
    "plt.show()"
   ]
  },
  {
   "cell_type": "code",
   "execution_count": 1995,
   "metadata": {},
   "outputs": [
    {
     "data": {
      "image/png": "[encoded data removed]",
      "text/plain": [
       "<Figure size 432x288 with 1 Axes>"
      ]
     },
     "metadata": {
      "needs_background": "light"
     },
     "output_type": "display_data"
    }
   ],
   "source": [
    "epochs = range(1, len(history2.history['acc']) + 1)\n",
    "plt.plot(epochs, history2.history['acc'])\n",
    "plt.plot(epochs, history2.history['val_acc'])\n",
    "plt.title('model acc')\n",
    "plt.ylabel('acc')\n",
    "plt.xlabel('epoch')\n",
    "plt.legend(['train', 'train_dev'], loc='upper left')\n",
    "plt.show()"
   ]
  },
  {
   "cell_type": "code",
   "execution_count": 1996,
   "metadata": {},
   "outputs": [
    {
     "name": "stdout",
     "output_type": "stream",
     "text": [
      "[[   1    0    0   32   29   75    0   18]\n",
      " [   1    0    0    5   36   20    1    4]\n",
      " [   0    0    0    3   14   11    0    3]\n",
      " [   0    0    0  144   57   38    0   19]\n",
      " [   0    0    0   41 1013   71    2   28]\n",
      " [   1    0    0   66  257  114    8   68]\n",
      " [   0    0    0    3   60   10   10    1]\n",
      " [   0    0    0   26   68   29    0  115]]\n"
     ]
    }
   ],
   "source": [
    "from sklearn.model_selection import train_test_split\n",
    "from sklearn.metrics import confusion_matrix\n",
    "import seaborn as sns\n",
    "from pandas import DataFrame as df\n",
    "\n",
    "predictions2 = model2.predict(X_test2)\n",
    "\n",
    "y_pred2 = []\n",
    "for i in range (len(predictions2)):\n",
    "    val_index = []\n",
    "    val_index.append(np.argmax(predictions2[i]))\n",
    "    y_pred2.append(val_index)\n",
    "    \n",
    "y_pred2 = np.array(y_pred2)\n",
    "\n",
    "\n",
    "actual = []\n",
    "for i in range (len(y_test2)):\n",
    "    val_index = []\n",
    "    val_index.append(np.argmax(y_test2[i]))\n",
    "    actual.append(val_index)\n",
    "\n",
    "cf2 = confusion_matrix(actual, y_pred2)\n",
    "print(cf2)"
   ]
  },
  {
   "cell_type": "code",
   "execution_count": 1999,
   "metadata": {},
   "outputs": [
    {
     "data": {
      "text/html": [
       "<div>\n",
       "<style scoped>\n",
       "    .dataframe tbody tr th:only-of-type {\n",
       "        vertical-align: middle;\n",
       "    }\n",
       "\n",
       "    .dataframe tbody tr th {\n",
       "        vertical-align: top;\n",
       "    }\n",
       "\n",
       "    .dataframe thead th {\n",
       "        text-align: right;\n",
       "    }\n",
       "</style>\n",
       "<table border=\"1\" class=\"dataframe\">\n",
       "  <thead>\n",
       "    <tr style=\"text-align: right;\">\n",
       "      <th></th>\n",
       "      <th>0</th>\n",
       "      <th>1</th>\n",
       "      <th>2</th>\n",
       "      <th>3</th>\n",
       "      <th>4</th>\n",
       "      <th>5</th>\n",
       "      <th>6</th>\n",
       "      <th>7</th>\n",
       "    </tr>\n",
       "  </thead>\n",
       "  <tbody>\n",
       "    <tr>\n",
       "      <th>0</th>\n",
       "      <td>1</td>\n",
       "      <td>0</td>\n",
       "      <td>0</td>\n",
       "      <td>32</td>\n",
       "      <td>29</td>\n",
       "      <td>75</td>\n",
       "      <td>0</td>\n",
       "      <td>18</td>\n",
       "    </tr>\n",
       "    <tr>\n",
       "      <th>1</th>\n",
       "      <td>1</td>\n",
       "      <td>0</td>\n",
       "      <td>0</td>\n",
       "      <td>5</td>\n",
       "      <td>36</td>\n",
       "      <td>20</td>\n",
       "      <td>1</td>\n",
       "      <td>4</td>\n",
       "    </tr>\n",
       "    <tr>\n",
       "      <th>2</th>\n",
       "      <td>0</td>\n",
       "      <td>0</td>\n",
       "      <td>0</td>\n",
       "      <td>3</td>\n",
       "      <td>14</td>\n",
       "      <td>11</td>\n",
       "      <td>0</td>\n",
       "      <td>3</td>\n",
       "    </tr>\n",
       "    <tr>\n",
       "      <th>3</th>\n",
       "      <td>0</td>\n",
       "      <td>0</td>\n",
       "      <td>0</td>\n",
       "      <td>144</td>\n",
       "      <td>57</td>\n",
       "      <td>38</td>\n",
       "      <td>0</td>\n",
       "      <td>19</td>\n",
       "    </tr>\n",
       "    <tr>\n",
       "      <th>4</th>\n",
       "      <td>0</td>\n",
       "      <td>0</td>\n",
       "      <td>0</td>\n",
       "      <td>41</td>\n",
       "      <td>1013</td>\n",
       "      <td>71</td>\n",
       "      <td>2</td>\n",
       "      <td>28</td>\n",
       "    </tr>\n",
       "    <tr>\n",
       "      <th>5</th>\n",
       "      <td>1</td>\n",
       "      <td>0</td>\n",
       "      <td>0</td>\n",
       "      <td>66</td>\n",
       "      <td>257</td>\n",
       "      <td>114</td>\n",
       "      <td>8</td>\n",
       "      <td>68</td>\n",
       "    </tr>\n",
       "    <tr>\n",
       "      <th>6</th>\n",
       "      <td>0</td>\n",
       "      <td>0</td>\n",
       "      <td>0</td>\n",
       "      <td>3</td>\n",
       "      <td>60</td>\n",
       "      <td>10</td>\n",
       "      <td>10</td>\n",
       "      <td>1</td>\n",
       "    </tr>\n",
       "    <tr>\n",
       "      <th>7</th>\n",
       "      <td>0</td>\n",
       "      <td>0</td>\n",
       "      <td>0</td>\n",
       "      <td>26</td>\n",
       "      <td>68</td>\n",
       "      <td>29</td>\n",
       "      <td>0</td>\n",
       "      <td>115</td>\n",
       "    </tr>\n",
       "  </tbody>\n",
       "</table>\n",
       "</div>"
      ],
      "text/plain": [
       "   0  1  2    3     4    5   6    7\n",
       "0  1  0  0   32    29   75   0   18\n",
       "1  1  0  0    5    36   20   1    4\n",
       "2  0  0  0    3    14   11   0    3\n",
       "3  0  0  0  144    57   38   0   19\n",
       "4  0  0  0   41  1013   71   2   28\n",
       "5  1  0  0   66   257  114   8   68\n",
       "6  0  0  0    3    60   10  10    1\n",
       "7  0  0  0   26    68   29   0  115"
      ]
     },
     "execution_count": 1999,
     "metadata": {},
     "output_type": "execute_result"
    }
   ],
   "source": [
    "df_cm2 = df(cf2, index=[i for i in \"01234567\"], columns= [i for i in \"01234567\"])\n",
    "df_cm2"
   ]
  },
  {
   "cell_type": "code",
   "execution_count": 2000,
   "metadata": {},
   "outputs": [
    {
     "data": {
      "text/plain": [
       "<AxesSubplot:title={'center':'confusion matrix without confusion'}>"
      ]
     },
     "execution_count": 2000,
     "metadata": {},
     "output_type": "execute_result"
    },
    {
     "data": {
      "image/png": "[encoded data removed]",
      "text/plain": [
       "<Figure size 504x504 with 2 Axes>"
      ]
     },
     "metadata": {
      "needs_background": "light"
     },
     "output_type": "display_data"
    }
   ],
   "source": [
    "plt.figure(figsize = (7,7))\n",
    "plt.title('confusion matrix without confusion')\n",
    "sns.heatmap(df_cm2, annot=True, fmt='d')"
   ]
  },
  {
   "cell_type": "code",
   "execution_count": null,
   "metadata": {},
   "outputs": [],
   "source": []
  },
  {
   "cell_type": "markdown",
   "metadata": {},
   "source": [
    "### Private Data 평가 실행"
   ]
  },
  {
   "cell_type": "code",
   "execution_count": 2002,
   "metadata": {},
   "outputs": [],
   "source": [
    "def sentiment_predict(new_sentence):\n",
    "\n",
    "    # 전처리\n",
    "    new_sentence = new_sentence.lower() # 소문자로 통일\n",
    "    #new_sentence = repeat_normalize(new_sentence, num_repeats=3) # 반복(4개 이상)이면 3개로 변경\n",
    "    new_sentence = ' '.join([contractions[t] if t in contractions else t for t in new_sentence.split(\" \")]) # 축약문 교정\n",
    "    new_sentence = re.sub(\"[^a-zA-Z ? !]\", \" \", new_sentence) # 영어, 공백, ?, ! 을 제외한 문자 제거\n",
    "    \n",
    "    #토큰화\n",
    "    #new_sentence = text_to_word_sequence(new_sentence)  \n",
    "    new_sentence = tbwt.tokenize(new_sentence)\n",
    "    \n",
    "    #Stopword(불용어) 제거\n",
    "    #new_sentence = [word for word in new_sentence if not word in stopwords.words('english')]\n",
    "    new_sentence = [word for word in new_sentence if not word in new_stopwords]\n",
    "    \n",
    "    #Lemmatization\n",
    "    new_sentence = [n.lemmatize(word, 'v') for word in new_sentence] \n",
    "    \n",
    "    # Stemming_Porter\n",
    "    #new_sentence = [p.stem(word) for word in new_sentence]\n",
    "    \n",
    "    # Stemming_Lancaster\n",
    "    #new_sentence = [l.stem(word) for word in new_sentence]\n",
    "    \n",
    "    # Stemming_SnowballStemmer\n",
    "    #new_sentence = [s.stem(word) for word in new_sentence]        \n",
    "    \n",
    "    #정수 인코딩\n",
    "    encoded = tokenizer.texts_to_sequences([new_sentence])\n",
    "    \n",
    "    #패딩\n",
    "    pad_new = pad_sequences(encoded, maxlen = max_len)\n",
    "    \n",
    "    score = loaded_model2.predict(pad_new)\n",
    "\n",
    "    #val = np.max(score)\n",
    "    val_index = np.argmax(score)\n",
    "\n",
    "    if(val_index==0):\n",
    "        return \"anger\"\n",
    "    elif(val_index==1):\n",
    "        return \"disgust\"\n",
    "    elif(val_index==2):\n",
    "        return \"fear\"\n",
    "    elif(val_index==3):\n",
    "        return \"joy\"\n",
    "    elif(val_index==4):\n",
    "        return \"neutral\"\n",
    "    elif(val_index==5):\n",
    "        return \"non-neutral\"\n",
    "    elif(val_index==6):\n",
    "        return \"sadness\"\n",
    "    elif(val_index==7):\n",
    "        return \"surprise\""
   ]
  },
  {
   "cell_type": "code",
   "execution_count": 1998,
   "metadata": {},
   "outputs": [
    {
     "name": "stderr",
     "output_type": "stream",
     "text": [
      "<ipython-input-1998-cfee1748ee8f>:6: SettingWithCopyWarning: \n",
      "A value is trying to be set on a copy of a slice from a DataFrame\n",
      "\n",
      "See the caveats in the documentation: https://pandas.pydata.org/pandas-docs/stable/user_guide/indexing.html#returning-a-view-versus-a-copy\n",
      "  eval_data['Predicted'][i] = Predicted\n"
     ]
    }
   ],
   "source": [
    "eval_data = pd.read_csv('./en_data.csv', engine='python', encoding='utf-8')\n",
    "eval_data['Predicted'] = 0\n",
    "\n",
    "for i in range(len(eval_data)):\n",
    "    Predicted = sentiment_predict(eval_data['utterance'][i])\n",
    "    eval_data['Predicted'][i] = Predicted\n",
    "    \n",
    "eval_data.drop(['i_dialog'], axis='columns', inplace=True)\n",
    "eval_data.drop(['i_utterance'], axis='columns', inplace=True)\n",
    "eval_data.drop(['speaker'], axis='columns', inplace=True)\n",
    "eval_data.drop(['utterance'], axis='columns', inplace=True)\n",
    "\n",
    "eval_data.to_csv(\"result_2019512014_이동환.csv\", index=False)"
   ]
  },
  {
   "cell_type": "code",
   "execution_count": null,
   "metadata": {},
   "outputs": [],
   "source": []
  },
  {
   "cell_type": "code",
   "execution_count": null,
   "metadata": {},
   "outputs": [],
   "source": []
  },
  {
   "cell_type": "code",
   "execution_count": null,
   "metadata": {},
   "outputs": [],
   "source": []
  },
  {
   "cell_type": "code",
   "execution_count": null,
   "metadata": {},
   "outputs": [],
   "source": []
  }
 ],
 "metadata": {
  "kernelspec": {
   "display_name": "Python 3",
   "language": "python",
   "name": "python3"
  },
  "language_info": {
   "codemirror_mode": {
    "name": "ipython",
    "version": 3
   },
   "file_extension": ".py",
   "mimetype": "text/x-python",
   "name": "python",
   "nbconvert_exporter": "python",
   "pygments_lexer": "ipython3",
   "version": "3.8.5"
  }
 },
 "nbformat": 4,
 "nbformat_minor": 4
}
