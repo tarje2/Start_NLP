{
 "cells": [
  {
   "cell_type": "code",
   "execution_count": null,
   "metadata": {},
   "outputs": [],
   "source": []
  },
  {
   "cell_type": "code",
   "execution_count": null,
   "metadata": {},
   "outputs": [],
   "source": []
  },
  {
   "cell_type": "code",
   "execution_count": null,
   "metadata": {},
   "outputs": [],
   "source": []
  },
  {
   "cell_type": "markdown",
   "metadata": {},
   "source": [
    "### 1. ElasticSearch 연동 및 확인"
   ]
  },
  {
   "cell_type": "code",
   "execution_count": 1,
   "metadata": {},
   "outputs": [],
   "source": [
    "from elasticsearch import Elasticsearch\n",
    "from elasticsearch import helpers"
   ]
  },
  {
   "cell_type": "code",
   "execution_count": 2,
   "metadata": {},
   "outputs": [
    {
     "data": {
      "text/plain": [
       "{'name': 'Wilshere_Elasticsearch',\n",
       " 'cluster_name': 'Wilshere_ES',\n",
       " 'cluster_uuid': 'e8ZntsY7R7CEZnj8Odv-Rw',\n",
       " 'version': {'number': '7.12.1',\n",
       "  'build_flavor': 'default',\n",
       "  'build_type': 'tar',\n",
       "  'build_hash': '3186837139b9c6b6d23c3200870651f10d3343b7',\n",
       "  'build_date': '2021-04-20T20:56:39.040728659Z',\n",
       "  'build_snapshot': False,\n",
       "  'lucene_version': '8.8.0',\n",
       "  'minimum_wire_compatibility_version': '6.8.0',\n",
       "  'minimum_index_compatibility_version': '6.0.0-beta1'},\n",
       " 'tagline': 'You Know, for Search'}"
      ]
     },
     "execution_count": 2,
     "metadata": {},
     "output_type": "execute_result"
    }
   ],
   "source": [
    "es = Elasticsearch('http://13.209.84.139:9200')\n",
    "es.info()"
   ]
  },
  {
   "cell_type": "code",
   "execution_count": null,
   "metadata": {},
   "outputs": [],
   "source": []
  },
  {
   "cell_type": "markdown",
   "metadata": {},
   "source": [
    "### 2. ElasticSearch 에 index 생성"
   ]
  },
  {
   "cell_type": "code",
   "execution_count": 3,
   "metadata": {},
   "outputs": [],
   "source": [
    "# 데이터를 색인화하기 위한 함수\n",
    "def indexing(es, index_name):\n",
    "    # 이미 존재할 경우 삭제하고 다시 만들기\n",
    "    if es.indices.exists(index=index_name):\n",
    "        es.indices.delete(index=index_name)\n",
    "\n",
    "    # 인덱스 생성\n",
    "    print(es.indices.create(index=index_name))"
   ]
  },
  {
   "cell_type": "code",
   "execution_count": 11,
   "metadata": {},
   "outputs": [
    {
     "name": "stdout",
     "output_type": "stream",
     "text": [
      "{'acknowledged': True, 'shards_acknowledged': True, 'index': 'en_wiki_5'}\n"
     ]
    }
   ],
   "source": [
    "# 인덱스명을 정하기 (자유롭게)\n",
    "index_name = 'en_wiki_5'\n",
    "#index_name = 'temp1'\n",
    "indexing(es, index_name)"
   ]
  },
  {
   "cell_type": "code",
   "execution_count": null,
   "metadata": {},
   "outputs": [],
   "source": [
    "en_wiki_1\n",
    "en_wiki_2\n",
    "en_wiki_3\n",
    "en_wiki_4\n",
    "en_wiki_5"
   ]
  },
  {
   "cell_type": "code",
   "execution_count": null,
   "metadata": {},
   "outputs": [],
   "source": []
  },
  {
   "cell_type": "markdown",
   "metadata": {},
   "source": [
    "### 3. ElasticSearch 에 데이터 적재(인덱싱)"
   ]
  },
  {
   "cell_type": "code",
   "execution_count": null,
   "metadata": {},
   "outputs": [],
   "source": [
    "./en_wiki_dump/enwiki-20210520_1_result/AA~AD || AA/AB/AC/AD\n",
    "./en_wiki_dump/enwiki-20210520_2_result/AA~AF || AA/AB/AC/AD/AE/AF\n",
    "./en_wiki_dump/enwiki-20210520_3_result/AA~AE || AA/AB/AC/AD/AE\n",
    "./en_wiki_dump/enwiki-20210520_4_result/AA~AF || AA/AB/AC/AD/AE/AF\n",
    "./en_wiki_dump/enwiki-20210520_5_result/AA~AF || AA/AB/AC/AD/AE/AF\n",
    "여기까지"
   ]
  },
  {
   "cell_type": "code",
   "execution_count": 17,
   "metadata": {},
   "outputs": [
    {
     "data": {
      "text/plain": [
       "{'_shards': {'total': 2, 'successful': 1, 'failed': 0}}"
      ]
     },
     "execution_count": 17,
     "metadata": {},
     "output_type": "execute_result"
    }
   ],
   "source": [
    "import os\n",
    "import xml.etree.ElementTree as ET\n",
    "import json, codecs\n",
    "import xmltodict\n",
    "from collections import OrderedDict\n",
    "\n",
    "path = './en_wiki_dump/enwiki-20210520_5_result/AF/'\n",
    "file_list = os.listdir(path)\n",
    "\n",
    "for i in range(len(file_list)):\n",
    "    fr = open(path + file_list[i],'r', encoding=\"utf-8\")\n",
    "    data = fr.readlines()\n",
    "    \n",
    "    for j in range(len(data)):\n",
    "        es.index(index=index_name, doc_type='string', body=data[j])\n",
    "\n",
    "    fr.close()\n",
    "es.indices.refresh(index=index_name)"
   ]
  },
  {
   "cell_type": "code",
   "execution_count": null,
   "metadata": {},
   "outputs": [],
   "source": []
  },
  {
   "cell_type": "code",
   "execution_count": null,
   "metadata": {},
   "outputs": [],
   "source": []
  },
  {
   "cell_type": "code",
   "execution_count": null,
   "metadata": {},
   "outputs": [],
   "source": []
  },
  {
   "cell_type": "code",
   "execution_count": null,
   "metadata": {},
   "outputs": [],
   "source": []
  },
  {
   "cell_type": "code",
   "execution_count": null,
   "metadata": {},
   "outputs": [],
   "source": []
  },
  {
   "cell_type": "markdown",
   "metadata": {},
   "source": [
    "### 4. ElasticSearch 에 적재된 데이터 검색"
   ]
  },
  {
   "cell_type": "code",
   "execution_count": 35,
   "metadata": {},
   "outputs": [
    {
     "name": "stdout",
     "output_type": "stream",
     "text": [
      "score: 5.802776 source: {'id': '174397', 'revid': '41419081', 'url': 'https://en.wikipedia.org/wiki?curid=174397', 'title': 'Computer addiction', 'text': 'Computer addiction is a form of behavioral addiction that can be described as the excessive or compulsive use of the computer, which persists despite serious negative consequences for personal, social, or occupational function. Another clear conceptualization is made by Block, who stated that \"Conceptually, the diagnosis is a compulsive-impulsive spectrum disorder that involves online and/or offline computer usage and consists of at least three subtypes: excessive gaming, sexual preoccupations, and e-mail/text messaging\". Computer addiction is not currently included in the \"Diagnostic and Statistical Manual of Mental Disorders (DSM-5)\" as an official disorder. The concept of computer addiction is broadly divided into two types, namely offline computer addiction, and online computer addiction. Offline computer addiction is normally used when speaking about excessive gaming behavior, which can be practiced both offline and online. Online computer addiction, also known as Internet addiction, gets more attention in general from scientific research than offline computer addiction, mainly because most cases of computer addiction are related to the excessive use of the Internet.\\nExperts on Internet addiction have described this syndrome as an individual working intensely on the Internet, prolonged use of the Internet, uncontrollable use of the Internet, unable to use the Internet in an efficient, timely matter, not being interested in the outside world, not spending time with people from the outside world, and an increase in their loneliness and dejection. \\nEffects.\\nExcessive computer use may result in, or occur with:\\nCauses.\\nKimberly Young indicates that previous research links internet/computer addiction with existing mental health issues, most notably depression. She states that computer addiction has significant effects socially, such as low self-esteem, psychologically and occupationally, which led many subjects to academic failure.\\nAccording to a Korean study on internet/computer addiction, pathological use of the internet results in negative life impacts such as job loss, marriage breakdown, financial debt, and academic failure. 70% of internet users in Korea are reported to play online games, 18% of whom are diagnosed as game addicts, which relates to internet/computer addiction. The authors of the article conducted a study using Kimberly Young\\'s questionnaire. The study showed that the majority of those who met the requirements of internet/computer addiction suffered from interpersonal difficulties and stress and that those addicted to online games specifically responded that they hoped to avoid reality.\\nTypes.\\nComputers nowadays rely almost entirely on the internet, and thus relevant research articles relating to internet addiction may also be relevant to computer addiction.\\nDiagnostic Test.\\nMany studies and surveys are being conducted to measure the extent of this type of addiction. Kimberly Young has created a questionnaire based on other disorders to assess the level of addiction. It is called the Internet Addict Diagnostic Questionnaire or IADQ. The questionnaire asks users about their online usage habits as well as their feelings about their internet usage. According to the IADQ sample, Internet Addiction resembles that of a Gambling disorder. Answering positively to five out of the eight questions on the IADQ may be indicative of online addiction. \\nOrigin of the term and history.\\nObservations about the addictiveness of computers, and more specifically, computer games date back at least to the mid-1970s. Addiction and addictive behavior were common among the users of the PLATO system at the University of Illinois. British e-learning academic Nicholas Rushby suggested in his 1979 book, \"An Introduction to Educational Computing\", that people can be addicted to computers and suffer withdrawal symptoms. The term was also used by M. Shotton in 1989 in her book \"Computer Addiction\". However, Shotton concludes that the \\'addicts\\' are not truly addicted. Dependency on computers, she argues, is better understood as a challenging and exciting pastime that can also lead to a professional career in the field. Computers do not turn gregarious, extroverted people into recluses; instead, they offer introverts a source of inspiration, excitement, and intellectual stimulation. Shotton\\'s work seriously questions the legitimacy of the claim that computers cause addiction.\\nThe term became more widespread with the explosive growth of the Internet, as well the availability of the personal computer. Computers and the Internet both started to take shape as a personal and comfortable medium that could be used by anyone who wanted to make use of it. With that explosive growth of individuals making use of PCs and the Internet, the question started to arise whether or not misuse or excessive use of these new technologies could be possible as well. It was hypothesized that, like any technology aimed specifically at human consumption and use, abuse could have severe consequences for the individual in the short term and the society in the long term. In the late nineties people who made use of PCs and the internet were already referred to the term webaholics or cyberholics. Pratarelli et al. suggested at that point already to label \"a cluster of behaviors potentially causing problems\" as a computer or Internet addiction.\\nThere are other examples of computer overuse that date back to the earliest computer games. Press reports have furthermore noted that some Finnish Defence Forces conscripts were not mature enough to meet the demands of military life and were required to interrupt or postpone military service for a year. One reported source of the lack of needed social skills is an overuse of computer games or the Internet. Forbes termed this overuse \"Web fixations\", and stated that they were responsible for 12 such interruptions or deferrals over the 5 years from 2000–2005.\\nReferences.\\nWorks cited\\n&lt;br&gt;'}\n",
      "score: 5.7879167 source: {'id': '164494', 'revid': '20549476', 'url': 'https://en.wikipedia.org/wiki?curid=164494', 'title': 'Computer magazine', 'text': 'Computer magazines are about computers and related subjects, such as networking and the Internet. Most computer magazines offer (or offered) advice, some offer programming tutorials, reviews of the latest technologies, and advertisements.\\nHistory.\\n1980s.\\n1980s computer magazines skewed their content towards the hobbyist end of the then-microcomputer market, and used to contain type-in programs, but these have gone out of fashion. The first magazine devoted to this class of computers was \"Creative Computing\". \"Byte\" was an influential technical journal that published until the 1990s.\\nIn 1983 an average of one new computer magazine appeared each week. By late that year more than 200 existed. Their numbers and size grew rapidly with the industry they covered, and \"BYTE\" and \"80 Micro\" were among the three thickest magazines of any kind per issue. \"Compute!\"s editor in chief reported in the December 1983 issue that \"all of our previous records are being broken: largest number of pages, largest-number of four-color advertising pages, largest number of printing pages, and the largest number of editorial pages\".\\nComputers were the only industry with product-specific magazines, like \"80 Micro\", \"PC Magazine\", and \"Macworld\"; their editors vowed to impartially cover their computers whether or not doing so hurt their readers\\' and advertisers\\' market, while claiming that their rivals pandered to advertisers by only publishing positive news. \"BYTE\" in March 1984 apologized for publishing articles by authors with promotional material for companies without describing them as such, and in April suggested that other magazines adopt its rules of conduct for writers, such as prohibiting employees from accepting gifts or discounts. \"InfoWorld\" stated in June that many of the \"150 or so\" industry magazines published articles without clearly identifying authors\\' affiliations and conflicts of interest.\\nMany magazines ended that year, however, as their number exceeded the amount of available advertising revenue despite revenue in the first half of the year five times that of the same period in 1982. Consumers typically bought computer magazines more for advertising than articles, which benefited already leading journals like \"BYTE\" and \"PC Magazine\" and hurt weaker ones. Also affecting magazines was the computer industry\\'s economic difficulties, including the video game crash of 1983, which badly hurt the home-computer market. Dan Gutman, the founder of \"Computer Games\", recalled in 1987 that \"the computer games industry crashed and burned like a bad night of \"Flight Simulator\"—with my magazine on the runway\". \"Antic\"s advertising sales declined by 50% in 90 days, \"Compute!\" number of pages declined from 392 in December 1983 to 160 ten months later, and \"Compute!\" and \"Compute!\\'s Gazette\"s publisher assured readers in an editorial that his company \"is and continues to be quite successful ... even during these particularly difficult times in the industry\". \"Computer Gaming World\" stated in 1988 that it was the only one of the 18 color magazines that covered computer games in 1983 to survive the crash. \"Compute!\" similarly stated that year that it was the only general-interest survivor of about 150 consumer-computing magazines published in 1983.\\nSome computer magazines in the 1980s and 1990s were issued only on disk (or cassette tape, or CD-ROM) with no printed counterpart; such publications are collectively (though somewhat inaccurately) known as \"disk magazines\" and are listed separately.\\n1990s.\\nIn some ways the heyday of printed computer magazines was a period during the 1990s, in which a large number of computer manufacturers took out advertisements in computer magazines, so they became quite thick and could afford to carry quite a number of articles in each issue, (\"Computer Shopper\" was a good example of this trend). Some printed computer magazines used to include covermount floppy disks, CDs, or other media as inserts; they typically contained software, demos, and electronic versions of the print issue.\\n2000s–2010s.\\nHowever, with the rise in popularity of the Internet, many computer magazines went bankrupt or transitioned to an online-only existence. Exceptions include \"Wired\", which is more of a technology magazine than a computer magazine.'}\n",
      "score: 5.7861576 source: {'id': '255078', 'revid': '2175', 'url': 'https://en.wikipedia.org/wiki?curid=255078', 'title': 'Open Letter to Hobbyists', 'text': 'The Open Letter to Hobbyists is a 1976 open letter written by Bill Gates, the co-founder of Microsoft, to early personal computer hobbyists, in which Gates expresses dismay at the rampant software piracy taking place in the hobbyist community, particularly with regard to his company\\'s software.\\nIn the letter, Gates expressed frustration with most computer hobbyists who were using his company\\'s Altair BASIC software without having paid for it. He asserted that such widespread unauthorized copying in effect discouraged developers from investing time and money in creating high-quality software. He cited the unfairness of gaining the benefits of software authors\\' time, effort, and capital without paying them as a rationale for refusing to publish the machine code for his company\\'s flagship product, thereby making it available to lower-income hobbyists who could have borrowed such program listings from their local library and entered the program into their hobby computer by data entry.\\nAltair BASIC.\\nIn December 1974, Gates, a student at Harvard University, alongside Microsoft co-founder Paul Allen, who worked at Honeywell in Boston, both saw the Altair 8800 computer in the January 1975 issue of \"Popular Electronics\" for the first time. They had both written BASIC language programs since their days at Lakeside School in Seattle, and knew the Altair computer was powerful enough to support a BASIC interpreter. Both Gates and Allen wanted to be the first to offer BASIC for the Altair computer, and expected the software development tools they had previously created for their Intel 8008 microprocessor-based Traf-O-Data computer to give them a head start.\\nBy early March of the following year, Allen, Gates and Monte Davidoff, a fellow Harvard student, had created a BASIC interpreter that worked under simulation on a PDP-10 mainframe computer at Harvard. Allen and Gates had been in contact with Ed Roberts of MITS, and in March 1975, Allen visited Albuquerque, New Mexico, to test the software on an actual machine. To both Allen and Roberts\\' surprise, the software worked. MITS agreed to license the software from Allen and Gates. Allen left his job at Honeywell, and became the Vice President and Director of Software at MITS with a salary of $30,000 a year; Gates remained a student at Harvard, and worked under MITS as a contractor instead, with the October 1975 company newsletter giving his title at the company as \"Software Specialist\".\\nOn July 22, 1975, MITS signed the contract with Allen and Gates, who would receive $3000 at the signing and a royalty for each copy of BASIC sold; $30 for the 4K version, $35 for the 8K version and $60 for the expanded version. The contract had a cap of $180,000, with MITS retaining an exclusive worldwide license to the program for 10 years. MITS would supply the computer time necessary for development on a PDP-10 owned by the Albuquerque school district.\\nThe April 1975 issue of MITS\\'s \"Computer Notes\" had the banner headline \"Altair Basic – Up and Running\". The Altair 8800 computer was a break-even sale for MITS, who would need to sell additional memory boards, I/O boards, and other add-on options to make a profit. When purchased with two 4K memory boards and an I/O board, the 8K BASIC cost just $75, the initial standalone price for BASIC being $500. To promote the computer, MITS purchased a camper van and outfitted it with the complete product line, dubbed the \"MITS-Mobile\"; the company used this van to tour the United States, giving seminars featuring the Altair Computer and Altair BASIC.\\n1975 Homebrew Computer Club and subsequent copying of Altair BASIC.\\nThe Homebrew Computer Club was an early computer hobbyist club in Palo Alto, California. At the first meeting in March 1975, Steve Dompier gave an account of his visit to the MITS factory in Albuquerque, where he had attempted to pick up his order for one of everything. He left with a computer kit with 256 bytes of memory. At the April 16, 1975 club meeting, Dompier keyed in a small program that played the song \"The Fool on the Hill\" on a nearby AM radio, through the use of radio frequency interference or static controlled by the timing loops in the program. Gates, who could not figure out how the computer could broadcast to the radio, described this in the July 1975 edition of \"Computer Notes\" as \"the best demo program I\\'ve seen for the Altair\".\\nThe June 1975 \"Homebrew Computer Club Newsletter\" carried this item written by Fred Moore, Editor:\\nThe MITS MOBILE came to Rickey\\'s Hyatt House in Palo Alto June 5th &amp; 6th. The room was packed (150+) with amateurs and experimenters eager to find out about this new electronic toy. \\nAt the same June seminar, a paper tape containing a pre-release version of Altair BASIC disappeared. The tape was given to Dompier, who passed it on to Dan Sokol, who had access to a high speed tape punch. At the next Homebrew Computer Club meeting, 50 copies of Altair BASIC on paper tape appeared in a cardboard box.\\nMITS offered a complete Altair system with two MITS 4K Dynamic RAM boards, a serial interface board and Altair BASIC for $995. However, the $264 MITS RAM boards were unreliable, due to several component and design problems. An enterprising Homebrew Computer Club member, Robert Marsh, designed a 4K static memory that was plug-in compatible with the Altair 8800, and sold it for $255. His company, Processor Technology, became one of the most successful Altair compatible board suppliers. As a result of Dompier\\'s copying of Altair BASIC and Marsh\\'s third-party 4k static memory plug-in, many Altair 8800 computer owners came to skip purchasing the bundled package from MITS directly, instead purchasing their memory boards from a third-party supplier and using a \"borrowed\" copy of Altair BASIC.\\nEd Roberts acknowledged the 4K Dynamic RAM board problems in the October 1975 \"Computer Notes\". The price was reduced from $264 to $195, and existing purchasers got a $50 rebate; the full price for 8K Altair BASIC was reduced to $200, though Roberts declined a customer\\'s request that MITS give BASIC to customers for free, noting that MITS had made a \"$180,000 royalty commitment to Micro Soft\". Roberts also wrote that \"Anyone who is using a stolen copy of MITS BASIC should identify himself for what he is, a thief\", and described third-party hardware suppliers as \"parasite companies\". The newly-released Processor Technology static RAM board drew more current than the MITS dynamic RAM board, with the addition of two or three boards taxing the Altair 8800\\'s power supply. As a consequence, Howard Fullmer began selling a power supply upgrade for the Altair, naming his company \"Parasitic Engineering\" as a nod to Roberts\\' comments. Fullmer would later help define the industry standard for Altair compatible boards, the S-100 bus standard. The next year, 1976, would see many Altair bus computer clones such as the IMSAI 8080 and the Processor Technology Sol-20.\\nOpen letter.\\nAt the end of 1975, MITS was shipping a thousand computers a month, but copies of BASIC were selling in the low hundreds. Additional software projects required more resources; the MITS 8-inch floppy disk system was about to be released, as was the MITS 680B computer based on the Motorola 6800. A high school friend of Allen and Gates, Ric Weiland, was hired to convert the 8080 BASIC to the 6800 microprocessor. David Bunnell, \"Computer Notes\" Editor, was sympathetic to Gates\\' position. He wrote in the September 1975 issue that \"customers have been ripping off MITS software\".\\nNow I ask you--does a musician have the right to collect the royalty on the sale of his records or does a writer have the right to collect the royalty on the sale of his books? Are people who copy software any different than those who copy records and books? \\nGates, keen to attempt to explain the cost of developing software to the hobbyist community, restated much of what Bunnell had written in September and what Roberts had written in October; however, the tone of his letter was different, instead emphasising Gates\\' view that hobbyists were stealing from him personally, and not from a corporation.\\nWhy is this? As the majority of hobbyists must be aware, most of you steal your software. Hardware must be paid for, but software is something to share. Who cares if the people who worked on it get paid?\\nOne of the principal targets of the letter was the Homebrew Computer Club, with a copy sent to the club directly. The letter also appeared in \"Computer Notes\". To ensure the letter would be noticed, Bunnell sent the letter via special delivery mail to every major computer publication in the country.\\nIn the letter, Gates also mentioned the development of the APL programming language for the 8080 and 6800 microprocessors, a programming language in vogue with some other computer scientists in the 1970s. The language, which used a character set based on the Greek alphabet, required special terminals to implement that most hobbyist terminals did not have; as well as not displaying symbols from the Greek alphabet, most hobbyist terminals did not even display lowercase letters. Though Gates was enamored with APL, Allen did not believe it could be sold as a product; interest in the project soon faded, and the software itself was never completed.\\nReaction.\\nFollowing the difficulties with receiving piecemeal royalties, Microsoft switched to a fixed-priced contract with MITS, who would pay $31,200 for a non-exclusive license of 6800 BASIC. The future sales of BASIC for the Commodore PET, the Apple II, the Radio Shack TRS-80 and others were all fixed-price contracts.\\nIn early 1976 ads for its Apple I computer, Apple Inc made the claims that \"our philosophy is to provide software for our machines free or at minimal cost\", emphasising that Apple BASIC was free.\\nMicrosoft\\'s software development was done on a DEC PDP-10 mainframe computer system, with Allen having developed a program that could completely simulate a new microprocessor system. This allowed Microsoft to write and debug software before the new computer hardware was complete. The company was charged by the hour and by the amount of resources (such as storage and printing) used, the \"$40,000 of computer time\" mentioned in the letter. As a result of these software developments, the 6800 BASIC was complete before the Altair 680 was finished, with the 680 hardware arriving months late.\\nHal Singer of the \"Micro-8 Newsletter\" published an open letter to Roberts, pointing out that MITS promised a computer for $395, but that the price for a working system was $1000. He suggested a class action lawsuit or a Federal Trade Commission investigation into false advertising was in order. Hal also noted that rumors were circulating that Gates had developed BASIC on a Harvard University computer funded by the US government, and that customers should not pay for software already paid for by the taxpayer. Gates, Allen and Davidoff had used a PDP-10 at Harvard\\'s Aiken Computer Center, the computer system of which had been funded by the Department of Defence through its Defence Advanced Research Projects Agency; Harvard officials were not pleased that Gates and Allen (who was not a student) had used the PDP-10 to develop a commercial product, but determined that the computer itself, which technically belonged to the military, was not covered by any Harvard policy; the PDP-10 was controlled by Professor Thomas Cheatham, who felt that students could use the machine for personal use. Harvard placed restrictions on the computer\\'s use, and Gates and Allen had to use a commercial time share computer in Boston to finalize the software.\\nIn 2008, Homebrew member Lee Felsenstein recalled similar doubts about Gates\\' $40,000 number: \"Well, we all knew [that] the evaluation of computer time was the ultimate in funny money. You never pay that much for the computer time and I think that research will show that they were using someone else\\'s computer time; someone else was paying for that. It could have been Honeywell where Paul Allen was working. So we all knew this to be a spurious argument.\"\\nAccording to Felsenstein, Gates\\' letter \"delineated a rift [between] the actual industry where there\\'s trying to make money and there\\'s those hobbyist where we\\'re trying to make things happen\";\\nThe industry needs the hobbyists and this was illustrated by what happened eventually. When National Semiconductor, which made their own microprocessor chips in \\'77 or \\'78, decided they needed a BASIC ... they asked, \\'What\\'s the most popular BASIC?\\' And the answer was Microsoft BASIC because everybody had copied it and everybody was using it. So we made Microsoft the standard BASIC. National Semiconductor went to Microsoft and bought a license, they were in business that way. This was the marketing function and the hobbyists did the marketing with a complete antipathy of the company in question. There were other BASICs and, you know, some of them might even have been better. ... [Gates\\' later success] was in a certain measure because of what we did, that he said we shouldn\\'t do, we were thieves to do it, and all.\\nJim Warren, Homebrew Computer Club Member and editor of \"Dr. Dobb\\'s Journal\", wrote in the July 1976 ACM Programming Language newsletter about the successful Tiny BASIC project. The goal was to create BASIC language interpreters for microprocessor based computers. The project had started in late 1975, but the \"Open Letter\" motivated many hobbyists to participate. Computer clubs and individuals from all parts of the United States and the world soon created Tiny BASIC interpreters for the Intel 8080, the Motorola 6800 and MOS Technology 6502 processors. The assembly language source code was published or the software was sold for five or ten dollars.\\nMagazines that published the letter.\\nSeveral responses to the letter were published, including one from Bill Gates.'}\n",
      "score: 5.756772 source: {'id': '286586', 'revid': '1023274069', 'url': 'https://en.wikipedia.org/wiki?curid=286586', 'title': 'Carnegie Mellon School of Computer Science', 'text': 'The School of Computer Science (SCS) at Carnegie Mellon University in Pittsburgh, Pennsylvania, US is a school for computer science established in 1988. It has been consistently ranked among the top computer science programs over the decades. U.S. News &amp; World Report currently ranks the graduate program as tied for 1st with Massachusetts Institute of Technology, Stanford University, and University of California, Berkeley. It is ranked 1st in the United States on Computer Science Open Rankings, which combines scores from multiple independent rankings. \\nIn the past 15 years, researchers from Carnegie Mellon\\'s School of Computer Science have made developments in the fields of algorithms, computer networks, distributed systems, parallel processing, programming languages, computational biology, robotics, language technologies, human–computer interaction and software engineering.\\nHistory.\\nIn July 1965, Allen Newell, Herbert A. Simon, and Alan J. Perlis, in conjunction with the faculty from the Graduate School of Industrial Administration (GSIA, renamed Tepper School of Business in 2004), staff from the newly formed Computation Center, and key administrators created the Computer Science Department, one of the first such departments in the nation. Their mission statement was \"to cultivate a course of study leading to the PhD degree in computer science, a program that would exploit the new technology and assist in establishing a discipline of computer science.\" The educational program, formally accepted in October 1965, drew its first graduate students from several existing academic disciplines: mathematics, electrical engineering, psychology, and the interdisciplinary Systems and Communications Sciences program in the Graduate School of Industrial Administration. The department was housed within the Mellon College of Science.\\nWith support from Newell, Simon, Nico Haberman, Provost Angel Jordan and President Richard Cyert, the computer science department began a two-year status as a \"floating\" department in the early months of 1986. Then, the Department began to grow, both academically and financially. In 1988, the School of Computer Science was established, among the first such schools in the country. The Computer Science Department was the original department within the school.\\nStructure in the 1970s.\\nDuring the 1970s the Computer Science Department offered only a PhD study program, with no master\\'s degree as an intermediate step. The PhD program required a minimum of six years of residency. It was called the \"do or die\" program among the graduate students, because a student could not drop a PhD and receive a master\\'s degree. It had quickly focused on computer networking, operating systems (Mach), and robotics.\\nSCS today.\\nStudent organizations.\\nWomen@SCS is an educational program at Carnegie Mellon whose mission is to create, encourage, and support women\\'s academic, social and professional opportunities in the computer sciences and to promote the breadth of the field and its diverse community. Women@SCS has initiated programs, such as the Big/Little Sister program for undergraduates, the invited Speaker Series for graduates, as well as dinners and other social and academic events. Women@SCS also sponsors outreach projects such as \"Is there a robot in your future?\" workshop for middle school girls. In general, the committee strives to promote a healthy and supportive community atmosphere.\\nSCS4ALL is an umbrella organization at Carnegie Mellon that promotes diversity in the School of Computer Science and coordinates outreach programs to broaden interest, understanding, and diversity in computing. SCS4ALL shares many of the core goals of Women@SCS and has expanded to develop more inclusive programs. Within SCS, the organization works to develop social and professional activities and leadership opportunities, such as the social trivia night, the \"Develop Your Elevator Pitch\" event, panel discussions with industry leaders, and the annual celebration of diversity SCS Day. In outreach, the organization organizes interactive presentations about computer science at local elementary, middle, and high schools. SCS4ALL is open to all students in the SCS and seeks to involve all communities in SCS in shaping the organization and its events.\\nGates and Hillman Centers.\\nThe Gates Center for Computer Science and the Hillman Center for Future-Generation Technologies are home to much of the School of Computer Science. The $98 million complex was opened in 2009.\\nIt has of floor space, including about 310 offices, 11 conference rooms, 32 labs, of project space and the Planetary Robotics Center. It also houses 12 classrooms, including a 250-seat auditorium.\\nAdditionally, the Gates Center connects to the Purnell Center, which houses the School of Drama, via the Randy Pausch Memorial Footbridge. The bridge represents Professor Pausch\\'s own devotion to linking computer science and entertainment, as he was a co-founder of Carnegie Mellon\\'s Entertainment Technology Center.\\nMack Scogin Merril Elam Architects of Atlanta, Georgia were the lead architects. The centers were designed to achieve at least a LEED (Leadership in Energy and Environmental Design) Silver rating.\\nSmiley face.\\nSCS research professor Scott Fahlman is credited with the invention of the smiley face emoticon. He suggested the emoticon on an electronic board in 1982 as a way for board readers to know when an author was joking. The text of Fahlman\\'s original post was lost for nearly 20 years but was later recovered from backup tapes:\\nTartan Racing.\\nTartan Racing is a collaboration between Carnegie Mellon and General Motors Corporation that competes in the DARPA Grand Challenge. The Grand Challenge is a competition for driverless cars sponsored by Defense Advanced Research Projects Agency (DARPA). Tartan Racing is led by Carnegie Mellon roboticist William L. \"Red\" Whittaker.\\nIn 2007, Tartan Racing won the DARPA Urban Challenge, in which 11 autonomous ground vehicles raced over urban roadways. In the challenge, team vehicles were required to obey all California driving laws, share the road with other drivers and robotic cars, and complete the course in under six hours. Tartan Racing won the $2 million cash prize with Boss, a reworked 2007 Chevy Tahoe. Averaging about an hour for a trip, Boss beat the second-place team, Stanford Racing, by just under 20 minutes.\\nSCS honors and awards.\\nThe School established a number of honors and awards.\\nFaculty.\\nFaculty members from the School of Computer Science have received international recognition for achievements within their fields. These honors include memberships and fellowships in the National Academy of Sciences, the National Academy of Engineering, the American Association for the Advancement of Science, the Association for Computing Machinery, the Institute for Electrical and Electronic Engineers and The Alfred P. Sloan Foundation. Twelve SCS faculty and alumni have won the A. M. Turing Award, the Association for Computing Machinery\\'s most prestigious award, often called the \"Nobel Prize of computing.\" These include Raj Reddy, Manuel Blum and Edmund M. Clarke of the active faculty, in addition to Emeritus Faculty Dana Scott.'}\n",
      "score: 5.7454333 source: {'id': '169633', 'revid': '1018666501', 'url': 'https://en.wikipedia.org/wiki?curid=169633', 'title': 'Outline of computer science', 'text': 'Computer science (also called computing science) is the study of the theoretical foundations of information and computation and their implementation and application in computer systems. One well known subject classification system for computer science is the ACM Computing Classification System devised by the Association for Computing Machinery.\\nWhat is computer science?\\nComputer science can be described as all of the following:\\nSubfields.\\nArtificial intelligence.\\nOutline of artificial intelligence\\nDatabases.\\nOutline of databases\\nSoftware engineering.\\nOutline of software engineering\\nExternal links.\\n[[Category:Outlines of sciences|Computer science]]\\n[[Category:Wikipedia outlines|Computer science]]\\n[[Category:Computer science|Outline]]\\n[[Category:Computing-related lists|Computer science topics]]'}\n"
     ]
    }
   ],
   "source": [
    "results = es.search(index=index_name, body={'from':0, 'size':5, 'query':{'match':{'text':'computer'}}})\n",
    "for result in results['hits']['hits']:\n",
    "    print('score:', result['_score'], 'source:', result['_source'])"
   ]
  },
  {
   "cell_type": "code",
   "execution_count": null,
   "metadata": {},
   "outputs": [],
   "source": []
  },
  {
   "cell_type": "code",
   "execution_count": null,
   "metadata": {},
   "outputs": [],
   "source": []
  },
  {
   "cell_type": "code",
   "execution_count": null,
   "metadata": {},
   "outputs": [],
   "source": []
  },
  {
   "cell_type": "code",
   "execution_count": null,
   "metadata": {},
   "outputs": [],
   "source": []
  },
  {
   "cell_type": "code",
   "execution_count": null,
   "metadata": {},
   "outputs": [],
   "source": []
  },
  {
   "cell_type": "code",
   "execution_count": null,
   "metadata": {},
   "outputs": [],
   "source": []
  }
 ],
 "metadata": {
  "kernelspec": {
   "display_name": "Python 3",
   "language": "python",
   "name": "python3"
  },
  "language_info": {
   "codemirror_mode": {
    "name": "ipython",
    "version": 3
   },
   "file_extension": ".py",
   "mimetype": "text/x-python",
   "name": "python",
   "nbconvert_exporter": "python",
   "pygments_lexer": "ipython3",
   "version": "3.8.2"
  }
 },
 "nbformat": 4,
 "nbformat_minor": 4
}
