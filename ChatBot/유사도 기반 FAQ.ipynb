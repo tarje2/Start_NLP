{
 "cells": [
  {
   "cell_type": "code",
   "execution_count": null,
   "metadata": {},
   "outputs": [],
   "source": []
  },
  {
   "cell_type": "code",
   "execution_count": 1,
   "metadata": {},
   "outputs": [],
   "source": [
    "import pandas as pd\n",
    "from pandas import DataFrame as df\n",
    "import numpy as np\n",
    "import re"
   ]
  },
  {
   "cell_type": "code",
   "execution_count": 2,
   "metadata": {},
   "outputs": [],
   "source": [
    "faq = pd.read_csv('./FAQ_List.csv', low_memory=False)\n",
    "#faq = pd.read_csv('./공지2.csv', low_memory=False)"
   ]
  },
  {
   "cell_type": "code",
   "execution_count": 3,
   "metadata": {},
   "outputs": [
    {
     "data": {
      "text/html": [
       "<div>\n",
       "<style scoped>\n",
       "    .dataframe tbody tr th:only-of-type {\n",
       "        vertical-align: middle;\n",
       "    }\n",
       "\n",
       "    .dataframe tbody tr th {\n",
       "        vertical-align: top;\n",
       "    }\n",
       "\n",
       "    .dataframe thead th {\n",
       "        text-align: right;\n",
       "    }\n",
       "</style>\n",
       "<table border=\"1\" class=\"dataframe\">\n",
       "  <thead>\n",
       "    <tr style=\"text-align: right;\">\n",
       "      <th></th>\n",
       "      <th>Unnamed: 0</th>\n",
       "      <th>FAQ</th>\n",
       "      <th>Answer</th>\n",
       "    </tr>\n",
       "  </thead>\n",
       "  <tbody>\n",
       "    <tr>\n",
       "      <th>0</th>\n",
       "      <td>1</td>\n",
       "      <td>[회원 가입 및 로그인]\\n로그인 계정(아이디(ID), 패스워드(Password))...</td>\n",
       "      <td>홈&gt;로그인&gt;ID 및 PW 찾기 를 이용해주세요.</td>\n",
       "    </tr>\n",
       "    <tr>\n",
       "      <th>1</th>\n",
       "      <td>2</td>\n",
       "      <td>[회원 가입 및 로그인]\\n회원 탈퇴를 하고 싶어요</td>\n",
       "      <td>로그인 후, 홈&gt;My Page&gt;회원 탈퇴 메뉴를 이용해 주세요.</td>\n",
       "    </tr>\n",
       "    <tr>\n",
       "      <th>2</th>\n",
       "      <td>3</td>\n",
       "      <td>[회원 가입 및 로그인]\\n회원 탈퇴 후, 재가입을 하고 싶어요</td>\n",
       "      <td>회원 탈퇴를 하신후 재가입을 원하신다면, 탈퇴한 ID는 사용 불가합니다.\\n기존과 ...</td>\n",
       "    </tr>\n",
       "    <tr>\n",
       "      <th>3</th>\n",
       "      <td>4</td>\n",
       "      <td>[주문 / 결제 / 배송]\\n주문 후 배송지 변경을 하고 싶어요</td>\n",
       "      <td>배송지 변경은 My Page&gt;주문배송조회&gt;주문상세 에서 변경 가능하며, 자세한 내용...</td>\n",
       "    </tr>\n",
       "    <tr>\n",
       "      <th>4</th>\n",
       "      <td>5</td>\n",
       "      <td>[주문 / 결제 / 배송]\\n비회원도 주문이 가능한가요?</td>\n",
       "      <td>네, 비회원으로도 주문 가능합니다.\\n다만 비회원 주문시 쿠폰이용, 일부 상품 할인...</td>\n",
       "    </tr>\n",
       "    <tr>\n",
       "      <th>5</th>\n",
       "      <td>6</td>\n",
       "      <td>[취소 / 교환 / 환불]\\n주문 취소시, 쿠폰도 환불되나요?</td>\n",
       "      <td>결제 완료 상태인 고객님의 주문 취소시, 적용된 쿠폰은 모두 복원 됩니다.\\n하지만...</td>\n",
       "    </tr>\n",
       "    <tr>\n",
       "      <th>6</th>\n",
       "      <td>7</td>\n",
       "      <td>[취소 / 교환 / 환불]\\n카드 환불은 언제 되나요?</td>\n",
       "      <td>고객님의 카드 환불은 카드사의 확인이 영업일 기준 3~5일 정도 소요됩니다.</td>\n",
       "    </tr>\n",
       "    <tr>\n",
       "      <th>7</th>\n",
       "      <td>8</td>\n",
       "      <td>[취소 / 교환 / 환불]\\n주문을 취소하고 싶어요</td>\n",
       "      <td>주문 취소는 '결제 완료' 단계의 상품만 가능합니다.\\n이미 상품이 '배송중'이거나...</td>\n",
       "    </tr>\n",
       "    <tr>\n",
       "      <th>8</th>\n",
       "      <td>9</td>\n",
       "      <td>[취소 / 교환 / 환불]\\n인터넷으로 주문한 상품은 매장에서 교환 및 환불이 되나요?</td>\n",
       "      <td>온라인에서 주문한 상품은 출고된 매장에서만 교환 및 환불이 가능합니다.\\n예를들어,...</td>\n",
       "    </tr>\n",
       "    <tr>\n",
       "      <th>9</th>\n",
       "      <td>10</td>\n",
       "      <td>[상품]\\n상품 및 서비스에 대한 문의는 어디서 해야하나요?</td>\n",
       "      <td>홈페이지내 고객센터 페이지에서 1:1 상담 또는 고객센터 대표 전화(02-xxxx-...</td>\n",
       "    </tr>\n",
       "    <tr>\n",
       "      <th>10</th>\n",
       "      <td>11</td>\n",
       "      <td>[상품]\\n상품 리뷰는 어디서 작성하나요?</td>\n",
       "      <td>상품리뷰는 주문하신 제품에 대해서만 작성 가능합니다.\\n\\n※ 리뷰 작성 방법\\n1...</td>\n",
       "    </tr>\n",
       "  </tbody>\n",
       "</table>\n",
       "</div>"
      ],
      "text/plain": [
       "    Unnamed: 0                                                FAQ  \\\n",
       "0            1  [회원 가입 및 로그인]\\n로그인 계정(아이디(ID), 패스워드(Password))...   \n",
       "1            2                       [회원 가입 및 로그인]\\n회원 탈퇴를 하고 싶어요   \n",
       "2            3                [회원 가입 및 로그인]\\n회원 탈퇴 후, 재가입을 하고 싶어요   \n",
       "3            4                [주문 / 결제 / 배송]\\n주문 후 배송지 변경을 하고 싶어요   \n",
       "4            5                    [주문 / 결제 / 배송]\\n비회원도 주문이 가능한가요?   \n",
       "5            6                 [취소 / 교환 / 환불]\\n주문 취소시, 쿠폰도 환불되나요?   \n",
       "6            7                     [취소 / 교환 / 환불]\\n카드 환불은 언제 되나요?   \n",
       "7            8                       [취소 / 교환 / 환불]\\n주문을 취소하고 싶어요   \n",
       "8            9   [취소 / 교환 / 환불]\\n인터넷으로 주문한 상품은 매장에서 교환 및 환불이 되나요?   \n",
       "9           10                  [상품]\\n상품 및 서비스에 대한 문의는 어디서 해야하나요?   \n",
       "10          11                            [상품]\\n상품 리뷰는 어디서 작성하나요?   \n",
       "\n",
       "                                               Answer  \n",
       "0                          홈>로그인>ID 및 PW 찾기 를 이용해주세요.  \n",
       "1                 로그인 후, 홈>My Page>회원 탈퇴 메뉴를 이용해 주세요.  \n",
       "2   회원 탈퇴를 하신후 재가입을 원하신다면, 탈퇴한 ID는 사용 불가합니다.\\n기존과 ...  \n",
       "3   배송지 변경은 My Page>주문배송조회>주문상세 에서 변경 가능하며, 자세한 내용...  \n",
       "4   네, 비회원으로도 주문 가능합니다.\\n다만 비회원 주문시 쿠폰이용, 일부 상품 할인...  \n",
       "5   결제 완료 상태인 고객님의 주문 취소시, 적용된 쿠폰은 모두 복원 됩니다.\\n하지만...  \n",
       "6          고객님의 카드 환불은 카드사의 확인이 영업일 기준 3~5일 정도 소요됩니다.  \n",
       "7   주문 취소는 '결제 완료' 단계의 상품만 가능합니다.\\n이미 상품이 '배송중'이거나...  \n",
       "8   온라인에서 주문한 상품은 출고된 매장에서만 교환 및 환불이 가능합니다.\\n예를들어,...  \n",
       "9   홈페이지내 고객센터 페이지에서 1:1 상담 또는 고객센터 대표 전화(02-xxxx-...  \n",
       "10  상품리뷰는 주문하신 제품에 대해서만 작성 가능합니다.\\n\\n※ 리뷰 작성 방법\\n1...  "
      ]
     },
     "execution_count": 3,
     "metadata": {},
     "output_type": "execute_result"
    }
   ],
   "source": [
    "faq"
   ]
  },
  {
   "cell_type": "code",
   "execution_count": 5,
   "metadata": {},
   "outputs": [
    {
     "data": {
      "text/plain": [
       "'홈>로그인>ID 및 PW 찾기 를 이용해주세요.'"
      ]
     },
     "execution_count": 5,
     "metadata": {},
     "output_type": "execute_result"
    }
   ],
   "source": [
    "faq.Answer[0]"
   ]
  },
  {
   "cell_type": "code",
   "execution_count": 6,
   "metadata": {},
   "outputs": [],
   "source": [
    "# 코사인 유사도 \n",
    "\n",
    "def cos_similarity(v1, v2):\n",
    "    dot_product = np.dot(v1, v2)\n",
    "    l2_norm = (np.sqrt(sum(np.square(v1))) * np.sqrt(sum(np.square(v2))))\n",
    "    similarity = dot_product / l2_norm     \n",
    "    \n",
    "    return similarity"
   ]
  },
  {
   "cell_type": "code",
   "execution_count": 7,
   "metadata": {},
   "outputs": [],
   "source": [
    "from konlpy.tag import Okt\n",
    "okt = Okt()\n",
    "stopwords = ['은','는','이','가']"
   ]
  },
  {
   "cell_type": "code",
   "execution_count": 8,
   "metadata": {},
   "outputs": [],
   "source": [
    "from pykospacing import spacing # 띄어쓰기 교정\n",
    "from hanspell import spell_checker # 맞춤법 교정"
   ]
  },
  {
   "cell_type": "code",
   "execution_count": 10,
   "metadata": {},
   "outputs": [],
   "source": [
    "temp = pd.DataFrame(columns=['FAQ'])\n",
    "temp['FAQ'] = faq['FAQ'].copy()\n",
    "temp['FAQ'] = temp['FAQ'].str.replace(\"[^ㄱ-ㅎㅏ-ㅣ가-힣 0-9 a-zA-Z]\",\" \")\n",
    "\n",
    "for i in range(len(temp)):   \n",
    "    temp['FAQ'][i] = temp['FAQ'][i].lower()\n",
    "    temp['FAQ'][i] = spacing(temp['FAQ'][i]) #띄어쓰기 교정\n",
    "    temp['FAQ'][i] = spell_checker.check(temp['FAQ'][i]).checked # 맞춤법 교정\n",
    "    \n",
    "    temp['FAQ'][i] = okt.morphs(temp['FAQ'][i], stem=True)\n",
    "    temp['FAQ'][i] = [word for word in temp['FAQ'][i] if not word in stopwords]\n",
    "faq['FAQ2'] = temp['FAQ'].copy()"
   ]
  },
  {
   "cell_type": "code",
   "execution_count": null,
   "metadata": {},
   "outputs": [],
   "source": []
  },
  {
   "cell_type": "code",
   "execution_count": 27,
   "metadata": {},
   "outputs": [
    {
     "name": "stdin",
     "output_type": "stream",
     "text": [
      "사용자 질문 :  주문 취소\n"
     ]
    }
   ],
   "source": [
    "# 챗봇 사용자 채팅\n",
    "\n",
    "usr_question = input(\"사용자 질문 : \")"
   ]
  },
  {
   "cell_type": "code",
   "execution_count": 28,
   "metadata": {},
   "outputs": [
    {
     "name": "stdout",
     "output_type": "stream",
     "text": [
      "['주문', '취소']\n"
     ]
    }
   ],
   "source": [
    "### 사용자 질문 처리\n",
    "\n",
    "question = re.sub(\"[^ㄱ-ㅎㅏ-ㅣ가-힣 0-9 a-zA-Z]\", \" \", usr_question)\n",
    "question = question.lower()\n",
    "question = spacing(question)\n",
    "question = spell_checker.check(question).checked\n",
    "question = okt.morphs(question, stem=True)\n",
    "question = [word for word in question if not word in stopwords]\n",
    "\n",
    "print(question)   "
   ]
  },
  {
   "cell_type": "code",
   "execution_count": 30,
   "metadata": {},
   "outputs": [],
   "source": [
    "question = ' '.join(question)\n",
    "temp_list = [question]\n",
    "\n",
    "for i in range(len(faq['FAQ2'])):\n",
    "    join_str = ' '.join(faq['FAQ2'][i])\n",
    "    temp_list.append(join_str)"
   ]
  },
  {
   "cell_type": "code",
   "execution_count": 31,
   "metadata": {},
   "outputs": [],
   "source": [
    "from sklearn.feature_extraction.text import TfidfVectorizer\n",
    "\n",
    "tfidf_vect_simple = TfidfVectorizer()\n",
    "feature_vect_simple = tfidf_vect_simple.fit_transform(temp_list)\n",
    "#print(feature_vect_simple.shape)\n",
    "#print(type(feature_vect_simple))\n",
    "\n",
    "# TFidfVectorizer로 transform()한 결과는 Sparse Matrix이므로 Dense Matrix로 변환.\n",
    "feature_vect_dense = feature_vect_simple.todense()\n",
    "\n",
    "#첫번째 문장과 두번째 문장의 feature vector  추출\n",
    "#vect1 = np.array(feature_vect_dense[0]).reshape(-1,)\n",
    "#vect2 = np.array(feature_vect_dense[1]).reshape(-1,)\n",
    "\n",
    "#첫번째 문장과 두번째 문장의 feature vector로 두개 문장의 Cosine 유사도 추출\n",
    "#similarity_simple = cos_similarity(vect1, vect2)\n",
    "#print('문장 1, 문장 2 Cosine 유사도: {0:.3f}'.format(similarity_simple))"
   ]
  },
  {
   "cell_type": "code",
   "execution_count": 32,
   "metadata": {},
   "outputs": [
    {
     "name": "stdout",
     "output_type": "stream",
     "text": [
      "[0.         0.         0.         0.31917922 0.34896902 0.53945958\n",
      " 0.19852764 0.62794778 0.27042416 0.         0.        ]\n"
     ]
    }
   ],
   "source": [
    "from sklearn.metrics.pairwise import cosine_similarity\n",
    "\n",
    "#similarity_simple_pair = cosine_similarity(feature_vect_simple[0] , feature_vect_simple)\n",
    "#print(similarity_simple_pair)\n",
    "\n",
    "similarity_simple_pair = cosine_similarity(feature_vect_simple , feature_vect_simple)\n",
    "#print(similarity_simple_pair)\n",
    "#print(similarity_simple_pair[0][1:])\n",
    "result = similarity_simple_pair[0][1:]\n",
    "print(result)"
   ]
  },
  {
   "cell_type": "code",
   "execution_count": 33,
   "metadata": {},
   "outputs": [],
   "source": [
    "val_index = np.argmax(result)\n",
    "result_dic = dict(enumerate(result))\n",
    "res = sorted(result_dic.items(), key=(lambda x: x[1]), reverse = True)"
   ]
  },
  {
   "cell_type": "code",
   "execution_count": 34,
   "metadata": {},
   "outputs": [
    {
     "name": "stdout",
     "output_type": "stream",
     "text": [
      "질문 : 주문 취소\n",
      "\n",
      "[유사도 기반 FAQ List Top3]\n",
      "\n",
      "1 . [취소 / 교환 / 환불]\n",
      "주문을 취소하고 싶어요\n",
      "주문 취소는 '결제 완료' 단계의 상품만 가능합니다.\n",
      "이미 상품이 '배송중'이거나 '배송 완료'의 경우에는 수령 후 교환 및 반품신청을 해주시기 바랍니다.\n",
      "\n",
      "\n",
      "2 . [취소 / 교환 / 환불]\n",
      "주문 취소시, 쿠폰도 환불되나요?\n",
      "결제 완료 상태인 고객님의 주문 취소시, 적용된 쿠폰은 모두 복원 됩니다.\n",
      "하지만 사용기한이 지난 쿠폰의 경우에는 쿠폰 재발행은 불가합니다.\n",
      "\n",
      "\n",
      "3 . [주문 / 결제 / 배송]\n",
      "비회원도 주문이 가능한가요?\n",
      "네, 비회원으로도 주문 가능합니다.\n",
      "다만 비회원 주문시 쿠폰이용, 일부 상품 할인, 행사 적용, 이벤트 참여 등의 회원 혜택이 제한됩니다.\n",
      "\n",
      "\n",
      "※찾고자하는 답변이 아니신가요? 그렇다면 필수 단어 위주로 검색해보세요.\n"
     ]
    }
   ],
   "source": [
    "print(\"질문 : \" + usr_question)\n",
    "#print(\"질문(필터링) : \" + question + \"\\n\")\n",
    "print(\"\\n[유사도 기반 FAQ List Top3]\\n\")\n",
    "\n",
    "sum = 0\n",
    "seq = 1\n",
    "for k, v in res[:3]:\n",
    "    \n",
    "    if v != 0:\n",
    "        print(seq, \".\", faq['FAQ'][k])\n",
    "        print(faq['Answer'][k])\n",
    "        print(\"\\n\")\n",
    "        sum = sum+1\n",
    "        seq = seq+1\n",
    "        \n",
    "\n",
    "if sum == 0:\n",
    "    print(\"검색결과가 없습니다.\")\n",
    "    print(\"필수 단어 위주로 검색해보세요.\")\n",
    "    \n",
    "else:\n",
    "    #print('\\n')\n",
    "    print(\"※찾고자하는 답변이 아니신가요? 그렇다면 필수 단어 위주로 검색해보세요.\")"
   ]
  },
  {
   "cell_type": "code",
   "execution_count": null,
   "metadata": {},
   "outputs": [],
   "source": []
  },
  {
   "cell_type": "code",
   "execution_count": null,
   "metadata": {},
   "outputs": [],
   "source": []
  },
  {
   "cell_type": "code",
   "execution_count": null,
   "metadata": {},
   "outputs": [],
   "source": []
  },
  {
   "cell_type": "code",
   "execution_count": null,
   "metadata": {},
   "outputs": [],
   "source": []
  },
  {
   "cell_type": "code",
   "execution_count": null,
   "metadata": {},
   "outputs": [],
   "source": []
  },
  {
   "cell_type": "code",
   "execution_count": null,
   "metadata": {},
   "outputs": [],
   "source": []
  }
 ],
 "metadata": {
  "kernelspec": {
   "display_name": "Python 3",
   "language": "python",
   "name": "python3"
  },
  "language_info": {
   "codemirror_mode": {
    "name": "ipython",
    "version": 3
   },
   "file_extension": ".py",
   "mimetype": "text/x-python",
   "name": "python",
   "nbconvert_exporter": "python",
   "pygments_lexer": "ipython3",
   "version": "3.8.2"
  }
 },
 "nbformat": 4,
 "nbformat_minor": 4
}
